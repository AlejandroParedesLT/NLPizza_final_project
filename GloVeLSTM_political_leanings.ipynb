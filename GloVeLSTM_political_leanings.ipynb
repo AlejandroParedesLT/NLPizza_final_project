{
 "cells": [
  {
   "cell_type": "markdown",
   "metadata": {},
   "source": [
    "# **Political Leaning using LSTMs for data augmentation**\n",
    "\n",
    "https://github.com/anuragjain-git/text-classification"
   ]
  },
  {
   "cell_type": "code",
   "execution_count": null,
   "metadata": {
    "vscode": {
     "languageId": "plaintext"
    }
   },
   "outputs": [],
   "source": []
  }
 ],
 "metadata": {
  "language_info": {
   "name": "python"
  }
 },
 "nbformat": 4,
 "nbformat_minor": 2
}
