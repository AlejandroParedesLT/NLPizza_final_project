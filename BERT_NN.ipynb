{
 "cells": [
  {
   "cell_type": "markdown",
   "metadata": {
    "id": "X2sMmlrTBL6W"
   },
   "source": [
    "# Alejandro Paredes, Parameter tuning of BERT\n",
    "\n",
    "https://arunm8489.medium.com/understanding-distil-bert-in-depth-5f2ca92cf1ed"
   ]
  },
  {
   "cell_type": "code",
   "execution_count": 1,
   "metadata": {
    "colab": {
     "base_uri": "https://localhost:8080/"
    },
    "id": "4pNpc6KmBRY4",
    "outputId": "a02a3279-1b48-48b8-da39-8402311f6642"
   },
   "outputs": [],
   "source": [
    "#from google.colab import drive\n",
    "#drive.mount('/content/gdrive')"
   ]
  },
  {
   "cell_type": "code",
   "execution_count": 2,
   "metadata": {},
   "outputs": [
    {
     "name": "stdout",
     "output_type": "stream",
     "text": [
      "CUDA is available!\n"
     ]
    }
   ],
   "source": [
    "import torch\n",
    "\n",
    "if torch.cuda.is_available():\n",
    "    print(\"CUDA is available!\")\n",
    "else:\n",
    "    print(\"CUDA is not available.\")"
   ]
  },
  {
   "cell_type": "code",
   "execution_count": 3,
   "metadata": {
    "colab": {
     "base_uri": "https://localhost:8080/"
    },
    "id": "MwAV24NJ-ZSj",
    "outputId": "ca33db64-8fcd-4613-f9d9-dba631f74faa"
   },
   "outputs": [],
   "source": [
    "#!pip install transformers datasets peft evaluate datasets contractions tweet-preprocessor"
   ]
  },
  {
   "cell_type": "code",
   "execution_count": 4,
   "metadata": {
    "colab": {
     "base_uri": "https://localhost:8080/",
     "height": 35
    },
    "id": "C2gg1Syx-s44",
    "outputId": "eb798168-37c2-45d0-e18b-69982ec24a05"
   },
   "outputs": [
    {
     "name": "stderr",
     "output_type": "stream",
     "text": [
      "c:\\Users\\ALEJANDRO\\Documents\\7. DUKE\\1. ECE 684 - NLP\\Assignments\\Final Project\\venv_lda_implementation\\Lib\\site-packages\\tqdm\\auto.py:21: TqdmWarning: IProgress not found. Please update jupyter and ipywidgets. See https://ipywidgets.readthedocs.io/en/stable/user_install.html\n",
      "  from .autonotebook import tqdm as notebook_tqdm\n"
     ]
    },
    {
     "data": {
      "text/plain": [
       "'cuda'"
      ]
     },
     "execution_count": 4,
     "metadata": {},
     "output_type": "execute_result"
    }
   ],
   "source": [
    "from datasets import load_dataset, DatasetDict, Dataset\n",
    "from transformers import (\n",
    "    AutoTokenizer,\n",
    "    DistilBertModel,\n",
    "    DistilBertTokenizer,\n",
    "    DataCollatorWithPadding,\n",
    "    TrainingArguments,\n",
    "    Trainer\n",
    ")\n",
    "from peft import PeftModel, PeftConfig, get_peft_model, LoraConfig\n",
    "import evaluate\n",
    "import torch\n",
    "import numpy as np\n",
    "\n",
    "from tqdm import tqdm\n",
    "\n",
    "import re\n",
    "import contractions\n",
    "import numpy as np\n",
    "\n",
    "import nltk\n",
    "from nltk.tokenize import word_tokenize\n",
    "from nltk.stem import WordNetLemmatizer\n",
    "from nltk.corpus import stopwords\n",
    "\n",
    "import preprocessor as p\n",
    "\n",
    "# Setting up the device for GPU usage\n",
    "from torch import cuda\n",
    "device = 'cuda' if cuda.is_available() else 'cpu'\n",
    "\n",
    "device"
   ]
  },
  {
   "cell_type": "code",
   "execution_count": 5,
   "metadata": {
    "colab": {
     "base_uri": "https://localhost:8080/"
    },
    "id": "Yrj-hSULAi_a",
    "outputId": "c2c054b0-7912-4250-f086-488b4b093400"
   },
   "outputs": [
    {
     "data": {
      "text/plain": [
       "DatasetDict({\n",
       "    train: Dataset({\n",
       "        features: ['id', 'date_publish', 'outlet', 'headline', 'lead', 'body', 'authors', 'domain', 'url', 'political_leaning'],\n",
       "        num_rows: 132046\n",
       "    })\n",
       "    test: Dataset({\n",
       "        features: ['id', 'date_publish', 'outlet', 'headline', 'lead', 'body', 'authors', 'domain', 'url', 'political_leaning'],\n",
       "        num_rows: 14672\n",
       "    })\n",
       "})"
      ]
     },
     "execution_count": 5,
     "metadata": {},
     "output_type": "execute_result"
    }
   ],
   "source": [
    "from datasets import load_dataset\n",
    "\n",
    "from transformers import BertTokenizerFast\n",
    "\n",
    "from torch.utils.data import DataLoader\n",
    "\n",
    "# Load all CSV files in the ./data directory\n",
    "#data_files = \"./data/*.csv\"\n",
    "\n",
    "# Load and combine the datasets\n",
    "dataset = load_dataset(\"csv\", data_files=\"./data/2017_1.csv\")#data_files)\n",
    "\n",
    "# Filter and split the dataset\n",
    "df  = dataset['train'].filter(\n",
    "    lambda example: example['headline'] is not None and example['headline'].strip() != ''\n",
    ").train_test_split(test_size=0.1)\n",
    "\n",
    "# Display the resulting dataset\n",
    "df "
   ]
  },
  {
   "cell_type": "code",
   "execution_count": 6,
   "metadata": {
    "id": "_8Wqw02VBL6f"
   },
   "outputs": [],
   "source": [
    "model_checkpoint = 'distilbert-base-uncased'\n",
    "\n",
    "#Define label maps\n",
    "id2label = {0:\"UNDEFINED\" ,1:\"LEFT\",2:\"RIGHT\",3:\"CENTER\"}\n",
    "label2id = {\"UNDEFINED\": 0, \"LEFT\": 1, \"RIGHT\": 2, \"CENTER\": 3}\n",
    "\n",
    "tokenizer =  DistilBertTokenizer.from_pretrained(model_checkpoint, add_prefix=True)"
   ]
  },
  {
   "cell_type": "code",
   "execution_count": 7,
   "metadata": {
    "id": "r1fchlLlBL6g"
   },
   "outputs": [],
   "source": [
    "#lemmatization and removing stopwords\n",
    "#nltk.download('punkt')\n",
    "#nltk.download('wordnet')\n",
    "#nltk.download('stopwords')\n",
    "\n",
    "#lemmatizer = WordNetLemmatizer()\n",
    "#stop_words = set(stopwords.words(\"english\"))\n",
    "\n",
    "p.set_options(p.OPT.URL, p.OPT.EMOJI, p.OPT.SMILEY)\n",
    "\n",
    "def preprocess(text):\n",
    "    def is_english_word(word):\n",
    "        \"\"\"Function to filter out non-English words.\"\"\"\n",
    "        return bool(re.match(r'^[a-zA-Z]+$', word))\n",
    "    text = text.lower()\n",
    "    text = contractions.fix(text)\n",
    "    text = re.sub(r'[^\\x00-\\x7F]+', ' ', text)\n",
    "    text = p.clean(text)\n",
    "    return text"
   ]
  },
  {
   "cell_type": "code",
   "execution_count": 8,
   "metadata": {
    "colab": {
     "base_uri": "https://localhost:8080/"
    },
    "id": "vKd0MpK9BFPv",
    "outputId": "82415701-c8f9-4104-a2e0-91c50eee79a1"
   },
   "outputs": [
    {
     "name": "stdout",
     "output_type": "stream",
     "text": [
      "Original Text:  The Merriam-Webster Dictionary Has Been Trolling Trump On Twitter For Months \n",
      "\n",
      "Tokenized Text:  ['the', 'mer', '##riam', '-', 'webster', 'dictionary', 'has', 'been', 'troll', '##ing', 'trump', 'on', 'twitter', 'for', 'months'] \n",
      "\n",
      "Token IDs:  [1996, 21442, 25557, 1011, 11635, 9206, 2038, 2042, 18792, 2075, 8398, 2006, 10474, 2005, 2706]\n",
      "Original Text:  White House Takes Flak for Letting Russian State Media Into Oval Office \n",
      "\n",
      "Tokenized Text:  ['white', 'house', 'takes', 'fl', '##ak', 'for', 'letting', 'russian', 'state', 'media', 'into', 'oval', 'office'] \n",
      "\n",
      "Token IDs:  [2317, 2160, 3138, 13109, 4817, 2005, 5599, 2845, 2110, 2865, 2046, 9242, 2436]\n",
      "Original Text:  Selle: Timing is everything for protesting scientists \n",
      "\n",
      "Tokenized Text:  ['sell', '##e', ':', 'timing', 'is', 'everything', 'for', 'protesting', 'scientists'] \n",
      "\n",
      "Token IDs:  [5271, 2063, 1024, 10984, 2003, 2673, 2005, 21248, 6529]\n",
      "Original Text:  Richard Collins III's death a grim reminder that hate thrives - even on campus \n",
      "\n",
      "Tokenized Text:  ['richard', 'collins', 'iii', \"'\", 's', 'death', 'a', 'grim', 'reminder', 'that', 'hate', 'thrive', '##s', '-', 'even', 'on', 'campus'] \n",
      "\n",
      "Token IDs:  [2957, 6868, 3523, 1005, 1055, 2331, 1037, 11844, 14764, 2008, 5223, 25220, 2015, 1011, 2130, 2006, 3721]\n",
      "Original Text:  Obama and Trudeau bring the bromance back \n",
      "\n",
      "Tokenized Text:  ['obama', 'and', 'tr', '##udeau', 'bring', 'the', 'bro', '##man', '##ce', 'back'] \n",
      "\n",
      "Token IDs:  [8112, 1998, 19817, 27627, 3288, 1996, 22953, 2386, 3401, 2067]\n"
     ]
    }
   ],
   "source": [
    "for i in range(5):\n",
    "    print('Original Text: ', df['train']['headline'][i], '\\n')\n",
    "    print('Tokenized Text: ', tokenizer.tokenize(preprocess(df['train']['headline'][i])), '\\n')\n",
    "    print('Token IDs: ', tokenizer.convert_tokens_to_ids(tokenizer.tokenize(df['train']['headline'][i])))\n",
    "\n",
    "#for i in range(2):\n",
    "    #print('Original Text: ', df['train']['body'][i], '\\n')\n",
    "    #print('Tokenized Text: ', tokenizer.tokenize(preprocess(df['train']['body'][i])), '\\n')\n",
    "    #print('Token IDs: ', tokenizer.convert_tokens_to_ids(tokenizer.tokenize(df['train']['body'][i])))\n"
   ]
  },
  {
   "cell_type": "code",
   "execution_count": 9,
   "metadata": {
    "colab": {
     "base_uri": "https://localhost:8080/"
    },
    "id": "B99-PUpHBL6i",
    "outputId": "2236512c-c887-4f9c-bb2d-3bca43abec77"
   },
   "outputs": [
    {
     "name": "stdout",
     "output_type": "stream",
     "text": [
      "1\n",
      "40\n",
      "0\n",
      "15\n",
      "17700\n",
      "87447\n"
     ]
    }
   ],
   "source": [
    "texts = df['train']['headline']\n",
    "\n",
    "# Handle None or missing values by filtering out None entries\n",
    "text_lengths = [len(text.split(' ')) if text is not None else 0 for text in texts]\n",
    "\n",
    "print(min(text_lengths))\n",
    "print(max(text_lengths))\n",
    "\n",
    "# Count how many texts have 300 or more words\n",
    "print(sum([1 for length in text_lengths if length >= 300]))\n",
    "\n",
    "# Repeat for the 'body' column\n",
    "texts = df['train']['body']\n",
    "\n",
    "# Handle None or missing values by filtering out None entries\n",
    "text_lengths = [len(text.split()) if text is not None else 0 for text in texts]\n",
    "\n",
    "print(min(text_lengths))\n",
    "print(max(text_lengths))\n",
    "\n",
    "# Count how many texts have 300 or more words\n",
    "print(sum([1 for length in text_lengths if length >= 300]))\n"
   ]
  },
  {
   "cell_type": "markdown",
   "metadata": {
    "id": "EWWgLAscBL6j"
   },
   "source": [
    "# **Creating a custom model**"
   ]
  },
  {
   "cell_type": "code",
   "execution_count": 31,
   "metadata": {
    "id": "k0vbHLyjBL6j"
   },
   "outputs": [],
   "source": [
    "# Creating the customized model, by adding a drop out and a dense layer on top of distil bert to get the final output for the model.\n",
    "\n",
    "class DistillBERTClass(torch.nn.Module):\n",
    "    def __init__(self):\n",
    "        super(DistillBERTClass, self).__init__()\n",
    "        self.l1 = DistilBertModel.from_pretrained(model_checkpoint, num_labels=8)\n",
    "\n",
    "        # Freeze DistilBERT parameters\n",
    "        for param in self.l1.parameters():\n",
    "            param.requires_grad = False\n",
    "\n",
    "        self.dropout = torch.nn.Dropout(0.3)\n",
    "        self.pre_classifier = torch.nn.Linear(768, 768)\n",
    "        self.fc1 = torch.nn.Linear(768, 1024)  # Input dimension is 768 for BERT\n",
    "        #self.fc2 = torch.nn.Linear(1024, 512)\n",
    "        self.classifier = torch.nn.Linear(1024, 5)\n",
    "        self.relu = torch.nn.ReLU()\n",
    "        self.relu = torch.nn.ReLU()\n",
    "        self.softmax = torch.nn.Softmax(dim=1)\n",
    "\n",
    "\n",
    "    def forward(self, input_ids, attention_mask):\n",
    "        output = self.l1(input_ids=input_ids, attention_mask=attention_mask)\n",
    "        hidden_state = output[0]\n",
    "        pooler = hidden_state[:, 0]\n",
    "        pooler = self.pre_classifier(pooler)\n",
    "        pooler = self.dropout(pooler)\n",
    "        pooler = self.fc1(pooler)\n",
    "        pooler = self.relu(pooler)\n",
    "        pooler = self.dropout(pooler)\n",
    "        #pooler = self.fc2(pooler)\n",
    "        #pooler = self.relu(pooler)\n",
    "        #pooler = self.dropout(pooler)\n",
    "        #pooler = self.fc3(pooler)\n",
    "        #pooler = self.softmax(pooler)\n",
    "        output = self.classifier(pooler)\n",
    "        output = self.softmax(output)\n",
    "        return output"
   ]
  },
  {
   "cell_type": "code",
   "execution_count": 38,
   "metadata": {
    "colab": {
     "base_uri": "https://localhost:8080/"
    },
    "id": "MjBjQXj4BL6j",
    "outputId": "5e40bd38-b4d1-4dc0-e6fc-5527e3faea3d"
   },
   "outputs": [
    {
     "data": {
      "text/plain": [
       "DistillBERTClass(\n",
       "  (l1): DistilBertModel(\n",
       "    (embeddings): Embeddings(\n",
       "      (word_embeddings): Embedding(30522, 768, padding_idx=0)\n",
       "      (position_embeddings): Embedding(512, 768)\n",
       "      (LayerNorm): LayerNorm((768,), eps=1e-12, elementwise_affine=True)\n",
       "      (dropout): Dropout(p=0.1, inplace=False)\n",
       "    )\n",
       "    (transformer): Transformer(\n",
       "      (layer): ModuleList(\n",
       "        (0-5): 6 x TransformerBlock(\n",
       "          (attention): DistilBertSdpaAttention(\n",
       "            (dropout): Dropout(p=0.1, inplace=False)\n",
       "            (q_lin): Linear(in_features=768, out_features=768, bias=True)\n",
       "            (k_lin): Linear(in_features=768, out_features=768, bias=True)\n",
       "            (v_lin): Linear(in_features=768, out_features=768, bias=True)\n",
       "            (out_lin): Linear(in_features=768, out_features=768, bias=True)\n",
       "          )\n",
       "          (sa_layer_norm): LayerNorm((768,), eps=1e-12, elementwise_affine=True)\n",
       "          (ffn): FFN(\n",
       "            (dropout): Dropout(p=0.1, inplace=False)\n",
       "            (lin1): Linear(in_features=768, out_features=3072, bias=True)\n",
       "            (lin2): Linear(in_features=3072, out_features=768, bias=True)\n",
       "            (activation): GELUActivation()\n",
       "          )\n",
       "          (output_layer_norm): LayerNorm((768,), eps=1e-12, elementwise_affine=True)\n",
       "        )\n",
       "      )\n",
       "    )\n",
       "  )\n",
       "  (dropout): Dropout(p=0.3, inplace=False)\n",
       "  (pre_classifier): Linear(in_features=768, out_features=768, bias=True)\n",
       "  (fc1): Linear(in_features=768, out_features=1024, bias=True)\n",
       "  (classifier): Linear(in_features=1024, out_features=5, bias=True)\n",
       "  (relu): ReLU()\n",
       "  (softmax): Softmax(dim=1)\n",
       ")"
      ]
     },
     "execution_count": 38,
     "metadata": {},
     "output_type": "execute_result"
    }
   ],
   "source": [
    "from torch.optim.lr_scheduler import StepLR\n",
    "\n",
    "# Defining some key variables that will be used later on in the training\n",
    "MAX_LEN = 512\n",
    "TRAIN_BATCH_SIZE = 10\n",
    "VALID_BATCH_SIZE = 10\n",
    "EPOCHS = 10\n",
    "LEARNING_RATE = 1e-05\n",
    "\n",
    "\n",
    "\n",
    "model = DistillBERTClass()\n",
    "model.to(device)\n",
    "\n",
    "# Creating the loss function and optimizer\n",
    "loss_function = torch.nn.CrossEntropyLoss()\n",
    "optimizer = torch.optim.Adam(params =  model.parameters(), lr=LEARNING_RATE)\n",
    "scheduler = StepLR(optimizer, step_size=2, gamma=0.15)\n",
    "\n",
    "\n",
    "model"
   ]
  },
  {
   "cell_type": "code",
   "execution_count": 22,
   "metadata": {
    "colab": {
     "base_uri": "https://localhost:8080/"
    },
    "id": "gUWKDy2QBL6k",
    "outputId": "0e2e9bed-41a3-4608-b03c-36896aaf047b"
   },
   "outputs": [
    {
     "name": "stdout",
     "output_type": "stream",
     "text": [
      "l1.embeddings.word_embeddings.weight: requires_grad=False\n",
      "l1.embeddings.position_embeddings.weight: requires_grad=False\n",
      "l1.embeddings.LayerNorm.weight: requires_grad=False\n",
      "l1.embeddings.LayerNorm.bias: requires_grad=False\n",
      "l1.transformer.layer.0.attention.q_lin.weight: requires_grad=False\n",
      "l1.transformer.layer.0.attention.q_lin.bias: requires_grad=False\n",
      "l1.transformer.layer.0.attention.k_lin.weight: requires_grad=False\n",
      "l1.transformer.layer.0.attention.k_lin.bias: requires_grad=False\n",
      "l1.transformer.layer.0.attention.v_lin.weight: requires_grad=False\n",
      "l1.transformer.layer.0.attention.v_lin.bias: requires_grad=False\n",
      "l1.transformer.layer.0.attention.out_lin.weight: requires_grad=False\n",
      "l1.transformer.layer.0.attention.out_lin.bias: requires_grad=False\n",
      "l1.transformer.layer.0.sa_layer_norm.weight: requires_grad=False\n",
      "l1.transformer.layer.0.sa_layer_norm.bias: requires_grad=False\n",
      "l1.transformer.layer.0.ffn.lin1.weight: requires_grad=False\n",
      "l1.transformer.layer.0.ffn.lin1.bias: requires_grad=False\n",
      "l1.transformer.layer.0.ffn.lin2.weight: requires_grad=False\n",
      "l1.transformer.layer.0.ffn.lin2.bias: requires_grad=False\n",
      "l1.transformer.layer.0.output_layer_norm.weight: requires_grad=False\n",
      "l1.transformer.layer.0.output_layer_norm.bias: requires_grad=False\n",
      "l1.transformer.layer.1.attention.q_lin.weight: requires_grad=False\n",
      "l1.transformer.layer.1.attention.q_lin.bias: requires_grad=False\n",
      "l1.transformer.layer.1.attention.k_lin.weight: requires_grad=False\n",
      "l1.transformer.layer.1.attention.k_lin.bias: requires_grad=False\n",
      "l1.transformer.layer.1.attention.v_lin.weight: requires_grad=False\n",
      "l1.transformer.layer.1.attention.v_lin.bias: requires_grad=False\n",
      "l1.transformer.layer.1.attention.out_lin.weight: requires_grad=False\n",
      "l1.transformer.layer.1.attention.out_lin.bias: requires_grad=False\n",
      "l1.transformer.layer.1.sa_layer_norm.weight: requires_grad=False\n",
      "l1.transformer.layer.1.sa_layer_norm.bias: requires_grad=False\n",
      "l1.transformer.layer.1.ffn.lin1.weight: requires_grad=False\n",
      "l1.transformer.layer.1.ffn.lin1.bias: requires_grad=False\n",
      "l1.transformer.layer.1.ffn.lin2.weight: requires_grad=False\n",
      "l1.transformer.layer.1.ffn.lin2.bias: requires_grad=False\n",
      "l1.transformer.layer.1.output_layer_norm.weight: requires_grad=False\n",
      "l1.transformer.layer.1.output_layer_norm.bias: requires_grad=False\n",
      "l1.transformer.layer.2.attention.q_lin.weight: requires_grad=False\n",
      "l1.transformer.layer.2.attention.q_lin.bias: requires_grad=False\n",
      "l1.transformer.layer.2.attention.k_lin.weight: requires_grad=False\n",
      "l1.transformer.layer.2.attention.k_lin.bias: requires_grad=False\n",
      "l1.transformer.layer.2.attention.v_lin.weight: requires_grad=False\n",
      "l1.transformer.layer.2.attention.v_lin.bias: requires_grad=False\n",
      "l1.transformer.layer.2.attention.out_lin.weight: requires_grad=False\n",
      "l1.transformer.layer.2.attention.out_lin.bias: requires_grad=False\n",
      "l1.transformer.layer.2.sa_layer_norm.weight: requires_grad=False\n",
      "l1.transformer.layer.2.sa_layer_norm.bias: requires_grad=False\n",
      "l1.transformer.layer.2.ffn.lin1.weight: requires_grad=False\n",
      "l1.transformer.layer.2.ffn.lin1.bias: requires_grad=False\n",
      "l1.transformer.layer.2.ffn.lin2.weight: requires_grad=False\n",
      "l1.transformer.layer.2.ffn.lin2.bias: requires_grad=False\n",
      "l1.transformer.layer.2.output_layer_norm.weight: requires_grad=False\n",
      "l1.transformer.layer.2.output_layer_norm.bias: requires_grad=False\n",
      "l1.transformer.layer.3.attention.q_lin.weight: requires_grad=False\n",
      "l1.transformer.layer.3.attention.q_lin.bias: requires_grad=False\n",
      "l1.transformer.layer.3.attention.k_lin.weight: requires_grad=False\n",
      "l1.transformer.layer.3.attention.k_lin.bias: requires_grad=False\n",
      "l1.transformer.layer.3.attention.v_lin.weight: requires_grad=False\n",
      "l1.transformer.layer.3.attention.v_lin.bias: requires_grad=False\n",
      "l1.transformer.layer.3.attention.out_lin.weight: requires_grad=False\n",
      "l1.transformer.layer.3.attention.out_lin.bias: requires_grad=False\n",
      "l1.transformer.layer.3.sa_layer_norm.weight: requires_grad=False\n",
      "l1.transformer.layer.3.sa_layer_norm.bias: requires_grad=False\n",
      "l1.transformer.layer.3.ffn.lin1.weight: requires_grad=False\n",
      "l1.transformer.layer.3.ffn.lin1.bias: requires_grad=False\n",
      "l1.transformer.layer.3.ffn.lin2.weight: requires_grad=False\n",
      "l1.transformer.layer.3.ffn.lin2.bias: requires_grad=False\n",
      "l1.transformer.layer.3.output_layer_norm.weight: requires_grad=False\n",
      "l1.transformer.layer.3.output_layer_norm.bias: requires_grad=False\n",
      "l1.transformer.layer.4.attention.q_lin.weight: requires_grad=False\n",
      "l1.transformer.layer.4.attention.q_lin.bias: requires_grad=False\n",
      "l1.transformer.layer.4.attention.k_lin.weight: requires_grad=False\n",
      "l1.transformer.layer.4.attention.k_lin.bias: requires_grad=False\n",
      "l1.transformer.layer.4.attention.v_lin.weight: requires_grad=False\n",
      "l1.transformer.layer.4.attention.v_lin.bias: requires_grad=False\n",
      "l1.transformer.layer.4.attention.out_lin.weight: requires_grad=False\n",
      "l1.transformer.layer.4.attention.out_lin.bias: requires_grad=False\n",
      "l1.transformer.layer.4.sa_layer_norm.weight: requires_grad=False\n",
      "l1.transformer.layer.4.sa_layer_norm.bias: requires_grad=False\n",
      "l1.transformer.layer.4.ffn.lin1.weight: requires_grad=False\n",
      "l1.transformer.layer.4.ffn.lin1.bias: requires_grad=False\n",
      "l1.transformer.layer.4.ffn.lin2.weight: requires_grad=False\n",
      "l1.transformer.layer.4.ffn.lin2.bias: requires_grad=False\n",
      "l1.transformer.layer.4.output_layer_norm.weight: requires_grad=False\n",
      "l1.transformer.layer.4.output_layer_norm.bias: requires_grad=False\n",
      "l1.transformer.layer.5.attention.q_lin.weight: requires_grad=False\n",
      "l1.transformer.layer.5.attention.q_lin.bias: requires_grad=False\n",
      "l1.transformer.layer.5.attention.k_lin.weight: requires_grad=False\n",
      "l1.transformer.layer.5.attention.k_lin.bias: requires_grad=False\n",
      "l1.transformer.layer.5.attention.v_lin.weight: requires_grad=False\n",
      "l1.transformer.layer.5.attention.v_lin.bias: requires_grad=False\n",
      "l1.transformer.layer.5.attention.out_lin.weight: requires_grad=False\n",
      "l1.transformer.layer.5.attention.out_lin.bias: requires_grad=False\n",
      "l1.transformer.layer.5.sa_layer_norm.weight: requires_grad=False\n",
      "l1.transformer.layer.5.sa_layer_norm.bias: requires_grad=False\n",
      "l1.transformer.layer.5.ffn.lin1.weight: requires_grad=False\n",
      "l1.transformer.layer.5.ffn.lin1.bias: requires_grad=False\n",
      "l1.transformer.layer.5.ffn.lin2.weight: requires_grad=False\n",
      "l1.transformer.layer.5.ffn.lin2.bias: requires_grad=False\n",
      "l1.transformer.layer.5.output_layer_norm.weight: requires_grad=False\n",
      "l1.transformer.layer.5.output_layer_norm.bias: requires_grad=False\n",
      "pre_classifier.weight: requires_grad=True\n",
      "pre_classifier.bias: requires_grad=True\n",
      "fc1.weight: requires_grad=True\n",
      "fc1.bias: requires_grad=True\n",
      "classifier.weight: requires_grad=True\n",
      "classifier.bias: requires_grad=True\n"
     ]
    }
   ],
   "source": [
    "for name, param in model.named_parameters():\n",
    "    print(f\"{name}: requires_grad={param.requires_grad}\")"
   ]
  },
  {
   "cell_type": "code",
   "execution_count": 23,
   "metadata": {
    "id": "YmGXgdNQCb7e"
   },
   "outputs": [],
   "source": [
    "data_collator = DataCollatorWithPadding(tokenizer=tokenizer)\n",
    "\n",
    "if tokenizer.pad_token is None:\n",
    "  tokenizer.add_special_tokens({'pad_token': '[PAD]'})\n",
    "  model.resize_token_embeddings(len(tokenizer))"
   ]
  },
  {
   "cell_type": "code",
   "execution_count": 24,
   "metadata": {
    "id": "ZgXdBTYUDLz6"
   },
   "outputs": [],
   "source": [
    "def tokenize_function(examples):\n",
    "    #text = examples[\"body\"]\n",
    "    text = examples[\"body\"]\n",
    "    labels = examples[\"political_leaning\"]\n",
    "\n",
    "    tokenizer.truncation_side = \"left\"\n",
    "    tokenized_inputs = tokenizer(\n",
    "        text,#[preprocess(t) for t in text] ,\n",
    "        return_tensors = \"np\",\n",
    "        padding = True,\n",
    "        truncation = True,\n",
    "        max_length = 512\n",
    "        )\n",
    "\n",
    "    tokenized_inputs[\"labels\"] = [label2id[label] for label in labels]\n",
    "    return tokenized_inputs\n",
    "\n",
    "#tokenized_dataset = df.map(tokenize_function, batched=True)\n",
    "#tokenized_dataset"
   ]
  },
  {
   "cell_type": "code",
   "execution_count": 25,
   "metadata": {
    "id": "Vf28kN8fBL6l"
   },
   "outputs": [],
   "source": [
    "# Define split ratio for validation\n",
    "train_test_split = df[\"train\"].train_test_split(test_size=0.1)  # 10% for validation\n",
    "datasets = DatasetDict({\n",
    "    \"train\": train_test_split[\"train\"],\n",
    "    \"validation\": train_test_split[\"test\"],  # This is your validation set\n",
    "    \"test\": df[\"test\"],       # Keep the original test set\n",
    "})"
   ]
  },
  {
   "cell_type": "code",
   "execution_count": 26,
   "metadata": {
    "id": "_4hEof0NBL6l"
   },
   "outputs": [],
   "source": [
    "import re\n",
    "import contractions\n",
    "from torch.utils.data import Dataset\n",
    "\n",
    "# Define the mapping for political leaning categories to numeric values\n",
    "category_mapping = {\n",
    "    'LEFT': 0,\n",
    "    'CENTER': 1,\n",
    "    'RIGHT': 2,\n",
    "    'UNDEFINED': 3\n",
    "}\n",
    "\n",
    "# Preprocessing function\n",
    "def preprocess(text):\n",
    "    \"\"\" Preprocess the text to clean it for tokenization \"\"\"\n",
    "    def is_english_word(word):\n",
    "        \"\"\"Function to filter out non-English words.\"\"\"\n",
    "        return bool(re.match(r'^[a-zA-Z]+$', word))\n",
    "\n",
    "    text = text.lower()  # Convert to lowercase\n",
    "    text = contractions.fix(text)  # Expand contractions (e.g., \"don't\" -> \"do not\")\n",
    "    text = re.sub(r'[^\\x00-\\x7F]+', ' ', text)  # Remove non-ASCII characters\n",
    "    text = p.clean(text)  # Clean text using the clean-text library\n",
    "    return text\n",
    "\n",
    "class Triage(Dataset):\n",
    "    def __init__(self, dataset, tokenizer, max_length):\n",
    "        self.texts = dataset['body']  # Assuming 'text' column contains the raw text\n",
    "        self.labels = dataset['political_leaning']\n",
    "        self.tokenizer = tokenizer\n",
    "        self.max_length = max_length\n",
    "\n",
    "    def __getitem__(self, index):\n",
    "        # Get raw text and label for the current index\n",
    "        text = self.texts[index]\n",
    "        label = self.labels[index]\n",
    "        tokenizer.truncation_side = \"left\"\n",
    "        #tokenized_inputs = self.tokenizer(\n",
    "        tokenized_inputs = self.tokenizer.encode_plus(\n",
    "            preprocess(text),\n",
    "            None,\n",
    "            #return_tensors=\"pt\",\n",
    "            #padding=True,\n",
    "            #truncation=True,\n",
    "            #max_length=self.max_length\n",
    "            add_special_tokens=True,\n",
    "            max_length=self.max_length,\n",
    "            pad_to_max_length=True\n",
    "        )\n",
    "\n",
    "        #encoding = tokenize_function({\"text\": [text], \"labels\": [label]}, self.tokenizer, self.max_length)\n",
    "        input_ids = tokenized_inputs['input_ids']  # Remove the batch dimension\n",
    "        attention_mask = tokenized_inputs['attention_mask']  # Remove the batch dimension\n",
    "\n",
    "        return {\n",
    "            'input_ids': torch.tensor(input_ids, dtype=torch.long),\n",
    "            'attention_mask': torch.tensor(attention_mask, dtype=torch.long),\n",
    "            'labels': torch.tensor(category_mapping[self.labels[index]], dtype=torch.float)\n",
    "        }\n",
    "\n",
    "    def __len__(self):\n",
    "        return len(self.texts)\n"
   ]
  },
  {
   "cell_type": "code",
   "execution_count": 27,
   "metadata": {
    "id": "mvrU6xHpBL6l"
   },
   "outputs": [],
   "source": [
    "train_dataset = Triage(datasets['train'], tokenizer, max_length=512)\n",
    "val_dataset = Triage(datasets['validation'], tokenizer, max_length=512)\n",
    "test_dataset = Triage(datasets['test'], tokenizer, max_length=512)"
   ]
  },
  {
   "cell_type": "code",
   "execution_count": 28,
   "metadata": {
    "id": "On3GSFT7BL6l"
   },
   "outputs": [],
   "source": [
    "# Training DataLoader\n",
    "training_loader = DataLoader(\n",
    "    train_dataset,\n",
    "    batch_size=TRAIN_BATCH_SIZE,\n",
    "    shuffle=True,\n",
    "    collate_fn=data_collator,\n",
    ")\n",
    "\n",
    "# Validation DataLoader\n",
    "val_loader = DataLoader(\n",
    "    val_dataset,\n",
    "    batch_size=VALID_BATCH_SIZE,\n",
    "    shuffle=False,\n",
    "    collate_fn=data_collator,\n",
    ")\n",
    "\n",
    "# Test DataLoader\n",
    "test_loader = DataLoader(\n",
    "    test_dataset,\n",
    "    batch_size=VALID_BATCH_SIZE,\n",
    "    shuffle=False,\n",
    "    collate_fn=data_collator,\n",
    ")"
   ]
  },
  {
   "cell_type": "markdown",
   "metadata": {
    "id": "iR8md4S6BL6m"
   },
   "source": [
    "### Training the model"
   ]
  },
  {
   "cell_type": "code",
   "execution_count": 29,
   "metadata": {
    "id": "o4hduUwTGnN5"
   },
   "outputs": [],
   "source": [
    "# Defining the training function on the 80% of the dataset for tuning the distilbert model\n",
    "def calculate_accuracy(preds, targets):\n",
    "    n_correct = (preds==targets).sum().item()\n",
    "    return n_correct\n",
    "\n",
    "def train(epoch):\n",
    "    tr_loss = 0\n",
    "    n_correct = 0\n",
    "    nb_tr_steps = 0\n",
    "    nb_tr_examples = 0\n",
    "    model.train()\n",
    "    for _,data in tqdm(enumerate(training_loader, 0)):\n",
    "        ids = data['input_ids'].to(device, dtype = torch.long)\n",
    "        mask = data['attention_mask'].to(device, dtype = torch.long)\n",
    "        #token_type_ids = data['token_type_ids'].to(device, dtype = torch.long)\n",
    "        targets = data['labels'].to(device, dtype = torch.long)\n",
    "\n",
    "        outputs = model(ids, mask)#, token_type_ids)\n",
    "        loss = loss_function(outputs, targets)\n",
    "        tr_loss += loss.item()\n",
    "        big_val, big_idx = torch.max(outputs.data, dim=1)\n",
    "        n_correct += calculate_accuracy(big_idx, targets)\n",
    "\n",
    "        nb_tr_steps += 1\n",
    "        nb_tr_examples+=targets.size(0)\n",
    "\n",
    "        if _%500==0:\n",
    "            loss_step = tr_loss/nb_tr_steps\n",
    "            accu_step = (n_correct*100)/nb_tr_examples\n",
    "            print(f\"Training Loss per 500 steps: {loss_step}\")\n",
    "            print(f\"Training Accuracy per 500 steps: {accu_step}\")\n",
    "\n",
    "        optimizer.zero_grad()\n",
    "        loss.backward()\n",
    "        # # When using GPU\n",
    "        optimizer.step()\n",
    "\n",
    "    print(f'The Total Accuracy for Epoch {epoch}: {(n_correct*100)/nb_tr_examples}')\n",
    "    epoch_loss = tr_loss/nb_tr_steps\n",
    "    epoch_accu = (n_correct*100)/nb_tr_examples\n",
    "    print(f\"Training Loss Epoch: {epoch_loss}\")\n",
    "    print(f\"Training Accuracy Epoch: {epoch_accu}\")\n",
    "\n",
    "    return\n",
    "\n",
    "def valid(model, testing_loader):\n",
    "    model.eval()\n",
    "    n_correct = 0; n_wrong = 0; total = 0; tr_loss=0; nb_tr_steps=0; nb_tr_examples=0\n",
    "    with torch.no_grad():\n",
    "        for _, data in tqdm(enumerate(testing_loader, 0)):\n",
    "            ids = data['input_ids'].to(device, dtype = torch.long)\n",
    "            mask = data['attention_mask'].to(device, dtype = torch.long)\n",
    "            #token_type_ids = data['token_type_ids'].to(device, dtype = torch.long)\n",
    "            targets = data['labels'].to(device, dtype = torch.long)\n",
    "            outputs = model(ids, mask).squeeze()\n",
    "            loss = loss_function(outputs, targets)\n",
    "            tr_loss += loss.item()\n",
    "            big_val, big_idx = torch.max(outputs.data, dim=1)\n",
    "            n_correct += calculate_accuracy(big_idx, targets)\n",
    "\n",
    "            nb_tr_steps += 1\n",
    "            nb_tr_examples+=targets.size(0)\n",
    "\n",
    "            if _%5000==0:\n",
    "                loss_step = tr_loss/nb_tr_steps\n",
    "                accu_step = (n_correct*100)/nb_tr_examples\n",
    "                print(f\"Validation Loss per 100 steps: {loss_step}\")\n",
    "                print(f\"Validation Accuracy per 100 steps: {accu_step}\")\n",
    "    epoch_loss = tr_loss/nb_tr_steps\n",
    "    epoch_accu = (n_correct*100)/nb_tr_examples\n",
    "    print(f\"Validation Loss Epoch: {epoch_loss}\")\n",
    "    print(f\"Validation Accuracy Epoch: {epoch_accu}\")\n",
    "\n",
    "    return epoch_loss, epoch_accu\n"
   ]
  },
  {
   "cell_type": "code",
   "execution_count": null,
   "metadata": {
    "colab": {
     "base_uri": "https://localhost:8080/",
     "height": 1000
    },
    "id": "kupJM6s-BL6m",
    "outputId": "4c9b160c-c896-49ea-ef79-df30aa362096"
   },
   "outputs": [
    {
     "name": "stderr",
     "output_type": "stream",
     "text": [
      "C:\\Users\\ALEJANDRO\\AppData\\Local\\Temp\\ipykernel_8852\\3509348220.py:4: FutureWarning: You are using `torch.load` with `weights_only=False` (the current default value), which uses the default pickle module implicitly. It is possible to construct malicious pickle data which will execute arbitrary code during unpickling (See https://github.com/pytorch/pytorch/blob/main/SECURITY.md#untrusted-models for more details). In a future release, the default value for `weights_only` will be flipped to `True`. This limits the functions that could be executed during unpickling. Arbitrary objects will no longer be allowed to be loaded via this mode unless they are explicitly allowlisted by the user via `torch.serialization.add_safe_globals`. We recommend you start setting `weights_only=True` for any use case where you don't have full control of the loaded file. Please open an issue on GitHub for any issues related to this experimental feature.\n",
      "  checkpoint = torch.load(\"./models/local_run_BERT_body/best_model.pt\")\n"
     ]
    },
    {
     "name": "stdout",
     "output_type": "stream",
     "text": [
      "\n",
      "Epoch 1/10\n",
      "------------------------------\n"
     ]
    },
    {
     "name": "stderr",
     "output_type": "stream",
     "text": [
      "1it [00:01,  1.00s/it]"
     ]
    },
    {
     "name": "stdout",
     "output_type": "stream",
     "text": [
      "Training Loss per 500 steps: 1.2654756307601929\n",
      "Training Accuracy per 500 steps: 60.0\n"
     ]
    },
    {
     "name": "stderr",
     "output_type": "stream",
     "text": [
      "501it [02:33,  3.12it/s]"
     ]
    },
    {
     "name": "stdout",
     "output_type": "stream",
     "text": [
      "Training Loss per 500 steps: 1.283077555740189\n",
      "Training Accuracy per 500 steps: 61.73652694610779\n"
     ]
    },
    {
     "name": "stderr",
     "output_type": "stream",
     "text": [
      "1001it [05:01,  3.20it/s]"
     ]
    },
    {
     "name": "stdout",
     "output_type": "stream",
     "text": [
      "Training Loss per 500 steps: 1.2763246492548779\n",
      "Training Accuracy per 500 steps: 62.42757242757243\n"
     ]
    },
    {
     "name": "stderr",
     "output_type": "stream",
     "text": [
      "1501it [07:32,  3.50it/s]"
     ]
    },
    {
     "name": "stdout",
     "output_type": "stream",
     "text": [
      "Training Loss per 500 steps: 1.2800937439504263\n",
      "Training Accuracy per 500 steps: 62.03197868087941\n"
     ]
    },
    {
     "name": "stderr",
     "output_type": "stream",
     "text": [
      "2001it [10:00,  3.29it/s]"
     ]
    },
    {
     "name": "stdout",
     "output_type": "stream",
     "text": [
      "Training Loss per 500 steps: 1.280411941328387\n",
      "Training Accuracy per 500 steps: 61.94902548725637\n"
     ]
    },
    {
     "name": "stderr",
     "output_type": "stream",
     "text": [
      "2501it [12:31,  3.34it/s]"
     ]
    },
    {
     "name": "stdout",
     "output_type": "stream",
     "text": [
      "Training Loss per 500 steps: 1.2778922111356035\n",
      "Training Accuracy per 500 steps: 62.19512195121951\n"
     ]
    },
    {
     "name": "stderr",
     "output_type": "stream",
     "text": [
      "3001it [15:01,  3.17it/s]"
     ]
    },
    {
     "name": "stdout",
     "output_type": "stream",
     "text": [
      "Training Loss per 500 steps: 1.2773628322254296\n",
      "Training Accuracy per 500 steps: 62.239253582139284\n"
     ]
    },
    {
     "name": "stderr",
     "output_type": "stream",
     "text": [
      "3501it [17:31,  3.26it/s]"
     ]
    },
    {
     "name": "stdout",
     "output_type": "stream",
     "text": [
      "Training Loss per 500 steps: 1.2780004236671592\n",
      "Training Accuracy per 500 steps: 62.19365895458441\n"
     ]
    },
    {
     "name": "stderr",
     "output_type": "stream",
     "text": [
      "4001it [20:01,  3.30it/s]"
     ]
    },
    {
     "name": "stdout",
     "output_type": "stream",
     "text": [
      "Training Loss per 500 steps: 1.2767492117538537\n",
      "Training Accuracy per 500 steps: 62.30192451887028\n"
     ]
    },
    {
     "name": "stderr",
     "output_type": "stream",
     "text": [
      "4501it [22:30,  3.30it/s]"
     ]
    },
    {
     "name": "stdout",
     "output_type": "stream",
     "text": [
      "Training Loss per 500 steps: 1.2763685491370562\n",
      "Training Accuracy per 500 steps: 62.34836702954899\n"
     ]
    },
    {
     "name": "stderr",
     "output_type": "stream",
     "text": [
      "5001it [25:02,  3.30it/s]"
     ]
    },
    {
     "name": "stdout",
     "output_type": "stream",
     "text": [
      "Training Loss per 500 steps: 1.2763624122275803\n",
      "Training Accuracy per 500 steps: 62.31353729254149\n"
     ]
    },
    {
     "name": "stderr",
     "output_type": "stream",
     "text": [
      "5501it [27:31,  3.53it/s]"
     ]
    },
    {
     "name": "stdout",
     "output_type": "stream",
     "text": [
      "Training Loss per 500 steps: 1.275782074100038\n",
      "Training Accuracy per 500 steps: 62.35411743319396\n"
     ]
    },
    {
     "name": "stderr",
     "output_type": "stream",
     "text": [
      "6001it [30:00,  3.32it/s]"
     ]
    },
    {
     "name": "stdout",
     "output_type": "stream",
     "text": [
      "Training Loss per 500 steps: 1.2755733370741216\n",
      "Training Accuracy per 500 steps: 62.37627062156307\n"
     ]
    },
    {
     "name": "stderr",
     "output_type": "stream",
     "text": [
      "6501it [32:31,  3.51it/s]"
     ]
    },
    {
     "name": "stdout",
     "output_type": "stream",
     "text": [
      "Training Loss per 500 steps: 1.275855200975753\n",
      "Training Accuracy per 500 steps: 62.339640055376094\n"
     ]
    },
    {
     "name": "stderr",
     "output_type": "stream",
     "text": [
      "7001it [35:01,  3.37it/s]"
     ]
    },
    {
     "name": "stdout",
     "output_type": "stream",
     "text": [
      "Training Loss per 500 steps: 1.275908750528064\n",
      "Training Accuracy per 500 steps: 62.30967004713612\n"
     ]
    },
    {
     "name": "stderr",
     "output_type": "stream",
     "text": [
      "7501it [37:30,  3.59it/s]"
     ]
    },
    {
     "name": "stdout",
     "output_type": "stream",
     "text": [
      "Training Loss per 500 steps: 1.2752732423413136\n",
      "Training Accuracy per 500 steps: 62.38901479802693\n"
     ]
    },
    {
     "name": "stderr",
     "output_type": "stream",
     "text": [
      "8001it [40:00,  3.39it/s]"
     ]
    },
    {
     "name": "stdout",
     "output_type": "stream",
     "text": [
      "Training Loss per 500 steps: 1.2746468851334183\n",
      "Training Accuracy per 500 steps: 62.45844269466317\n"
     ]
    },
    {
     "name": "stderr",
     "output_type": "stream",
     "text": [
      "8501it [42:31,  3.32it/s]"
     ]
    },
    {
     "name": "stdout",
     "output_type": "stream",
     "text": [
      "Training Loss per 500 steps: 1.274301224674229\n",
      "Training Accuracy per 500 steps: 62.505587577932005\n"
     ]
    },
    {
     "name": "stderr",
     "output_type": "stream",
     "text": [
      "9001it [44:59,  3.25it/s]"
     ]
    },
    {
     "name": "stdout",
     "output_type": "stream",
     "text": [
      "Training Loss per 500 steps: 1.2735860075451058\n",
      "Training Accuracy per 500 steps: 62.597489167870236\n"
     ]
    },
    {
     "name": "stderr",
     "output_type": "stream",
     "text": [
      "9466it [47:20,  2.68it/s]"
     ]
    }
   ],
   "source": [
    "best_val_loss = float(\"inf\")\n",
    "\n",
    "# Load model checkpoint\n",
    "checkpoint = torch.load(\"./models/local_run_BERT_body/best_model.pt\")\n",
    "#print(checkpoint.keys())\n",
    "model.load_state_dict(checkpoint)\n",
    "\n",
    "\n",
    "for epoch in range(EPOCHS):\n",
    "    print(f\"\\nEpoch {epoch + 1}/{EPOCHS}\")\n",
    "    print(\"-\" * 30)\n",
    "\n",
    "    train_loss = train(epoch)\n",
    "    val_loss, val_accuracy = valid(model, val_loader)\n",
    "    for param_group in optimizer.param_groups:\n",
    "        print(\"Learning rate:\", param_group['lr'])\n",
    "    # Save the best model\n",
    "    if val_loss < best_val_loss:\n",
    "        best_val_loss = val_loss\n",
    "        torch.save(model.state_dict(), \"./models/local_run_BERT_body_v2/best_model.pt\")\n",
    "        print(\"Saved Best Model!\")\n",
    "    if val_accuracy > 83:\n",
    "        break\n",
    "    scheduler.step()"
   ]
  },
  {
   "cell_type": "code",
   "execution_count": null,
   "metadata": {
    "id": "WhWv6-PHLtfq"
   },
   "outputs": [],
   "source": [
    "#!cp best_model.pt '/content/gdrive/MyDrive/ColabNotebooks/NLP Project/distilBERT/'"
   ]
  },
  {
   "cell_type": "code",
   "execution_count": null,
   "metadata": {
    "colab": {
     "base_uri": "https://localhost:8080/"
    },
    "id": "oETAzaqeBL6m",
    "outputId": "6582bbc4-d9a8-4565-f51e-6a6d9e116941"
   },
   "outputs": [
    {
     "name": "stderr",
     "output_type": "stream",
     "text": [
      "<ipython-input-206-2172e1911a5f>:1: FutureWarning: You are using `torch.load` with `weights_only=False` (the current default value), which uses the default pickle module implicitly. It is possible to construct malicious pickle data which will execute arbitrary code during unpickling (See https://github.com/pytorch/pytorch/blob/main/SECURITY.md#untrusted-models for more details). In a future release, the default value for `weights_only` will be flipped to `True`. This limits the functions that could be executed during unpickling. Arbitrary objects will no longer be allowed to be loaded via this mode unless they are explicitly allowlisted by the user via `torch.serialization.add_safe_globals`. We recommend you start setting `weights_only=True` for any use case where you don't have full control of the loaded file. Please open an issue on GitHub for any issues related to this experimental feature.\n",
      "  model.load_state_dict(torch.load(\"best_model.pt\"))\n"
     ]
    },
    {
     "data": {
      "text/plain": [
       "DistillBERTClass(\n",
       "  (l1): DistilBertModel(\n",
       "    (embeddings): Embeddings(\n",
       "      (word_embeddings): Embedding(30522, 768, padding_idx=0)\n",
       "      (position_embeddings): Embedding(512, 768)\n",
       "      (LayerNorm): LayerNorm((768,), eps=1e-12, elementwise_affine=True)\n",
       "      (dropout): Dropout(p=0.1, inplace=False)\n",
       "    )\n",
       "    (transformer): Transformer(\n",
       "      (layer): ModuleList(\n",
       "        (0-5): 6 x TransformerBlock(\n",
       "          (attention): DistilBertSdpaAttention(\n",
       "            (dropout): Dropout(p=0.1, inplace=False)\n",
       "            (q_lin): Linear(in_features=768, out_features=768, bias=True)\n",
       "            (k_lin): Linear(in_features=768, out_features=768, bias=True)\n",
       "            (v_lin): Linear(in_features=768, out_features=768, bias=True)\n",
       "            (out_lin): Linear(in_features=768, out_features=768, bias=True)\n",
       "          )\n",
       "          (sa_layer_norm): LayerNorm((768,), eps=1e-12, elementwise_affine=True)\n",
       "          (ffn): FFN(\n",
       "            (dropout): Dropout(p=0.1, inplace=False)\n",
       "            (lin1): Linear(in_features=768, out_features=3072, bias=True)\n",
       "            (lin2): Linear(in_features=3072, out_features=768, bias=True)\n",
       "            (activation): GELUActivation()\n",
       "          )\n",
       "          (output_layer_norm): LayerNorm((768,), eps=1e-12, elementwise_affine=True)\n",
       "        )\n",
       "      )\n",
       "    )\n",
       "  )\n",
       "  (dropout): Dropout(p=0.3, inplace=False)\n",
       "  (pre_classifier): Linear(in_features=768, out_features=768, bias=True)\n",
       "  (fc1): Linear(in_features=768, out_features=1024, bias=True)\n",
       "  (fc2): Linear(in_features=1024, out_features=512, bias=True)\n",
       "  (classifier): Linear(in_features=512, out_features=5, bias=True)\n",
       "  (relu): ReLU()\n",
       ")"
      ]
     },
     "execution_count": 206,
     "metadata": {},
     "output_type": "execute_result"
    }
   ],
   "source": [
    "model.load_state_dict(torch.load(\"best_model.pt\"))\n",
    "model.to(device)"
   ]
  },
  {
   "cell_type": "code",
   "execution_count": null,
   "metadata": {
    "colab": {
     "base_uri": "https://localhost:8080/"
    },
    "id": "rxTWh0CZBL6n",
    "outputId": "4a835e32-f0a2-4322-8d33-2ea54f5d937d"
   },
   "outputs": [
    {
     "name": "stdout",
     "output_type": "stream",
     "text": [
      "\n",
      "Evaluating on Test Set\n"
     ]
    },
    {
     "name": "stderr",
     "output_type": "stream",
     "text": [
      "Testing: 100%|██████████| 1796/1796 [04:12<00:00,  7.12it/s]\n"
     ]
    },
    {
     "name": "stdout",
     "output_type": "stream",
     "text": [
      "\n",
      "Test Results\n",
      "------------------------------\n",
      "Accuracy: 0.5100\n",
      "Precision: 0.5181\n",
      "Recall: 0.5100\n",
      "F1-score: 0.4948\n"
     ]
    }
   ],
   "source": [
    "from sklearn.metrics import accuracy_score, precision_recall_fscore_support\n",
    "\n",
    "# Test function\n",
    "def test_model(model, data_loader, device):\n",
    "    model.eval()\n",
    "    all_preds = []\n",
    "    all_labels = []\n",
    "\n",
    "    with torch.no_grad():\n",
    "        for batch in tqdm(data_loader, desc=\"Testing\"):\n",
    "            # Move batch to GPU/CPU\n",
    "            input_ids = batch[\"input_ids\"].to(device)\n",
    "            attention_mask = batch[\"attention_mask\"].to(device)\n",
    "            labels = batch[\"labels\"].to(device)\n",
    "\n",
    "            # Forward pass\n",
    "            outputs = model(input_ids=input_ids, attention_mask=attention_mask)\n",
    "\n",
    "            # Collect predictions and true labels\n",
    "            preds = torch.argmax(outputs, dim=1)\n",
    "            all_preds.extend(preds.cpu().numpy())\n",
    "            all_labels.extend(labels.cpu().numpy())\n",
    "\n",
    "    # Calculate metrics\n",
    "    accuracy = accuracy_score(all_labels, all_preds)\n",
    "    precision, recall, f1, _ = precision_recall_fscore_support(all_labels, all_preds, average=\"weighted\")\n",
    "\n",
    "    print(\"\\nTest Results\")\n",
    "    print(\"-\" * 30)\n",
    "    print(f\"Accuracy: {accuracy:.4f}\")\n",
    "    print(f\"Precision: {precision:.4f}\")\n",
    "    print(f\"Recall: {recall:.4f}\")\n",
    "    print(f\"F1-score: {f1:.4f}\")\n",
    "\n",
    "    return accuracy, precision, recall, f1\n",
    "\n",
    "# After training and validation, evaluate on the test set\n",
    "print(\"\\nEvaluating on Test Set\")\n",
    "test_accuracy, test_precision, test_recall, test_f1 = test_model(model, test_loader, device)"
   ]
  },
  {
   "cell_type": "code",
   "execution_count": null,
   "metadata": {
    "colab": {
     "base_uri": "https://localhost:8080/",
     "height": 263
    },
    "id": "PcInvd2hBL6n",
    "outputId": "9cb360f6-bc53-4553-d6a5-dac5225290a6"
   },
   "outputs": [
    {
     "name": "stdout",
     "output_type": "stream",
     "text": [
      "\n",
      "Evaluating on Test Set\n"
     ]
    },
    {
     "ename": "NameError",
     "evalue": "name 'test_model' is not defined",
     "output_type": "error",
     "traceback": [
      "\u001b[0;31m---------------------------------------------------------------------------\u001b[0m",
      "\u001b[0;31mNameError\u001b[0m                                 Traceback (most recent call last)",
      "\u001b[0;32m<ipython-input-207-6967870fac08>\u001b[0m in \u001b[0;36m<cell line: 24>\u001b[0;34m()\u001b[0m\n\u001b[1;32m     22\u001b[0m \u001b[0;31m# After testing, plot the metrics\u001b[0m\u001b[0;34m\u001b[0m\u001b[0;34m\u001b[0m\u001b[0m\n\u001b[1;32m     23\u001b[0m \u001b[0mprint\u001b[0m\u001b[0;34m(\u001b[0m\u001b[0;34m\"\\nEvaluating on Test Set\"\u001b[0m\u001b[0;34m)\u001b[0m\u001b[0;34m\u001b[0m\u001b[0;34m\u001b[0m\u001b[0m\n\u001b[0;32m---> 24\u001b[0;31m \u001b[0mtest_accuracy\u001b[0m\u001b[0;34m,\u001b[0m \u001b[0mtest_precision\u001b[0m\u001b[0;34m,\u001b[0m \u001b[0mtest_recall\u001b[0m\u001b[0;34m,\u001b[0m \u001b[0mtest_f1\u001b[0m \u001b[0;34m=\u001b[0m \u001b[0mtest_model\u001b[0m\u001b[0;34m(\u001b[0m\u001b[0mmodel\u001b[0m\u001b[0;34m,\u001b[0m \u001b[0mtest_loader\u001b[0m\u001b[0;34m,\u001b[0m \u001b[0mdevice\u001b[0m\u001b[0;34m)\u001b[0m\u001b[0;34m\u001b[0m\u001b[0;34m\u001b[0m\u001b[0m\n\u001b[0m\u001b[1;32m     25\u001b[0m \u001b[0;34m\u001b[0m\u001b[0m\n\u001b[1;32m     26\u001b[0m \u001b[0;31m# Metrics and their names\u001b[0m\u001b[0;34m\u001b[0m\u001b[0;34m\u001b[0m\u001b[0m\n",
      "\u001b[0;31mNameError\u001b[0m: name 'test_model' is not defined"
     ]
    }
   ],
   "source": [
    "import matplotlib.pyplot as plt\n",
    "import numpy as np\n",
    "\n",
    "# Plot function for metrics\n",
    "def plot_metrics(metrics, metric_names, title):\n",
    "    fig, ax = plt.subplots(figsize=(8, 6))\n",
    "    bars = ax.bar(metric_names, metrics, color=['skyblue', 'orange', 'green', 'red'])\n",
    "\n",
    "    # Add value annotations on bars\n",
    "    for bar in bars:\n",
    "        ax.text(bar.get_x() + bar.get_width() / 2, bar.get_height() + 0.02,\n",
    "                f\"{bar.get_height():.4f}\", ha='center', fontsize=10)\n",
    "\n",
    "    ax.set_ylim(0, 1)\n",
    "    ax.set_title(title, fontsize=16)\n",
    "    ax.set_ylabel(\"Score\", fontsize=14)\n",
    "    ax.set_xlabel(\"Metrics\", fontsize=14)\n",
    "    plt.xticks(fontsize=12)\n",
    "    plt.yticks(fontsize=12)\n",
    "    plt.show()\n",
    "\n",
    "# After testing, plot the metrics\n",
    "print(\"\\nEvaluating on Test Set\")\n",
    "test_accuracy, test_precision, test_recall, test_f1 = test_model(model, test_loader, device)\n",
    "\n",
    "# Metrics and their names\n",
    "metrics = [test_accuracy, test_precision, test_recall, test_f1]\n",
    "metric_names = [\"Accuracy\", \"Precision\", \"Recall\", \"F1-Score\"]\n",
    "\n",
    "# Plot the test results\n",
    "plot_metrics(metrics, metric_names, title=\"Test Metrics Overview\")\n"
   ]
  },
  {
   "cell_type": "markdown",
   "metadata": {
    "id": "l84tjtX4BL6n"
   },
   "source": [
    "### Other form of training"
   ]
  },
  {
   "cell_type": "code",
   "execution_count": null,
   "metadata": {
    "id": "DJWNUPl-BL6n"
   },
   "outputs": [],
   "source": [
    "'''\n",
    "accuracy = evaluate.load(\"accuracy\")\n",
    "\n",
    "def compute_metrics(p):\n",
    "  predictions, labels = p\n",
    "  predictions = np.argmax(predictions, axis=1)\n",
    "  return {\"accuracy\": accuracy.compute(predictions=predictions\n",
    "                                       , references=labels)}\n",
    "'''"
   ]
  },
  {
   "cell_type": "markdown",
   "metadata": {
    "id": "OmxsoKs4C1yh"
   },
   "source": []
  },
  {
   "cell_type": "code",
   "execution_count": null,
   "metadata": {
    "id": "3ORBVjXnGx19"
   },
   "outputs": [],
   "source": [
    "'''\n",
    "lr = 1e-3\n",
    "batch_size = 10\n",
    "num_epochs = 10\n",
    "\n",
    "training_args = TrainingArguments(\n",
    "    output_dir=\"\"+model_checkpoint+\"lora-txt\",\n",
    "    learning_rate = lr,\n",
    "    per_device_train_batch_size = batch_size,\n",
    "    per_device_eval_batch_size = batch_size,\n",
    "    num_train_epochs = num_epochs,\n",
    "    weight_decay = 0.01,\n",
    "    evaluation_strategy = \"epoch\",\n",
    "    save_strategy = \"epoch\",\n",
    "    load_best_model_at_end = True,\n",
    ")\n",
    "\n",
    "trainer = Trainer(\n",
    "    model = model,\n",
    "    args = training_args,\n",
    "    train_dataset = tokenized_dataset[\"train\"],\n",
    "    eval_dataset = tokenized_dataset[\"test\"],\n",
    "    tokenizer = tokenizer,\n",
    "    data_collator = data_collator,\n",
    "    compute_metrics = compute_metrics\n",
    ")\n",
    "'''"
   ]
  },
  {
   "cell_type": "code",
   "execution_count": null,
   "metadata": {
    "id": "hmS4TS65IDDV"
   },
   "outputs": [],
   "source": [
    "#trainer.train()"
   ]
  },
  {
   "cell_type": "markdown",
   "metadata": {
    "id": "0JuqrjJEBL6o"
   },
   "source": [
    "### Load pretrained model"
   ]
  },
  {
   "cell_type": "code",
   "execution_count": null,
   "metadata": {
    "id": "0jn1iHMyJNtM"
   },
   "outputs": [],
   "source": [
    "\"\"\"\n",
    "# Load model and tokenizer\n",
    "device = torch.device(\"cuda\" if torch.cuda.is_available() else \"cpu\")\n",
    "state_dict = torch.load(\"trained_model_gral_imbd.pth\", map_location=device)\n",
    "\n",
    "text_list = ['''President-elect Trump announced on Tuesday night that he intends to appoint Linda McMahon, former CEO of World Wrestling Entertainment (WWE), to lead the Department of Education. His announcement, which was posted on Truth Social, came hours after two sources told Fox News that McMahon was likely to be picked. \"It is my great honor to announce that Linda McMahon, former Administrator of the Small Business Administration, will be the United States Secretary of Education,\" Trump's statement read.\n",
    "\"As Secretary of Education, Linda will fight tirelessly to expand Choice to every State in America, and empower parents to make the best Education decisions for their families,\" the press release added. \"Linda served for two years on the Connecticut Board of Education, where she was one of fifteen members overseeing all Public Education in the State, including its Technical High School system.\"''',\n",
    "             '''Donald Trump believes presidents have almost absolute power. In his second term, there will be few political or legal restraints to check him. The president-elects sweeping victory over Vice President Kamala Harris suddenly turned the theoretical notion that he will indulge his autocratic instincts into a genuine possibility.When Trump returns to the White House in January as one of the most powerful presidents in history, hell be able to take advantage of his own filleting of guardrails during his first presidency, which he continued through legal maneuverings out of office.''',\n",
    "             '''Nearly 100 Democrats, including Salud Carbajal, requested the Ethics Committee release its report on former Congressman Matt Gaetz's misconduct allegations. The letter, led by Rep. Sean Casten, emphasized that the Senate needs information for Gaetz's attorney general nomination. House Speaker Mike Johnson opposed releasing the report, stating Gaetz is now a \"private citizen\" and outside the panel's jurisdiction.'''\n",
    "             , ''' A South Dakota judge dismissed a lawsuit from the anti-abortion group Life Defense targeting an abortion rights measure that voters later rejected.\n",
    "Judge John Pekas dismissed the lawsuit at the request of Life Defense, which had challenged the ballot measure's petitions.\n",
    "Voters in nine states, including South Dakota, rejected abortion rights measures during the November election. '''\n",
    "             ]\n",
    "model.to('cuda')\n",
    "print('Trained model predictions')\n",
    "for text in text_list:\n",
    "  inputs = tokenizer.encode(text, return_tensors='pt').to('cuda')\n",
    "\n",
    "  logits = model(inputs).logits\n",
    "  predictions = torch.max(logits,1).indices\n",
    "\n",
    "  #print(f'{text} - {id2label[predictions.tolist()[0]]}')\n",
    "  print(f'{id2label[predictions.tolist()[0]]}')\n",
    "\"\"\""
   ]
  },
  {
   "cell_type": "code",
   "execution_count": null,
   "metadata": {},
   "outputs": [],
   "source": [
    "from pyspark.sql import SparkSession\n",
    "import pyspark.sql.functions as F\n",
    "\n",
    "# List of classes\n",
    "classes = [\"LEFT\", \"RIGHT\", \"UNDECIDED\", \"CENTER\"]\n",
    "\n",
    "# Initialize metrics dictionary\n",
    "metrics_dict = {}\n",
    "\n",
    "for label in classes:\n",
    "    # Calculate TP, FP, FN for the current label\n",
    "    df_metrics = df.withColumn(\"TP\", F.when((F.col(\"pred_class\") == label) & (F.col(\"political_leaning\") == label), 1).otherwise(0)) \\\n",
    "                   .withColumn(\"FP\", F.when((F.col(\"pred_class\") == label) & (F.col(\"political_leaning\") != label), 1).otherwise(0)) \\\n",
    "                   .withColumn(\"FN\", F.when((F.col(\"pred_class\") != label) & (F.col(\"political_leaning\") == label), 1).otherwise(0)) \\\n",
    "                   .withColumn(\"TN\", F.when((F.col(\"pred_class\") != label) & (F.col(\"political_leaning\") != label), 1).otherwise(0))\n",
    "\n",
    "    # Aggregate metrics\n",
    "    aggregated = df_metrics.agg(\n",
    "        F.sum(\"TP\").alias(\"TP\"),\n",
    "        F.sum(\"FP\").alias(\"FP\"),\n",
    "        F.sum(\"FN\").alias(\"FN\"),\n",
    "        F.sum(\"TN\").alias(\"TN\")\n",
    "    ).collect()[0]\n",
    "\n",
    "    TP, FP, FN, TN = aggregated[\"TP\"], aggregated[\"FP\"], aggregated[\"FN\"], aggregated[\"TN\"]\n",
    "\n",
    "    # Calculate precision, recall, and F1-score\n",
    "    precision = TP / (TP + FP) if (TP + FP) > 0 else 0\n",
    "    recall = TP / (TP + FN) if (TP + FN) > 0 else 0\n",
    "    f1_score = 2 * (precision * recall) / (precision + recall) if (precision + recall) > 0 else 0\n",
    "\n",
    "    # Store results for the current label\n",
    "    metrics_dict[label] = {\n",
    "        \"Precision\": precision,\n",
    "        \"Recall\": recall,\n",
    "        \"F1 Score\": f1_score\n",
    "    }\n",
    "\n",
    "# Calculate overall accuracy\n",
    "correct_predictions = df.filter(F.col(\"pred_class\") == F.col(\"political_leaning\")).count()\n",
    "total_predictions = df.count()\n",
    "accuracy = correct_predictions / total_predictions\n",
    "\n",
    "# Display results\n",
    "print(f\"For Dataset 2017_1 Overall Accuracy: {accuracy:.2f}\")\n",
    "for label, metrics in metrics_dict.items():\n",
    "    print(f\"\\nMetrics for {label}:\")\n",
    "    print(f\"  Precision: {metrics['Precision']:.2f}\")\n",
    "    print(f\"  Recall: {metrics['Recall']:.2f}\")\n",
    "    print(f\"  F1 Score: {metrics['F1 Score']:.2f}\")"
   ]
  }
 ],
 "metadata": {
  "accelerator": "GPU",
  "colab": {
   "gpuType": "T4",
   "provenance": []
  },
  "kernelspec": {
   "display_name": "venv_lda_implementation",
   "language": "python",
   "name": "python3"
  },
  "language_info": {
   "codemirror_mode": {
    "name": "ipython",
    "version": 3
   },
   "file_extension": ".py",
   "mimetype": "text/x-python",
   "name": "python",
   "nbconvert_exporter": "python",
   "pygments_lexer": "ipython3",
   "version": "3.12.3"
  }
 },
 "nbformat": 4,
 "nbformat_minor": 0
}
