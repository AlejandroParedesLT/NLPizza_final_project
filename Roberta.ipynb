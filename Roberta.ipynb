{
  "nbformat": 4,
  "nbformat_minor": 0,
  "metadata": {
    "kernelspec": {
      "display_name": "Python 3",
      "language": "python",
      "name": "python3"
    },
    "language_info": {
      "name": "python",
      "version": "3.6.6",
      "mimetype": "text/x-python",
      "codemirror_mode": {
        "name": "ipython",
        "version": 3
      },
      "pygments_lexer": "ipython3",
      "nbconvert_exporter": "python",
      "file_extension": ".py"
    },
    "colab": {
      "provenance": []
    },
    "accelerator": "GPU"
  },
  "cells": [
    {
      "cell_type": "markdown",
      "metadata": {
        "id": "8OhO4xlwqExT"
      },
      "source": [
        "# Fine Tuning Roberta for Sentiment Analysis\n",
        "\n",
        "\n",
        "\n"
      ]
    },
    {
      "cell_type": "markdown",
      "metadata": {
        "id": "WTdfPjhFqExX"
      },
      "source": [
        "### Introduction\n",
        "\n",
        "In this tutorial I will be fine tuning a roberta model for the **Sentiment Analysis** problem.\n",
        "\n",
        "#### Flow of the notebook\n",
        "\n",
        "The notebook will be divided into seperate sections to provide a organized walk through for the process used. This process can be modified for individual use cases. The sections are:\n",
        "\n",
        "1. [Importing Python Libraries and preparing the environment](#section01)\n",
        "2. [Importing and Pre-Processing the domain data](#section02)\n",
        "3. [Preparing the Dataset and Dataloader](#section03)\n",
        "4. [Creating the Neural Network for Fine Tuning](#section04)\n",
        "5. [Fine Tuning the Model](#section05)\n",
        "6. [Validating the Model Performance](#section06)\n",
        "7. [Saving the model and artifacts for Inference in Future](#section07)\n",
        "\n",
        "#### Technical Details\n",
        "\n",
        "This script leverages on multiple tools designed by other teams. Details of the tools used below. Please ensure that these elements are present in your setup to successfully implement this script.\n",
        "\n",
        " - Data:\n",
        "\t - I will be using the dataset available at [Kaggle Competition](https://www.kaggle.com/c/movie-review-sentiment-analysis-kernels-only)\n",
        "\t - I will be referring only to the first csv file from the data dump: `train.tsv`\n",
        "\n",
        " - Language Model Used:\n",
        "\t - The RoBERTa model was proposed in RoBERTa: A Robustly Optimized BERT Pretraining Approach by Yinhan Liu, Myle Ott, Naman Goyal, Jingfei Du, Mandar Joshi, Danqi Chen, Omer Levy, Mike Lewis, Luke Zettlemoyer, Veselin Stoyanov. It is based on Google’s BERT model released in 2018.\n",
        "\t - [Blog-Post](https://ai.facebook.com/blog/roberta-an-optimized-method-for-pretraining-self-supervised-nlp-systems/)\n",
        "\t - [Research Paper](https://arxiv.org/pdf/1907.11692)\n",
        "     - [Documentation for python](https://huggingface.co/transformers/model_doc/roberta.html)\n",
        "\n",
        "\n",
        " - Hardware Requirements:\n",
        "\t - Python 3.6 and above\n",
        "\t - Pytorch, Transformers and All the stock Python ML Libraries\n",
        "\t - GPU enabled setup"
      ]
    },
    {
      "cell_type": "markdown",
      "metadata": {
        "id": "97CEi-bdqExb"
      },
      "source": [
        "<a id='section01'></a>\n",
        "### Importing Python Libraries and preparing the environment\n",
        "\n",
        "At this step we will be importing the libraries and modules needed to run our script. Libraries are:\n",
        "* Pandas\n",
        "* Pytorch\n",
        "* Pytorch Utils for Dataset and Dataloader\n",
        "* Transformers\n",
        "* tqdm\n",
        "* sklearn\n",
        "* Robert Model and Tokenizer\n",
        "\n",
        "Followed by that we will preapre the device for CUDA execeution. This configuration is needed if you want to leverage on onboard GPU."
      ]
    },
    {
      "cell_type": "code",
      "source": [
        "from google.colab import drive\n",
        "drive.mount('/content/gdrive')"
      ],
      "metadata": {
        "colab": {
          "base_uri": "https://localhost:8080/"
        },
        "id": "GjwxNfHInEEs",
        "outputId": "6faf074b-cb48-41f1-effb-6bd307163ada"
      },
      "execution_count": null,
      "outputs": [
        {
          "output_type": "stream",
          "name": "stdout",
          "text": [
            "Drive already mounted at /content/gdrive; to attempt to forcibly remount, call drive.mount(\"/content/gdrive\", force_remount=True).\n"
          ]
        }
      ]
    },
    {
      "cell_type": "code",
      "metadata": {
        "id": "a-GlywkSFegL",
        "colab": {
          "base_uri": "https://localhost:8080/"
        },
        "outputId": "972f9daa-bc81-435c-b8aa-fe4dfd14eb7f"
      },
      "source": [
        "!pip install transformers==3.0.2"
      ],
      "execution_count": null,
      "outputs": [
        {
          "output_type": "stream",
          "name": "stdout",
          "text": [
            "Collecting transformers==3.0.2\n",
            "  Using cached transformers-3.0.2-py3-none-any.whl.metadata (44 kB)\n",
            "Requirement already satisfied: numpy in /usr/local/lib/python3.10/dist-packages (from transformers==3.0.2) (1.26.4)\n",
            "Collecting tokenizers==0.8.1.rc1 (from transformers==3.0.2)\n",
            "  Using cached tokenizers-0.8.1rc1.tar.gz (97 kB)\n",
            "  Installing build dependencies ... \u001b[?25l\u001b[?25hdone\n",
            "  Getting requirements to build wheel ... \u001b[?25l\u001b[?25hdone\n",
            "  Preparing metadata (pyproject.toml) ... \u001b[?25l\u001b[?25hdone\n",
            "Requirement already satisfied: packaging in /usr/local/lib/python3.10/dist-packages (from transformers==3.0.2) (24.2)\n",
            "Requirement already satisfied: filelock in /usr/local/lib/python3.10/dist-packages (from transformers==3.0.2) (3.16.1)\n",
            "Requirement already satisfied: requests in /usr/local/lib/python3.10/dist-packages (from transformers==3.0.2) (2.32.3)\n",
            "Requirement already satisfied: tqdm>=4.27 in /usr/local/lib/python3.10/dist-packages (from transformers==3.0.2) (4.66.6)\n",
            "Requirement already satisfied: regex!=2019.12.17 in /usr/local/lib/python3.10/dist-packages (from transformers==3.0.2) (2024.9.11)\n",
            "Requirement already satisfied: sentencepiece!=0.1.92 in /usr/local/lib/python3.10/dist-packages (from transformers==3.0.2) (0.2.0)\n",
            "Collecting sacremoses (from transformers==3.0.2)\n",
            "  Using cached sacremoses-0.1.1-py3-none-any.whl.metadata (8.3 kB)\n",
            "Requirement already satisfied: charset-normalizer<4,>=2 in /usr/local/lib/python3.10/dist-packages (from requests->transformers==3.0.2) (3.4.0)\n",
            "Requirement already satisfied: idna<4,>=2.5 in /usr/local/lib/python3.10/dist-packages (from requests->transformers==3.0.2) (3.10)\n",
            "Requirement already satisfied: urllib3<3,>=1.21.1 in /usr/local/lib/python3.10/dist-packages (from requests->transformers==3.0.2) (2.2.3)\n",
            "Requirement already satisfied: certifi>=2017.4.17 in /usr/local/lib/python3.10/dist-packages (from requests->transformers==3.0.2) (2024.8.30)\n",
            "Requirement already satisfied: click in /usr/local/lib/python3.10/dist-packages (from sacremoses->transformers==3.0.2) (8.1.7)\n",
            "Requirement already satisfied: joblib in /usr/local/lib/python3.10/dist-packages (from sacremoses->transformers==3.0.2) (1.4.2)\n",
            "Using cached transformers-3.0.2-py3-none-any.whl (769 kB)\n",
            "Using cached sacremoses-0.1.1-py3-none-any.whl (897 kB)\n",
            "Building wheels for collected packages: tokenizers\n",
            "  \u001b[1;31merror\u001b[0m: \u001b[1msubprocess-exited-with-error\u001b[0m\n",
            "  \n",
            "  \u001b[31m×\u001b[0m \u001b[32mBuilding wheel for tokenizers \u001b[0m\u001b[1;32m(\u001b[0m\u001b[32mpyproject.toml\u001b[0m\u001b[1;32m)\u001b[0m did not run successfully.\n",
            "  \u001b[31m│\u001b[0m exit code: \u001b[1;36m1\u001b[0m\n",
            "  \u001b[31m╰─>\u001b[0m See above for output.\n",
            "  \n",
            "  \u001b[1;35mnote\u001b[0m: This error originates from a subprocess, and is likely not a problem with pip.\n",
            "  Building wheel for tokenizers (pyproject.toml) ... \u001b[?25l\u001b[?25herror\n",
            "\u001b[31m  ERROR: Failed building wheel for tokenizers\u001b[0m\u001b[31m\n",
            "\u001b[0mFailed to build tokenizers\n",
            "\u001b[31mERROR: ERROR: Failed to build installable wheels for some pyproject.toml based projects (tokenizers)\u001b[0m\u001b[31m\n",
            "\u001b[0m"
          ]
        }
      ]
    },
    {
      "cell_type": "code",
      "metadata": {
        "trusted": true,
        "_uuid": "e7b5f5ab6f8f300c8900321a91b9340376c986f2",
        "id": "979OUro5Eac3"
      },
      "source": [
        "# Importing the libraries needed\n",
        "import pandas as pd\n",
        "import numpy as np\n",
        "from sklearn.model_selection import train_test_split\n",
        "import torch\n",
        "import seaborn as sns\n",
        "import transformers\n",
        "import json\n",
        "from tqdm import tqdm\n",
        "from torch.utils.data import Dataset, DataLoader\n",
        "from transformers import RobertaModel, RobertaTokenizer\n",
        "import logging\n",
        "logging.basicConfig(level=logging.ERROR)"
      ],
      "execution_count": null,
      "outputs": []
    },
    {
      "cell_type": "code",
      "metadata": {
        "id": "sb1Q5N6LGK7z",
        "colab": {
          "base_uri": "https://localhost:8080/",
          "height": 35
        },
        "outputId": "ff5b7ebe-9e9b-43cc-c083-8fcb680aed3c"
      },
      "source": [
        "# Setting up the device for GPU usage\n",
        "\n",
        "from torch import cuda\n",
        "device = 'cuda' if cuda.is_available() else 'cpu'\n",
        "device"
      ],
      "execution_count": null,
      "outputs": [
        {
          "output_type": "execute_result",
          "data": {
            "text/plain": [
              "'cuda'"
            ],
            "application/vnd.google.colaboratory.intrinsic+json": {
              "type": "string"
            }
          },
          "metadata": {},
          "execution_count": 50
        }
      ]
    },
    {
      "cell_type": "code",
      "metadata": {
        "_cell_guid": "79c7e3d0-c299-4dcb-8224-4455121ee9b0",
        "_uuid": "d629ff2d2480ee46fbb7e2d37f6b5fab8052498a",
        "trusted": true,
        "id": "J3FzcAlgEac8"
      },
      "source": [
        "train = pd.read_csv('/content/gdrive/MyDrive/ColabNotebooks/NLP Project/2017_1.csv')#, delimiter='\\t')"
      ],
      "execution_count": null,
      "outputs": []
    },
    {
      "cell_type": "code",
      "metadata": {
        "id": "TFIoIjucGjJw",
        "outputId": "1206e9a4-11c1-4db5-f3a8-aab5f7e43b64",
        "colab": {
          "base_uri": "https://localhost:8080/"
        }
      },
      "source": [
        "train.shape"
      ],
      "execution_count": null,
      "outputs": [
        {
          "output_type": "execute_result",
          "data": {
            "text/plain": [
              "(146718, 10)"
            ]
          },
          "metadata": {},
          "execution_count": 52
        }
      ]
    },
    {
      "cell_type": "code",
      "metadata": {
        "trusted": true,
        "_uuid": "c8dee062192ea016c0d306d3441ae2c573e2183c",
        "id": "aTsOsl4MEadB",
        "outputId": "6ae7e052-1fb9-432f-b865-2f08846d2be4",
        "colab": {
          "base_uri": "https://localhost:8080/",
          "height": 590
        }
      },
      "source": [
        "train.head()"
      ],
      "execution_count": null,
      "outputs": [
        {
          "output_type": "execute_result",
          "data": {
            "text/plain": [
              "          id         date_publish             outlet  \\\n",
              "0   55171935  2017-01-01 00:00:00  Los Angeles Times   \n",
              "1   55208434  2017-01-01 00:00:00           NBC News   \n",
              "2   55172357  2017-01-01 00:00:00  Los Angeles Times   \n",
              "3  115892789  2017-01-01 00:00:00           ABC News   \n",
              "4    4375253  2017-01-01 00:00:00           Fox News   \n",
              "\n",
              "                                            headline  \\\n",
              "0  Afghan refugees coming to California struggle ...   \n",
              "1  Minimum Wages Will Rise in Nearly Two Dozen St...   \n",
              "2  Fire engulfs Long Beach apartment unit; man fo...   \n",
              "3  Obama Boosted White House Technology; Trump Se...   \n",
              "4  Most residents evacuated by sinkhole could ret...   \n",
              "\n",
              "                                                lead  \\\n",
              "0                                                NaN   \n",
              "1  Twenty-two states, plus the District of Columb...   \n",
              "2                                                NaN   \n",
              "3  Obama Boosted White House Technology; Trump Se...   \n",
              "4  The new public works commissioner in a suburba...   \n",
              "\n",
              "                                                body           authors  \\\n",
              "0  California's capital has emerged as a leading ...  Associated Press   \n",
              "1  Play Facebook\\nTwitter\\nGoogle Plus\\nEmbed Tru...     Emma Margolin   \n",
              "2  A man was found dead as a fire engulfed an apa...  Rong-Gong Lin Ii   \n",
              "3  As Barack Obama began preparing to leave offic...          Abc News   \n",
              "4  The new public works commissioner in a suburba...               NaN   \n",
              "\n",
              "            domain                                                url  \\\n",
              "0  www.latimes.com  http://www.latimes.com/local/lanow/la-me-ln-af...   \n",
              "1  www.nbcnews.com  http://www.nbcnews.com/news/us-news/minimum-wa...   \n",
              "2  www.latimes.com  http://www.latimes.com/local/lanow/la-me-ln-lo...   \n",
              "3   abcnews.go.com  http://abcnews.go.com/Technology/wireStory/oba...   \n",
              "4  www.foxnews.com  http://www.foxnews.com/us/2017/01/01/most-resi...   \n",
              "\n",
              "  political_leaning  \n",
              "0              LEFT  \n",
              "1            CENTER  \n",
              "2              LEFT  \n",
              "3            CENTER  \n",
              "4             RIGHT  "
            ],
            "text/html": [
              "\n",
              "  <div id=\"df-d5051ab3-f6b5-4d02-ac2c-50ed784768ef\" class=\"colab-df-container\">\n",
              "    <div>\n",
              "<style scoped>\n",
              "    .dataframe tbody tr th:only-of-type {\n",
              "        vertical-align: middle;\n",
              "    }\n",
              "\n",
              "    .dataframe tbody tr th {\n",
              "        vertical-align: top;\n",
              "    }\n",
              "\n",
              "    .dataframe thead th {\n",
              "        text-align: right;\n",
              "    }\n",
              "</style>\n",
              "<table border=\"1\" class=\"dataframe\">\n",
              "  <thead>\n",
              "    <tr style=\"text-align: right;\">\n",
              "      <th></th>\n",
              "      <th>id</th>\n",
              "      <th>date_publish</th>\n",
              "      <th>outlet</th>\n",
              "      <th>headline</th>\n",
              "      <th>lead</th>\n",
              "      <th>body</th>\n",
              "      <th>authors</th>\n",
              "      <th>domain</th>\n",
              "      <th>url</th>\n",
              "      <th>political_leaning</th>\n",
              "    </tr>\n",
              "  </thead>\n",
              "  <tbody>\n",
              "    <tr>\n",
              "      <th>0</th>\n",
              "      <td>55171935</td>\n",
              "      <td>2017-01-01 00:00:00</td>\n",
              "      <td>Los Angeles Times</td>\n",
              "      <td>Afghan refugees coming to California struggle ...</td>\n",
              "      <td>NaN</td>\n",
              "      <td>California's capital has emerged as a leading ...</td>\n",
              "      <td>Associated Press</td>\n",
              "      <td>www.latimes.com</td>\n",
              "      <td>http://www.latimes.com/local/lanow/la-me-ln-af...</td>\n",
              "      <td>LEFT</td>\n",
              "    </tr>\n",
              "    <tr>\n",
              "      <th>1</th>\n",
              "      <td>55208434</td>\n",
              "      <td>2017-01-01 00:00:00</td>\n",
              "      <td>NBC News</td>\n",
              "      <td>Minimum Wages Will Rise in Nearly Two Dozen St...</td>\n",
              "      <td>Twenty-two states, plus the District of Columb...</td>\n",
              "      <td>Play Facebook\\nTwitter\\nGoogle Plus\\nEmbed Tru...</td>\n",
              "      <td>Emma Margolin</td>\n",
              "      <td>www.nbcnews.com</td>\n",
              "      <td>http://www.nbcnews.com/news/us-news/minimum-wa...</td>\n",
              "      <td>CENTER</td>\n",
              "    </tr>\n",
              "    <tr>\n",
              "      <th>2</th>\n",
              "      <td>55172357</td>\n",
              "      <td>2017-01-01 00:00:00</td>\n",
              "      <td>Los Angeles Times</td>\n",
              "      <td>Fire engulfs Long Beach apartment unit; man fo...</td>\n",
              "      <td>NaN</td>\n",
              "      <td>A man was found dead as a fire engulfed an apa...</td>\n",
              "      <td>Rong-Gong Lin Ii</td>\n",
              "      <td>www.latimes.com</td>\n",
              "      <td>http://www.latimes.com/local/lanow/la-me-ln-lo...</td>\n",
              "      <td>LEFT</td>\n",
              "    </tr>\n",
              "    <tr>\n",
              "      <th>3</th>\n",
              "      <td>115892789</td>\n",
              "      <td>2017-01-01 00:00:00</td>\n",
              "      <td>ABC News</td>\n",
              "      <td>Obama Boosted White House Technology; Trump Se...</td>\n",
              "      <td>Obama Boosted White House Technology; Trump Se...</td>\n",
              "      <td>As Barack Obama began preparing to leave offic...</td>\n",
              "      <td>Abc News</td>\n",
              "      <td>abcnews.go.com</td>\n",
              "      <td>http://abcnews.go.com/Technology/wireStory/oba...</td>\n",
              "      <td>CENTER</td>\n",
              "    </tr>\n",
              "    <tr>\n",
              "      <th>4</th>\n",
              "      <td>4375253</td>\n",
              "      <td>2017-01-01 00:00:00</td>\n",
              "      <td>Fox News</td>\n",
              "      <td>Most residents evacuated by sinkhole could ret...</td>\n",
              "      <td>The new public works commissioner in a suburba...</td>\n",
              "      <td>The new public works commissioner in a suburba...</td>\n",
              "      <td>NaN</td>\n",
              "      <td>www.foxnews.com</td>\n",
              "      <td>http://www.foxnews.com/us/2017/01/01/most-resi...</td>\n",
              "      <td>RIGHT</td>\n",
              "    </tr>\n",
              "  </tbody>\n",
              "</table>\n",
              "</div>\n",
              "    <div class=\"colab-df-buttons\">\n",
              "\n",
              "  <div class=\"colab-df-container\">\n",
              "    <button class=\"colab-df-convert\" onclick=\"convertToInteractive('df-d5051ab3-f6b5-4d02-ac2c-50ed784768ef')\"\n",
              "            title=\"Convert this dataframe to an interactive table.\"\n",
              "            style=\"display:none;\">\n",
              "\n",
              "  <svg xmlns=\"http://www.w3.org/2000/svg\" height=\"24px\" viewBox=\"0 -960 960 960\">\n",
              "    <path d=\"M120-120v-720h720v720H120Zm60-500h600v-160H180v160Zm220 220h160v-160H400v160Zm0 220h160v-160H400v160ZM180-400h160v-160H180v160Zm440 0h160v-160H620v160ZM180-180h160v-160H180v160Zm440 0h160v-160H620v160Z\"/>\n",
              "  </svg>\n",
              "    </button>\n",
              "\n",
              "  <style>\n",
              "    .colab-df-container {\n",
              "      display:flex;\n",
              "      gap: 12px;\n",
              "    }\n",
              "\n",
              "    .colab-df-convert {\n",
              "      background-color: #E8F0FE;\n",
              "      border: none;\n",
              "      border-radius: 50%;\n",
              "      cursor: pointer;\n",
              "      display: none;\n",
              "      fill: #1967D2;\n",
              "      height: 32px;\n",
              "      padding: 0 0 0 0;\n",
              "      width: 32px;\n",
              "    }\n",
              "\n",
              "    .colab-df-convert:hover {\n",
              "      background-color: #E2EBFA;\n",
              "      box-shadow: 0px 1px 2px rgba(60, 64, 67, 0.3), 0px 1px 3px 1px rgba(60, 64, 67, 0.15);\n",
              "      fill: #174EA6;\n",
              "    }\n",
              "\n",
              "    .colab-df-buttons div {\n",
              "      margin-bottom: 4px;\n",
              "    }\n",
              "\n",
              "    [theme=dark] .colab-df-convert {\n",
              "      background-color: #3B4455;\n",
              "      fill: #D2E3FC;\n",
              "    }\n",
              "\n",
              "    [theme=dark] .colab-df-convert:hover {\n",
              "      background-color: #434B5C;\n",
              "      box-shadow: 0px 1px 3px 1px rgba(0, 0, 0, 0.15);\n",
              "      filter: drop-shadow(0px 1px 2px rgba(0, 0, 0, 0.3));\n",
              "      fill: #FFFFFF;\n",
              "    }\n",
              "  </style>\n",
              "\n",
              "    <script>\n",
              "      const buttonEl =\n",
              "        document.querySelector('#df-d5051ab3-f6b5-4d02-ac2c-50ed784768ef button.colab-df-convert');\n",
              "      buttonEl.style.display =\n",
              "        google.colab.kernel.accessAllowed ? 'block' : 'none';\n",
              "\n",
              "      async function convertToInteractive(key) {\n",
              "        const element = document.querySelector('#df-d5051ab3-f6b5-4d02-ac2c-50ed784768ef');\n",
              "        const dataTable =\n",
              "          await google.colab.kernel.invokeFunction('convertToInteractive',\n",
              "                                                    [key], {});\n",
              "        if (!dataTable) return;\n",
              "\n",
              "        const docLinkHtml = 'Like what you see? Visit the ' +\n",
              "          '<a target=\"_blank\" href=https://colab.research.google.com/notebooks/data_table.ipynb>data table notebook</a>'\n",
              "          + ' to learn more about interactive tables.';\n",
              "        element.innerHTML = '';\n",
              "        dataTable['output_type'] = 'display_data';\n",
              "        await google.colab.output.renderOutput(dataTable, element);\n",
              "        const docLink = document.createElement('div');\n",
              "        docLink.innerHTML = docLinkHtml;\n",
              "        element.appendChild(docLink);\n",
              "      }\n",
              "    </script>\n",
              "  </div>\n",
              "\n",
              "\n",
              "<div id=\"df-831e8ab6-642b-4221-8b30-437d6b438b3b\">\n",
              "  <button class=\"colab-df-quickchart\" onclick=\"quickchart('df-831e8ab6-642b-4221-8b30-437d6b438b3b')\"\n",
              "            title=\"Suggest charts\"\n",
              "            style=\"display:none;\">\n",
              "\n",
              "<svg xmlns=\"http://www.w3.org/2000/svg\" height=\"24px\"viewBox=\"0 0 24 24\"\n",
              "     width=\"24px\">\n",
              "    <g>\n",
              "        <path d=\"M19 3H5c-1.1 0-2 .9-2 2v14c0 1.1.9 2 2 2h14c1.1 0 2-.9 2-2V5c0-1.1-.9-2-2-2zM9 17H7v-7h2v7zm4 0h-2V7h2v10zm4 0h-2v-4h2v4z\"/>\n",
              "    </g>\n",
              "</svg>\n",
              "  </button>\n",
              "\n",
              "<style>\n",
              "  .colab-df-quickchart {\n",
              "      --bg-color: #E8F0FE;\n",
              "      --fill-color: #1967D2;\n",
              "      --hover-bg-color: #E2EBFA;\n",
              "      --hover-fill-color: #174EA6;\n",
              "      --disabled-fill-color: #AAA;\n",
              "      --disabled-bg-color: #DDD;\n",
              "  }\n",
              "\n",
              "  [theme=dark] .colab-df-quickchart {\n",
              "      --bg-color: #3B4455;\n",
              "      --fill-color: #D2E3FC;\n",
              "      --hover-bg-color: #434B5C;\n",
              "      --hover-fill-color: #FFFFFF;\n",
              "      --disabled-bg-color: #3B4455;\n",
              "      --disabled-fill-color: #666;\n",
              "  }\n",
              "\n",
              "  .colab-df-quickchart {\n",
              "    background-color: var(--bg-color);\n",
              "    border: none;\n",
              "    border-radius: 50%;\n",
              "    cursor: pointer;\n",
              "    display: none;\n",
              "    fill: var(--fill-color);\n",
              "    height: 32px;\n",
              "    padding: 0;\n",
              "    width: 32px;\n",
              "  }\n",
              "\n",
              "  .colab-df-quickchart:hover {\n",
              "    background-color: var(--hover-bg-color);\n",
              "    box-shadow: 0 1px 2px rgba(60, 64, 67, 0.3), 0 1px 3px 1px rgba(60, 64, 67, 0.15);\n",
              "    fill: var(--button-hover-fill-color);\n",
              "  }\n",
              "\n",
              "  .colab-df-quickchart-complete:disabled,\n",
              "  .colab-df-quickchart-complete:disabled:hover {\n",
              "    background-color: var(--disabled-bg-color);\n",
              "    fill: var(--disabled-fill-color);\n",
              "    box-shadow: none;\n",
              "  }\n",
              "\n",
              "  .colab-df-spinner {\n",
              "    border: 2px solid var(--fill-color);\n",
              "    border-color: transparent;\n",
              "    border-bottom-color: var(--fill-color);\n",
              "    animation:\n",
              "      spin 1s steps(1) infinite;\n",
              "  }\n",
              "\n",
              "  @keyframes spin {\n",
              "    0% {\n",
              "      border-color: transparent;\n",
              "      border-bottom-color: var(--fill-color);\n",
              "      border-left-color: var(--fill-color);\n",
              "    }\n",
              "    20% {\n",
              "      border-color: transparent;\n",
              "      border-left-color: var(--fill-color);\n",
              "      border-top-color: var(--fill-color);\n",
              "    }\n",
              "    30% {\n",
              "      border-color: transparent;\n",
              "      border-left-color: var(--fill-color);\n",
              "      border-top-color: var(--fill-color);\n",
              "      border-right-color: var(--fill-color);\n",
              "    }\n",
              "    40% {\n",
              "      border-color: transparent;\n",
              "      border-right-color: var(--fill-color);\n",
              "      border-top-color: var(--fill-color);\n",
              "    }\n",
              "    60% {\n",
              "      border-color: transparent;\n",
              "      border-right-color: var(--fill-color);\n",
              "    }\n",
              "    80% {\n",
              "      border-color: transparent;\n",
              "      border-right-color: var(--fill-color);\n",
              "      border-bottom-color: var(--fill-color);\n",
              "    }\n",
              "    90% {\n",
              "      border-color: transparent;\n",
              "      border-bottom-color: var(--fill-color);\n",
              "    }\n",
              "  }\n",
              "</style>\n",
              "\n",
              "  <script>\n",
              "    async function quickchart(key) {\n",
              "      const quickchartButtonEl =\n",
              "        document.querySelector('#' + key + ' button');\n",
              "      quickchartButtonEl.disabled = true;  // To prevent multiple clicks.\n",
              "      quickchartButtonEl.classList.add('colab-df-spinner');\n",
              "      try {\n",
              "        const charts = await google.colab.kernel.invokeFunction(\n",
              "            'suggestCharts', [key], {});\n",
              "      } catch (error) {\n",
              "        console.error('Error during call to suggestCharts:', error);\n",
              "      }\n",
              "      quickchartButtonEl.classList.remove('colab-df-spinner');\n",
              "      quickchartButtonEl.classList.add('colab-df-quickchart-complete');\n",
              "    }\n",
              "    (() => {\n",
              "      let quickchartButtonEl =\n",
              "        document.querySelector('#df-831e8ab6-642b-4221-8b30-437d6b438b3b button');\n",
              "      quickchartButtonEl.style.display =\n",
              "        google.colab.kernel.accessAllowed ? 'block' : 'none';\n",
              "    })();\n",
              "  </script>\n",
              "</div>\n",
              "\n",
              "    </div>\n",
              "  </div>\n"
            ],
            "application/vnd.google.colaboratory.intrinsic+json": {
              "type": "dataframe",
              "variable_name": "train"
            }
          },
          "metadata": {},
          "execution_count": 53
        }
      ]
    },
    {
      "cell_type": "code",
      "metadata": {
        "id": "lGcvxwWXIbfq",
        "outputId": "28b8ad8e-6e6a-4c0e-a86d-08b50f22b11a",
        "colab": {
          "base_uri": "https://localhost:8080/"
        }
      },
      "source": [
        "train['political_leaning'].unique()"
      ],
      "execution_count": null,
      "outputs": [
        {
          "output_type": "execute_result",
          "data": {
            "text/plain": [
              "array(['LEFT', 'CENTER', 'RIGHT', 'UNDEFINED'], dtype=object)"
            ]
          },
          "metadata": {},
          "execution_count": 54
        }
      ]
    },
    {
      "cell_type": "code",
      "metadata": {
        "trusted": true,
        "_uuid": "4cc9d80f5b9969346c8f5ff24e3ce8de25dfc93d",
        "id": "y43HcyWgEadG"
      },
      "source": [
        "#train.describe()"
      ],
      "execution_count": null,
      "outputs": []
    },
    {
      "cell_type": "code",
      "metadata": {
        "trusted": true,
        "_uuid": "01da38cc4626a85b73fbb526d9a8d128d1fd9338",
        "id": "baSmeDdIEadM",
        "colab": {
          "base_uri": "https://localhost:8080/",
          "height": 206
        },
        "outputId": "94045e25-8e02-4430-8acd-72439197abcc"
      },
      "source": [
        "# Define the mapping for political leaning categories to numeric values\n",
        "category_mapping = {\n",
        "    'LEFT': 0,\n",
        "    'CENTER': 1,\n",
        "    'RIGHT': 2,\n",
        "    'UNDEFINED': 3\n",
        "}\n",
        "\n",
        "# Create a copy of the DataFrame if you're going to modify it\n",
        "new_df = train[['body', 'political_leaning']].copy()\n",
        "\n",
        "# Use .loc to safely modify the column\n",
        "new_df.loc[:, 'political_leaning'] = new_df['political_leaning'].map(category_mapping)\n",
        "\n",
        "new_df.head()"
      ],
      "execution_count": null,
      "outputs": [
        {
          "output_type": "execute_result",
          "data": {
            "text/plain": [
              "                                                body political_leaning\n",
              "0  California's capital has emerged as a leading ...                 0\n",
              "1  Play Facebook\\nTwitter\\nGoogle Plus\\nEmbed Tru...                 1\n",
              "2  A man was found dead as a fire engulfed an apa...                 0\n",
              "3  As Barack Obama began preparing to leave offic...                 1\n",
              "4  The new public works commissioner in a suburba...                 2"
            ],
            "text/html": [
              "\n",
              "  <div id=\"df-7dd2f066-c231-4726-a59f-94a0eeaee5ba\" class=\"colab-df-container\">\n",
              "    <div>\n",
              "<style scoped>\n",
              "    .dataframe tbody tr th:only-of-type {\n",
              "        vertical-align: middle;\n",
              "    }\n",
              "\n",
              "    .dataframe tbody tr th {\n",
              "        vertical-align: top;\n",
              "    }\n",
              "\n",
              "    .dataframe thead th {\n",
              "        text-align: right;\n",
              "    }\n",
              "</style>\n",
              "<table border=\"1\" class=\"dataframe\">\n",
              "  <thead>\n",
              "    <tr style=\"text-align: right;\">\n",
              "      <th></th>\n",
              "      <th>body</th>\n",
              "      <th>political_leaning</th>\n",
              "    </tr>\n",
              "  </thead>\n",
              "  <tbody>\n",
              "    <tr>\n",
              "      <th>0</th>\n",
              "      <td>California's capital has emerged as a leading ...</td>\n",
              "      <td>0</td>\n",
              "    </tr>\n",
              "    <tr>\n",
              "      <th>1</th>\n",
              "      <td>Play Facebook\\nTwitter\\nGoogle Plus\\nEmbed Tru...</td>\n",
              "      <td>1</td>\n",
              "    </tr>\n",
              "    <tr>\n",
              "      <th>2</th>\n",
              "      <td>A man was found dead as a fire engulfed an apa...</td>\n",
              "      <td>0</td>\n",
              "    </tr>\n",
              "    <tr>\n",
              "      <th>3</th>\n",
              "      <td>As Barack Obama began preparing to leave offic...</td>\n",
              "      <td>1</td>\n",
              "    </tr>\n",
              "    <tr>\n",
              "      <th>4</th>\n",
              "      <td>The new public works commissioner in a suburba...</td>\n",
              "      <td>2</td>\n",
              "    </tr>\n",
              "  </tbody>\n",
              "</table>\n",
              "</div>\n",
              "    <div class=\"colab-df-buttons\">\n",
              "\n",
              "  <div class=\"colab-df-container\">\n",
              "    <button class=\"colab-df-convert\" onclick=\"convertToInteractive('df-7dd2f066-c231-4726-a59f-94a0eeaee5ba')\"\n",
              "            title=\"Convert this dataframe to an interactive table.\"\n",
              "            style=\"display:none;\">\n",
              "\n",
              "  <svg xmlns=\"http://www.w3.org/2000/svg\" height=\"24px\" viewBox=\"0 -960 960 960\">\n",
              "    <path d=\"M120-120v-720h720v720H120Zm60-500h600v-160H180v160Zm220 220h160v-160H400v160Zm0 220h160v-160H400v160ZM180-400h160v-160H180v160Zm440 0h160v-160H620v160ZM180-180h160v-160H180v160Zm440 0h160v-160H620v160Z\"/>\n",
              "  </svg>\n",
              "    </button>\n",
              "\n",
              "  <style>\n",
              "    .colab-df-container {\n",
              "      display:flex;\n",
              "      gap: 12px;\n",
              "    }\n",
              "\n",
              "    .colab-df-convert {\n",
              "      background-color: #E8F0FE;\n",
              "      border: none;\n",
              "      border-radius: 50%;\n",
              "      cursor: pointer;\n",
              "      display: none;\n",
              "      fill: #1967D2;\n",
              "      height: 32px;\n",
              "      padding: 0 0 0 0;\n",
              "      width: 32px;\n",
              "    }\n",
              "\n",
              "    .colab-df-convert:hover {\n",
              "      background-color: #E2EBFA;\n",
              "      box-shadow: 0px 1px 2px rgba(60, 64, 67, 0.3), 0px 1px 3px 1px rgba(60, 64, 67, 0.15);\n",
              "      fill: #174EA6;\n",
              "    }\n",
              "\n",
              "    .colab-df-buttons div {\n",
              "      margin-bottom: 4px;\n",
              "    }\n",
              "\n",
              "    [theme=dark] .colab-df-convert {\n",
              "      background-color: #3B4455;\n",
              "      fill: #D2E3FC;\n",
              "    }\n",
              "\n",
              "    [theme=dark] .colab-df-convert:hover {\n",
              "      background-color: #434B5C;\n",
              "      box-shadow: 0px 1px 3px 1px rgba(0, 0, 0, 0.15);\n",
              "      filter: drop-shadow(0px 1px 2px rgba(0, 0, 0, 0.3));\n",
              "      fill: #FFFFFF;\n",
              "    }\n",
              "  </style>\n",
              "\n",
              "    <script>\n",
              "      const buttonEl =\n",
              "        document.querySelector('#df-7dd2f066-c231-4726-a59f-94a0eeaee5ba button.colab-df-convert');\n",
              "      buttonEl.style.display =\n",
              "        google.colab.kernel.accessAllowed ? 'block' : 'none';\n",
              "\n",
              "      async function convertToInteractive(key) {\n",
              "        const element = document.querySelector('#df-7dd2f066-c231-4726-a59f-94a0eeaee5ba');\n",
              "        const dataTable =\n",
              "          await google.colab.kernel.invokeFunction('convertToInteractive',\n",
              "                                                    [key], {});\n",
              "        if (!dataTable) return;\n",
              "\n",
              "        const docLinkHtml = 'Like what you see? Visit the ' +\n",
              "          '<a target=\"_blank\" href=https://colab.research.google.com/notebooks/data_table.ipynb>data table notebook</a>'\n",
              "          + ' to learn more about interactive tables.';\n",
              "        element.innerHTML = '';\n",
              "        dataTable['output_type'] = 'display_data';\n",
              "        await google.colab.output.renderOutput(dataTable, element);\n",
              "        const docLink = document.createElement('div');\n",
              "        docLink.innerHTML = docLinkHtml;\n",
              "        element.appendChild(docLink);\n",
              "      }\n",
              "    </script>\n",
              "  </div>\n",
              "\n",
              "\n",
              "<div id=\"df-1574003a-f412-45d7-85d4-9250ffb62c66\">\n",
              "  <button class=\"colab-df-quickchart\" onclick=\"quickchart('df-1574003a-f412-45d7-85d4-9250ffb62c66')\"\n",
              "            title=\"Suggest charts\"\n",
              "            style=\"display:none;\">\n",
              "\n",
              "<svg xmlns=\"http://www.w3.org/2000/svg\" height=\"24px\"viewBox=\"0 0 24 24\"\n",
              "     width=\"24px\">\n",
              "    <g>\n",
              "        <path d=\"M19 3H5c-1.1 0-2 .9-2 2v14c0 1.1.9 2 2 2h14c1.1 0 2-.9 2-2V5c0-1.1-.9-2-2-2zM9 17H7v-7h2v7zm4 0h-2V7h2v10zm4 0h-2v-4h2v4z\"/>\n",
              "    </g>\n",
              "</svg>\n",
              "  </button>\n",
              "\n",
              "<style>\n",
              "  .colab-df-quickchart {\n",
              "      --bg-color: #E8F0FE;\n",
              "      --fill-color: #1967D2;\n",
              "      --hover-bg-color: #E2EBFA;\n",
              "      --hover-fill-color: #174EA6;\n",
              "      --disabled-fill-color: #AAA;\n",
              "      --disabled-bg-color: #DDD;\n",
              "  }\n",
              "\n",
              "  [theme=dark] .colab-df-quickchart {\n",
              "      --bg-color: #3B4455;\n",
              "      --fill-color: #D2E3FC;\n",
              "      --hover-bg-color: #434B5C;\n",
              "      --hover-fill-color: #FFFFFF;\n",
              "      --disabled-bg-color: #3B4455;\n",
              "      --disabled-fill-color: #666;\n",
              "  }\n",
              "\n",
              "  .colab-df-quickchart {\n",
              "    background-color: var(--bg-color);\n",
              "    border: none;\n",
              "    border-radius: 50%;\n",
              "    cursor: pointer;\n",
              "    display: none;\n",
              "    fill: var(--fill-color);\n",
              "    height: 32px;\n",
              "    padding: 0;\n",
              "    width: 32px;\n",
              "  }\n",
              "\n",
              "  .colab-df-quickchart:hover {\n",
              "    background-color: var(--hover-bg-color);\n",
              "    box-shadow: 0 1px 2px rgba(60, 64, 67, 0.3), 0 1px 3px 1px rgba(60, 64, 67, 0.15);\n",
              "    fill: var(--button-hover-fill-color);\n",
              "  }\n",
              "\n",
              "  .colab-df-quickchart-complete:disabled,\n",
              "  .colab-df-quickchart-complete:disabled:hover {\n",
              "    background-color: var(--disabled-bg-color);\n",
              "    fill: var(--disabled-fill-color);\n",
              "    box-shadow: none;\n",
              "  }\n",
              "\n",
              "  .colab-df-spinner {\n",
              "    border: 2px solid var(--fill-color);\n",
              "    border-color: transparent;\n",
              "    border-bottom-color: var(--fill-color);\n",
              "    animation:\n",
              "      spin 1s steps(1) infinite;\n",
              "  }\n",
              "\n",
              "  @keyframes spin {\n",
              "    0% {\n",
              "      border-color: transparent;\n",
              "      border-bottom-color: var(--fill-color);\n",
              "      border-left-color: var(--fill-color);\n",
              "    }\n",
              "    20% {\n",
              "      border-color: transparent;\n",
              "      border-left-color: var(--fill-color);\n",
              "      border-top-color: var(--fill-color);\n",
              "    }\n",
              "    30% {\n",
              "      border-color: transparent;\n",
              "      border-left-color: var(--fill-color);\n",
              "      border-top-color: var(--fill-color);\n",
              "      border-right-color: var(--fill-color);\n",
              "    }\n",
              "    40% {\n",
              "      border-color: transparent;\n",
              "      border-right-color: var(--fill-color);\n",
              "      border-top-color: var(--fill-color);\n",
              "    }\n",
              "    60% {\n",
              "      border-color: transparent;\n",
              "      border-right-color: var(--fill-color);\n",
              "    }\n",
              "    80% {\n",
              "      border-color: transparent;\n",
              "      border-right-color: var(--fill-color);\n",
              "      border-bottom-color: var(--fill-color);\n",
              "    }\n",
              "    90% {\n",
              "      border-color: transparent;\n",
              "      border-bottom-color: var(--fill-color);\n",
              "    }\n",
              "  }\n",
              "</style>\n",
              "\n",
              "  <script>\n",
              "    async function quickchart(key) {\n",
              "      const quickchartButtonEl =\n",
              "        document.querySelector('#' + key + ' button');\n",
              "      quickchartButtonEl.disabled = true;  // To prevent multiple clicks.\n",
              "      quickchartButtonEl.classList.add('colab-df-spinner');\n",
              "      try {\n",
              "        const charts = await google.colab.kernel.invokeFunction(\n",
              "            'suggestCharts', [key], {});\n",
              "      } catch (error) {\n",
              "        console.error('Error during call to suggestCharts:', error);\n",
              "      }\n",
              "      quickchartButtonEl.classList.remove('colab-df-spinner');\n",
              "      quickchartButtonEl.classList.add('colab-df-quickchart-complete');\n",
              "    }\n",
              "    (() => {\n",
              "      let quickchartButtonEl =\n",
              "        document.querySelector('#df-1574003a-f412-45d7-85d4-9250ffb62c66 button');\n",
              "      quickchartButtonEl.style.display =\n",
              "        google.colab.kernel.accessAllowed ? 'block' : 'none';\n",
              "    })();\n",
              "  </script>\n",
              "</div>\n",
              "\n",
              "    </div>\n",
              "  </div>\n"
            ],
            "application/vnd.google.colaboratory.intrinsic+json": {
              "type": "dataframe",
              "variable_name": "new_df"
            }
          },
          "metadata": {},
          "execution_count": 56
        }
      ]
    },
    {
      "cell_type": "markdown",
      "metadata": {
        "id": "c3Q9NDdmqEyo"
      },
      "source": [
        "<a id='section03'></a>\n",
        "### Preparing the Dataset and Dataloader\n",
        "\n",
        "I will start with defining few key variables that will be used later during the training/fine tuning stage.\n",
        "Followed by creation of Dataset class - This defines how the text is pre-processed before sending it to the neural network. I will also define the Dataloader that will feed  the data in batches to the neural network for suitable training and processing.\n",
        "Dataset and Dataloader are constructs of the PyTorch library for defining and controlling the data pre-processing and its passage to neural network. For further reading into Dataset and Dataloader read the [docs at PyTorch](https://pytorch.org/docs/stable/data.html)\n",
        "\n",
        "#### *SentimentData* Dataset Class\n",
        "- This class is defined to accept the Dataframe as input and generate tokenized output that is used by the Roberta model for training.\n",
        "- I am using the Roberta tokenizer to tokenize the data in the `TITLE` column of the dataframe.\n",
        "- The tokenizer uses the `encode_plus` method to perform tokenization and generate the necessary outputs, namely: `ids`, `attention_mask`\n",
        "- To read further into the tokenizer, [refer to this document](https://huggingface.co/transformers/model_doc/roberta.html#robertatokenizer)\n",
        "- `target` is the encoded category on the news headline.\n",
        "- The *SentimentData* class is used to create 2 datasets, for training and for validation.\n",
        "- *Training Dataset* is used to fine tune the model: **80% of the original data**\n",
        "- *Validation Dataset* is used to evaluate the performance of the model. The model has not seen this data during training.\n",
        "\n",
        "#### Dataloader\n",
        "- Dataloader is used to for creating training and validation dataloader that load data to the neural network in a defined manner. This is needed because all the data from the dataset cannot be loaded to the memory at once, hence the amount of dataloaded to the memory and then passed to the neural network needs to be controlled.\n",
        "- This control is achieved using the parameters such as `batch_size` and `max_len`.\n",
        "- Training and Validation dataloaders are used in the training and validation part of the flow respectively"
      ]
    },
    {
      "cell_type": "code",
      "metadata": {
        "id": "nvXxpfNCGER2"
      },
      "source": [
        "# Defining some key variables that will be used later on in the training\n",
        "MAX_LEN = 256\n",
        "TRAIN_BATCH_SIZE = 12\n",
        "VALID_BATCH_SIZE = 12\n",
        "# EPOCHS = 1\n",
        "LEARNING_RATE = 1e-05\n",
        "tokenizer = RobertaTokenizer.from_pretrained('roberta-base', truncation=True, do_lower_case=True)"
      ],
      "execution_count": null,
      "outputs": []
    },
    {
      "cell_type": "code",
      "metadata": {
        "id": "3vWRDemOGxJD"
      },
      "source": [
        "class PoliticalLeaningData(Dataset):\n",
        "    def __init__(self, dataframe, tokenizer, max_len):\n",
        "        self.tokenizer = tokenizer\n",
        "        self.data = dataframe\n",
        "        self.text = dataframe.body\n",
        "        self.targets = self.data.political_leaning\n",
        "        self.max_len = max_len\n",
        "\n",
        "    def __len__(self):\n",
        "        return len(self.text)\n",
        "\n",
        "    def __getitem__(self, index):\n",
        "        text = str(self.text[index])\n",
        "        text = \" \".join(text.split())\n",
        "\n",
        "        inputs = self.tokenizer.encode_plus(\n",
        "            text,\n",
        "            None,\n",
        "            add_special_tokens=True,\n",
        "            max_length=self.max_len,\n",
        "            pad_to_max_length=True,\n",
        "            return_token_type_ids=True\n",
        "        )\n",
        "        ids = inputs['input_ids']\n",
        "        mask = inputs['attention_mask']\n",
        "        token_type_ids = inputs[\"token_type_ids\"]\n",
        "\n",
        "\n",
        "        return {\n",
        "            'ids': torch.tensor(ids, dtype=torch.long),\n",
        "            'mask': torch.tensor(mask, dtype=torch.long),\n",
        "            'token_type_ids': torch.tensor(token_type_ids, dtype=torch.long),\n",
        "            'targets': torch.tensor(self.targets[index], dtype=torch.float)\n",
        "        }"
      ],
      "execution_count": null,
      "outputs": []
    },
    {
      "cell_type": "code",
      "metadata": {
        "id": "7Gpe9D1QHoCd",
        "outputId": "95f01567-f6c7-42f6-d6e0-4423d5d66cbb",
        "colab": {
          "base_uri": "https://localhost:8080/"
        }
      },
      "source": [
        "from sklearn.model_selection import train_test_split\n",
        "\n",
        "train_size = 0.8\n",
        "val_size = 0.1\n",
        "test_size = 0.1\n",
        "\n",
        "train_val_data, test_data = train_test_split(new_df, test_size=test_size, random_state=200)\n",
        "\n",
        "# Further split the train+val data into train and validation\n",
        "train_data, val_data = train_test_split(train_val_data, test_size=val_size / (train_size + val_size), random_state=200)\n",
        "\n",
        "# Reset the indexes for the new splits\n",
        "train_data = train_data.reset_index(drop=True)\n",
        "val_data = val_data.reset_index(drop=True)\n",
        "test_data = test_data.reset_index(drop=True)\n",
        "\n",
        "print(\"FULL Dataset: {}\".format(new_df.shape))\n",
        "print(\"TRAIN Dataset: {}\".format(train_data.shape))\n",
        "print(\"VALIDATION Dataset: {}\".format(val_data.shape))\n",
        "print(\"TEST Dataset: {}\".format(test_data.shape))\n",
        "\n",
        "# Create datasets for training, validation, and testing\n",
        "training_set = PoliticalLeaningData(train_data, tokenizer, MAX_LEN)\n",
        "validation_set = PoliticalLeaningData(val_data, tokenizer, MAX_LEN)\n",
        "testing_set = PoliticalLeaningData(test_data, tokenizer, MAX_LEN)\n"
      ],
      "execution_count": null,
      "outputs": [
        {
          "output_type": "stream",
          "name": "stdout",
          "text": [
            "FULL Dataset: (146718, 2)\n",
            "TRAIN Dataset: (117374, 2)\n",
            "VALIDATION Dataset: (14672, 2)\n",
            "TEST Dataset: (14672, 2)\n"
          ]
        }
      ]
    },
    {
      "cell_type": "code",
      "metadata": {
        "trusted": true,
        "_uuid": "9fc198d13d7f33dc70588c3f22bc7b7c4f4ebb45",
        "id": "c1tInLk2Eadt"
      },
      "source": [
        "train_params = {'batch_size': TRAIN_BATCH_SIZE,\n",
        "                'shuffle': True,\n",
        "                'num_workers': 0\n",
        "                }\n",
        "\n",
        "test_params = {'batch_size': VALID_BATCH_SIZE,\n",
        "                'shuffle': True,\n",
        "                'num_workers': 0\n",
        "                }\n",
        "\n",
        "training_loader = DataLoader(training_set, **train_params)\n",
        "valid_loader = DataLoader(validation_set, **test_params)\n",
        "testing_loader = DataLoader(testing_set, **test_params)"
      ],
      "execution_count": null,
      "outputs": []
    },
    {
      "cell_type": "markdown",
      "metadata": {
        "id": "yZk0A9K8qE0C"
      },
      "source": [
        "<a id='section04'></a>\n",
        "### Creating the Neural Network for Fine Tuning\n",
        "\n",
        "#### Neural Network\n",
        " - We will be creating a neural network with the `RobertaClass`.\n",
        " - This network will have the Roberta Language model followed by a `dropout` and finally a `Linear` layer to obtain the final outputs.\n",
        " - The data will be fed to the Roberta Language model as defined in the dataset.\n",
        " - Final layer outputs is what will be compared to the `Sentiment category` to determine the accuracy of models prediction.\n",
        " - We will initiate an instance of the network called `model`. This instance will be used for training and then to save the final trained model for future inference.\n",
        "\n",
        "#### Loss Function and Optimizer\n",
        " - `Loss Function` and `Optimizer` and defined in the next cell.\n",
        " - The `Loss Function` is used the calculate the difference in the output created by the model and the actual output.\n",
        " - `Optimizer` is used to update the weights of the neural network to improve its performance."
      ]
    },
    {
      "cell_type": "code",
      "metadata": {
        "trusted": true,
        "_uuid": "cb8f194ee79d76356be0002b0e18f947e1412d66",
        "id": "HMqQTafXEaei"
      },
      "source": [
        "class RobertaClass(torch.nn.Module):\n",
        "    def __init__(self):\n",
        "        super(RobertaClass, self).__init__()\n",
        "        self.l1 = RobertaModel.from_pretrained(\"roberta-base\")\n",
        "        # Freeze DistilBERT parameters\n",
        "        for param in self.l1.parameters():\n",
        "            param.requires_grad = False\n",
        "        self.pre_classifier = torch.nn.Linear(768, 768)\n",
        "        self.dropout = torch.nn.Dropout(0.3)\n",
        "        self.classifier = torch.nn.Linear(768, 5)\n",
        "\n",
        "    def forward(self, input_ids, attention_mask, token_type_ids):\n",
        "        output_1 = self.l1(input_ids=input_ids, attention_mask=attention_mask, token_type_ids=token_type_ids)\n",
        "        hidden_state = output_1[0]\n",
        "        pooler = hidden_state[:, 0]\n",
        "        pooler = self.pre_classifier(pooler)\n",
        "        pooler = torch.nn.ReLU()(pooler)\n",
        "        pooler = self.dropout(pooler)\n",
        "        output = self.classifier(pooler)\n",
        "        return output"
      ],
      "execution_count": null,
      "outputs": []
    },
    {
      "cell_type": "code",
      "metadata": {
        "id": "sZ55mIPZIkp_",
        "outputId": "c1cd7897-d2c5-4fa7-e964-07b7f84daed5",
        "colab": {
          "base_uri": "https://localhost:8080/"
        }
      },
      "source": [
        "model = RobertaClass()\n",
        "model.to(device)"
      ],
      "execution_count": null,
      "outputs": [
        {
          "output_type": "stream",
          "name": "stderr",
          "text": [
            "Some weights of RobertaModel were not initialized from the model checkpoint at roberta-base and are newly initialized: ['roberta.pooler.dense.bias', 'roberta.pooler.dense.weight']\n",
            "You should probably TRAIN this model on a down-stream task to be able to use it for predictions and inference.\n"
          ]
        },
        {
          "output_type": "execute_result",
          "data": {
            "text/plain": [
              "RobertaClass(\n",
              "  (l1): RobertaModel(\n",
              "    (embeddings): RobertaEmbeddings(\n",
              "      (word_embeddings): Embedding(50265, 768, padding_idx=1)\n",
              "      (position_embeddings): Embedding(514, 768, padding_idx=1)\n",
              "      (token_type_embeddings): Embedding(1, 768)\n",
              "      (LayerNorm): LayerNorm((768,), eps=1e-05, elementwise_affine=True)\n",
              "      (dropout): Dropout(p=0.1, inplace=False)\n",
              "    )\n",
              "    (encoder): RobertaEncoder(\n",
              "      (layer): ModuleList(\n",
              "        (0-11): 12 x RobertaLayer(\n",
              "          (attention): RobertaAttention(\n",
              "            (self): RobertaSdpaSelfAttention(\n",
              "              (query): Linear(in_features=768, out_features=768, bias=True)\n",
              "              (key): Linear(in_features=768, out_features=768, bias=True)\n",
              "              (value): Linear(in_features=768, out_features=768, bias=True)\n",
              "              (dropout): Dropout(p=0.1, inplace=False)\n",
              "            )\n",
              "            (output): RobertaSelfOutput(\n",
              "              (dense): Linear(in_features=768, out_features=768, bias=True)\n",
              "              (LayerNorm): LayerNorm((768,), eps=1e-05, elementwise_affine=True)\n",
              "              (dropout): Dropout(p=0.1, inplace=False)\n",
              "            )\n",
              "          )\n",
              "          (intermediate): RobertaIntermediate(\n",
              "            (dense): Linear(in_features=768, out_features=3072, bias=True)\n",
              "            (intermediate_act_fn): GELUActivation()\n",
              "          )\n",
              "          (output): RobertaOutput(\n",
              "            (dense): Linear(in_features=3072, out_features=768, bias=True)\n",
              "            (LayerNorm): LayerNorm((768,), eps=1e-05, elementwise_affine=True)\n",
              "            (dropout): Dropout(p=0.1, inplace=False)\n",
              "          )\n",
              "        )\n",
              "      )\n",
              "    )\n",
              "    (pooler): RobertaPooler(\n",
              "      (dense): Linear(in_features=768, out_features=768, bias=True)\n",
              "      (activation): Tanh()\n",
              "    )\n",
              "  )\n",
              "  (pre_classifier): Linear(in_features=768, out_features=768, bias=True)\n",
              "  (dropout): Dropout(p=0.3, inplace=False)\n",
              "  (classifier): Linear(in_features=768, out_features=5, bias=True)\n",
              ")"
            ]
          },
          "metadata": {},
          "execution_count": 62
        }
      ]
    },
    {
      "cell_type": "code",
      "source": [
        "for name, param in model.named_parameters():\n",
        "    print(f\"{name}: requires_grad={param.requires_grad}\")"
      ],
      "metadata": {
        "colab": {
          "base_uri": "https://localhost:8080/"
        },
        "id": "hx5iX-al-CXJ",
        "outputId": "a2407ce8-1775-4d0b-b353-f6aa5863fc17"
      },
      "execution_count": null,
      "outputs": [
        {
          "output_type": "stream",
          "name": "stdout",
          "text": [
            "l1.embeddings.word_embeddings.weight: requires_grad=False\n",
            "l1.embeddings.position_embeddings.weight: requires_grad=False\n",
            "l1.embeddings.token_type_embeddings.weight: requires_grad=False\n",
            "l1.embeddings.LayerNorm.weight: requires_grad=False\n",
            "l1.embeddings.LayerNorm.bias: requires_grad=False\n",
            "l1.encoder.layer.0.attention.self.query.weight: requires_grad=False\n",
            "l1.encoder.layer.0.attention.self.query.bias: requires_grad=False\n",
            "l1.encoder.layer.0.attention.self.key.weight: requires_grad=False\n",
            "l1.encoder.layer.0.attention.self.key.bias: requires_grad=False\n",
            "l1.encoder.layer.0.attention.self.value.weight: requires_grad=False\n",
            "l1.encoder.layer.0.attention.self.value.bias: requires_grad=False\n",
            "l1.encoder.layer.0.attention.output.dense.weight: requires_grad=False\n",
            "l1.encoder.layer.0.attention.output.dense.bias: requires_grad=False\n",
            "l1.encoder.layer.0.attention.output.LayerNorm.weight: requires_grad=False\n",
            "l1.encoder.layer.0.attention.output.LayerNorm.bias: requires_grad=False\n",
            "l1.encoder.layer.0.intermediate.dense.weight: requires_grad=False\n",
            "l1.encoder.layer.0.intermediate.dense.bias: requires_grad=False\n",
            "l1.encoder.layer.0.output.dense.weight: requires_grad=False\n",
            "l1.encoder.layer.0.output.dense.bias: requires_grad=False\n",
            "l1.encoder.layer.0.output.LayerNorm.weight: requires_grad=False\n",
            "l1.encoder.layer.0.output.LayerNorm.bias: requires_grad=False\n",
            "l1.encoder.layer.1.attention.self.query.weight: requires_grad=False\n",
            "l1.encoder.layer.1.attention.self.query.bias: requires_grad=False\n",
            "l1.encoder.layer.1.attention.self.key.weight: requires_grad=False\n",
            "l1.encoder.layer.1.attention.self.key.bias: requires_grad=False\n",
            "l1.encoder.layer.1.attention.self.value.weight: requires_grad=False\n",
            "l1.encoder.layer.1.attention.self.value.bias: requires_grad=False\n",
            "l1.encoder.layer.1.attention.output.dense.weight: requires_grad=False\n",
            "l1.encoder.layer.1.attention.output.dense.bias: requires_grad=False\n",
            "l1.encoder.layer.1.attention.output.LayerNorm.weight: requires_grad=False\n",
            "l1.encoder.layer.1.attention.output.LayerNorm.bias: requires_grad=False\n",
            "l1.encoder.layer.1.intermediate.dense.weight: requires_grad=False\n",
            "l1.encoder.layer.1.intermediate.dense.bias: requires_grad=False\n",
            "l1.encoder.layer.1.output.dense.weight: requires_grad=False\n",
            "l1.encoder.layer.1.output.dense.bias: requires_grad=False\n",
            "l1.encoder.layer.1.output.LayerNorm.weight: requires_grad=False\n",
            "l1.encoder.layer.1.output.LayerNorm.bias: requires_grad=False\n",
            "l1.encoder.layer.2.attention.self.query.weight: requires_grad=False\n",
            "l1.encoder.layer.2.attention.self.query.bias: requires_grad=False\n",
            "l1.encoder.layer.2.attention.self.key.weight: requires_grad=False\n",
            "l1.encoder.layer.2.attention.self.key.bias: requires_grad=False\n",
            "l1.encoder.layer.2.attention.self.value.weight: requires_grad=False\n",
            "l1.encoder.layer.2.attention.self.value.bias: requires_grad=False\n",
            "l1.encoder.layer.2.attention.output.dense.weight: requires_grad=False\n",
            "l1.encoder.layer.2.attention.output.dense.bias: requires_grad=False\n",
            "l1.encoder.layer.2.attention.output.LayerNorm.weight: requires_grad=False\n",
            "l1.encoder.layer.2.attention.output.LayerNorm.bias: requires_grad=False\n",
            "l1.encoder.layer.2.intermediate.dense.weight: requires_grad=False\n",
            "l1.encoder.layer.2.intermediate.dense.bias: requires_grad=False\n",
            "l1.encoder.layer.2.output.dense.weight: requires_grad=False\n",
            "l1.encoder.layer.2.output.dense.bias: requires_grad=False\n",
            "l1.encoder.layer.2.output.LayerNorm.weight: requires_grad=False\n",
            "l1.encoder.layer.2.output.LayerNorm.bias: requires_grad=False\n",
            "l1.encoder.layer.3.attention.self.query.weight: requires_grad=False\n",
            "l1.encoder.layer.3.attention.self.query.bias: requires_grad=False\n",
            "l1.encoder.layer.3.attention.self.key.weight: requires_grad=False\n",
            "l1.encoder.layer.3.attention.self.key.bias: requires_grad=False\n",
            "l1.encoder.layer.3.attention.self.value.weight: requires_grad=False\n",
            "l1.encoder.layer.3.attention.self.value.bias: requires_grad=False\n",
            "l1.encoder.layer.3.attention.output.dense.weight: requires_grad=False\n",
            "l1.encoder.layer.3.attention.output.dense.bias: requires_grad=False\n",
            "l1.encoder.layer.3.attention.output.LayerNorm.weight: requires_grad=False\n",
            "l1.encoder.layer.3.attention.output.LayerNorm.bias: requires_grad=False\n",
            "l1.encoder.layer.3.intermediate.dense.weight: requires_grad=False\n",
            "l1.encoder.layer.3.intermediate.dense.bias: requires_grad=False\n",
            "l1.encoder.layer.3.output.dense.weight: requires_grad=False\n",
            "l1.encoder.layer.3.output.dense.bias: requires_grad=False\n",
            "l1.encoder.layer.3.output.LayerNorm.weight: requires_grad=False\n",
            "l1.encoder.layer.3.output.LayerNorm.bias: requires_grad=False\n",
            "l1.encoder.layer.4.attention.self.query.weight: requires_grad=False\n",
            "l1.encoder.layer.4.attention.self.query.bias: requires_grad=False\n",
            "l1.encoder.layer.4.attention.self.key.weight: requires_grad=False\n",
            "l1.encoder.layer.4.attention.self.key.bias: requires_grad=False\n",
            "l1.encoder.layer.4.attention.self.value.weight: requires_grad=False\n",
            "l1.encoder.layer.4.attention.self.value.bias: requires_grad=False\n",
            "l1.encoder.layer.4.attention.output.dense.weight: requires_grad=False\n",
            "l1.encoder.layer.4.attention.output.dense.bias: requires_grad=False\n",
            "l1.encoder.layer.4.attention.output.LayerNorm.weight: requires_grad=False\n",
            "l1.encoder.layer.4.attention.output.LayerNorm.bias: requires_grad=False\n",
            "l1.encoder.layer.4.intermediate.dense.weight: requires_grad=False\n",
            "l1.encoder.layer.4.intermediate.dense.bias: requires_grad=False\n",
            "l1.encoder.layer.4.output.dense.weight: requires_grad=False\n",
            "l1.encoder.layer.4.output.dense.bias: requires_grad=False\n",
            "l1.encoder.layer.4.output.LayerNorm.weight: requires_grad=False\n",
            "l1.encoder.layer.4.output.LayerNorm.bias: requires_grad=False\n",
            "l1.encoder.layer.5.attention.self.query.weight: requires_grad=False\n",
            "l1.encoder.layer.5.attention.self.query.bias: requires_grad=False\n",
            "l1.encoder.layer.5.attention.self.key.weight: requires_grad=False\n",
            "l1.encoder.layer.5.attention.self.key.bias: requires_grad=False\n",
            "l1.encoder.layer.5.attention.self.value.weight: requires_grad=False\n",
            "l1.encoder.layer.5.attention.self.value.bias: requires_grad=False\n",
            "l1.encoder.layer.5.attention.output.dense.weight: requires_grad=False\n",
            "l1.encoder.layer.5.attention.output.dense.bias: requires_grad=False\n",
            "l1.encoder.layer.5.attention.output.LayerNorm.weight: requires_grad=False\n",
            "l1.encoder.layer.5.attention.output.LayerNorm.bias: requires_grad=False\n",
            "l1.encoder.layer.5.intermediate.dense.weight: requires_grad=False\n",
            "l1.encoder.layer.5.intermediate.dense.bias: requires_grad=False\n",
            "l1.encoder.layer.5.output.dense.weight: requires_grad=False\n",
            "l1.encoder.layer.5.output.dense.bias: requires_grad=False\n",
            "l1.encoder.layer.5.output.LayerNorm.weight: requires_grad=False\n",
            "l1.encoder.layer.5.output.LayerNorm.bias: requires_grad=False\n",
            "l1.encoder.layer.6.attention.self.query.weight: requires_grad=False\n",
            "l1.encoder.layer.6.attention.self.query.bias: requires_grad=False\n",
            "l1.encoder.layer.6.attention.self.key.weight: requires_grad=False\n",
            "l1.encoder.layer.6.attention.self.key.bias: requires_grad=False\n",
            "l1.encoder.layer.6.attention.self.value.weight: requires_grad=False\n",
            "l1.encoder.layer.6.attention.self.value.bias: requires_grad=False\n",
            "l1.encoder.layer.6.attention.output.dense.weight: requires_grad=False\n",
            "l1.encoder.layer.6.attention.output.dense.bias: requires_grad=False\n",
            "l1.encoder.layer.6.attention.output.LayerNorm.weight: requires_grad=False\n",
            "l1.encoder.layer.6.attention.output.LayerNorm.bias: requires_grad=False\n",
            "l1.encoder.layer.6.intermediate.dense.weight: requires_grad=False\n",
            "l1.encoder.layer.6.intermediate.dense.bias: requires_grad=False\n",
            "l1.encoder.layer.6.output.dense.weight: requires_grad=False\n",
            "l1.encoder.layer.6.output.dense.bias: requires_grad=False\n",
            "l1.encoder.layer.6.output.LayerNorm.weight: requires_grad=False\n",
            "l1.encoder.layer.6.output.LayerNorm.bias: requires_grad=False\n",
            "l1.encoder.layer.7.attention.self.query.weight: requires_grad=False\n",
            "l1.encoder.layer.7.attention.self.query.bias: requires_grad=False\n",
            "l1.encoder.layer.7.attention.self.key.weight: requires_grad=False\n",
            "l1.encoder.layer.7.attention.self.key.bias: requires_grad=False\n",
            "l1.encoder.layer.7.attention.self.value.weight: requires_grad=False\n",
            "l1.encoder.layer.7.attention.self.value.bias: requires_grad=False\n",
            "l1.encoder.layer.7.attention.output.dense.weight: requires_grad=False\n",
            "l1.encoder.layer.7.attention.output.dense.bias: requires_grad=False\n",
            "l1.encoder.layer.7.attention.output.LayerNorm.weight: requires_grad=False\n",
            "l1.encoder.layer.7.attention.output.LayerNorm.bias: requires_grad=False\n",
            "l1.encoder.layer.7.intermediate.dense.weight: requires_grad=False\n",
            "l1.encoder.layer.7.intermediate.dense.bias: requires_grad=False\n",
            "l1.encoder.layer.7.output.dense.weight: requires_grad=False\n",
            "l1.encoder.layer.7.output.dense.bias: requires_grad=False\n",
            "l1.encoder.layer.7.output.LayerNorm.weight: requires_grad=False\n",
            "l1.encoder.layer.7.output.LayerNorm.bias: requires_grad=False\n",
            "l1.encoder.layer.8.attention.self.query.weight: requires_grad=False\n",
            "l1.encoder.layer.8.attention.self.query.bias: requires_grad=False\n",
            "l1.encoder.layer.8.attention.self.key.weight: requires_grad=False\n",
            "l1.encoder.layer.8.attention.self.key.bias: requires_grad=False\n",
            "l1.encoder.layer.8.attention.self.value.weight: requires_grad=False\n",
            "l1.encoder.layer.8.attention.self.value.bias: requires_grad=False\n",
            "l1.encoder.layer.8.attention.output.dense.weight: requires_grad=False\n",
            "l1.encoder.layer.8.attention.output.dense.bias: requires_grad=False\n",
            "l1.encoder.layer.8.attention.output.LayerNorm.weight: requires_grad=False\n",
            "l1.encoder.layer.8.attention.output.LayerNorm.bias: requires_grad=False\n",
            "l1.encoder.layer.8.intermediate.dense.weight: requires_grad=False\n",
            "l1.encoder.layer.8.intermediate.dense.bias: requires_grad=False\n",
            "l1.encoder.layer.8.output.dense.weight: requires_grad=False\n",
            "l1.encoder.layer.8.output.dense.bias: requires_grad=False\n",
            "l1.encoder.layer.8.output.LayerNorm.weight: requires_grad=False\n",
            "l1.encoder.layer.8.output.LayerNorm.bias: requires_grad=False\n",
            "l1.encoder.layer.9.attention.self.query.weight: requires_grad=False\n",
            "l1.encoder.layer.9.attention.self.query.bias: requires_grad=False\n",
            "l1.encoder.layer.9.attention.self.key.weight: requires_grad=False\n",
            "l1.encoder.layer.9.attention.self.key.bias: requires_grad=False\n",
            "l1.encoder.layer.9.attention.self.value.weight: requires_grad=False\n",
            "l1.encoder.layer.9.attention.self.value.bias: requires_grad=False\n",
            "l1.encoder.layer.9.attention.output.dense.weight: requires_grad=False\n",
            "l1.encoder.layer.9.attention.output.dense.bias: requires_grad=False\n",
            "l1.encoder.layer.9.attention.output.LayerNorm.weight: requires_grad=False\n",
            "l1.encoder.layer.9.attention.output.LayerNorm.bias: requires_grad=False\n",
            "l1.encoder.layer.9.intermediate.dense.weight: requires_grad=False\n",
            "l1.encoder.layer.9.intermediate.dense.bias: requires_grad=False\n",
            "l1.encoder.layer.9.output.dense.weight: requires_grad=False\n",
            "l1.encoder.layer.9.output.dense.bias: requires_grad=False\n",
            "l1.encoder.layer.9.output.LayerNorm.weight: requires_grad=False\n",
            "l1.encoder.layer.9.output.LayerNorm.bias: requires_grad=False\n",
            "l1.encoder.layer.10.attention.self.query.weight: requires_grad=False\n",
            "l1.encoder.layer.10.attention.self.query.bias: requires_grad=False\n",
            "l1.encoder.layer.10.attention.self.key.weight: requires_grad=False\n",
            "l1.encoder.layer.10.attention.self.key.bias: requires_grad=False\n",
            "l1.encoder.layer.10.attention.self.value.weight: requires_grad=False\n",
            "l1.encoder.layer.10.attention.self.value.bias: requires_grad=False\n",
            "l1.encoder.layer.10.attention.output.dense.weight: requires_grad=False\n",
            "l1.encoder.layer.10.attention.output.dense.bias: requires_grad=False\n",
            "l1.encoder.layer.10.attention.output.LayerNorm.weight: requires_grad=False\n",
            "l1.encoder.layer.10.attention.output.LayerNorm.bias: requires_grad=False\n",
            "l1.encoder.layer.10.intermediate.dense.weight: requires_grad=False\n",
            "l1.encoder.layer.10.intermediate.dense.bias: requires_grad=False\n",
            "l1.encoder.layer.10.output.dense.weight: requires_grad=False\n",
            "l1.encoder.layer.10.output.dense.bias: requires_grad=False\n",
            "l1.encoder.layer.10.output.LayerNorm.weight: requires_grad=False\n",
            "l1.encoder.layer.10.output.LayerNorm.bias: requires_grad=False\n",
            "l1.encoder.layer.11.attention.self.query.weight: requires_grad=False\n",
            "l1.encoder.layer.11.attention.self.query.bias: requires_grad=False\n",
            "l1.encoder.layer.11.attention.self.key.weight: requires_grad=False\n",
            "l1.encoder.layer.11.attention.self.key.bias: requires_grad=False\n",
            "l1.encoder.layer.11.attention.self.value.weight: requires_grad=False\n",
            "l1.encoder.layer.11.attention.self.value.bias: requires_grad=False\n",
            "l1.encoder.layer.11.attention.output.dense.weight: requires_grad=False\n",
            "l1.encoder.layer.11.attention.output.dense.bias: requires_grad=False\n",
            "l1.encoder.layer.11.attention.output.LayerNorm.weight: requires_grad=False\n",
            "l1.encoder.layer.11.attention.output.LayerNorm.bias: requires_grad=False\n",
            "l1.encoder.layer.11.intermediate.dense.weight: requires_grad=False\n",
            "l1.encoder.layer.11.intermediate.dense.bias: requires_grad=False\n",
            "l1.encoder.layer.11.output.dense.weight: requires_grad=False\n",
            "l1.encoder.layer.11.output.dense.bias: requires_grad=False\n",
            "l1.encoder.layer.11.output.LayerNorm.weight: requires_grad=False\n",
            "l1.encoder.layer.11.output.LayerNorm.bias: requires_grad=False\n",
            "l1.pooler.dense.weight: requires_grad=False\n",
            "l1.pooler.dense.bias: requires_grad=False\n",
            "pre_classifier.weight: requires_grad=True\n",
            "pre_classifier.bias: requires_grad=True\n",
            "classifier.weight: requires_grad=True\n",
            "classifier.bias: requires_grad=True\n"
          ]
        }
      ]
    },
    {
      "cell_type": "markdown",
      "metadata": {
        "id": "gsRa7gY3qE0n"
      },
      "source": [
        "<a id='section05'></a>\n",
        "### Fine Tuning the Model\n",
        "\n",
        "After all the effort of loading and preparing the data and datasets, creating the model and defining its loss and optimizer. This is probably the easier steps in the process.\n",
        "\n",
        "Here we define a training function that trains the model on the training dataset created above, specified number of times (EPOCH), An epoch defines how many times the complete data will be passed through the network.\n",
        "\n",
        "Following events happen in this function to fine tune the neural network:\n",
        "- The dataloader passes data to the model based on the batch size.\n",
        "- Subsequent output from the model and the actual category are compared to calculate the loss.\n",
        "- Loss value is used to optimize the weights of the neurons in the network.\n",
        "- After every 5000 steps the loss value is printed in the console.\n",
        "\n",
        "As you can see just in 1 epoch by the final step the model was working with a loss of 0.8141926634122427."
      ]
    },
    {
      "cell_type": "code",
      "metadata": {
        "id": "XYZ7YuJ5InOS"
      },
      "source": [
        "# Creating the loss function and optimizer\n",
        "loss_function = torch.nn.CrossEntropyLoss()\n",
        "optimizer = torch.optim.Adam(params =  model.parameters(), lr=LEARNING_RATE)"
      ],
      "execution_count": null,
      "outputs": []
    },
    {
      "cell_type": "code",
      "metadata": {
        "id": "yPhA2V3iIpzN"
      },
      "source": [
        "def calcuate_accuracy(preds, targets):\n",
        "    n_correct = (preds==targets).sum().item()\n",
        "    return n_correct"
      ],
      "execution_count": null,
      "outputs": []
    },
    {
      "cell_type": "code",
      "metadata": {
        "id": "mhqvtY2SIup7"
      },
      "source": [
        "# Defining the training function on the 80% of the dataset for tuning the distilbert model\n",
        "\n",
        "def train(epoch):\n",
        "    tr_loss = 0\n",
        "    n_correct = 0\n",
        "    nb_tr_steps = 0\n",
        "    nb_tr_examples = 0\n",
        "    model.train()\n",
        "    for _,data in tqdm(enumerate(training_loader, 0)):\n",
        "        ids = data['ids'].to(device, dtype = torch.long)\n",
        "        mask = data['mask'].to(device, dtype = torch.long)\n",
        "        token_type_ids = data['token_type_ids'].to(device, dtype = torch.long)\n",
        "        targets = data['targets'].to(device, dtype = torch.long)\n",
        "\n",
        "        outputs = model(ids, mask, token_type_ids)\n",
        "        loss = loss_function(outputs, targets)\n",
        "        tr_loss += loss.item()\n",
        "        big_val, big_idx = torch.max(outputs.data, dim=1)\n",
        "        n_correct += calcuate_accuracy(big_idx, targets)\n",
        "\n",
        "        nb_tr_steps += 1\n",
        "        nb_tr_examples+=targets.size(0)\n",
        "\n",
        "        if _%5000==0:\n",
        "            loss_step = tr_loss/nb_tr_steps\n",
        "            accu_step = (n_correct*100)/nb_tr_examples\n",
        "            print(f\"Training Loss per 5000 steps: {loss_step}\")\n",
        "            print(f\"Training Accuracy per 5000 steps: {accu_step}\")\n",
        "\n",
        "        optimizer.zero_grad()\n",
        "        loss.backward()\n",
        "        # # When using GPU\n",
        "        optimizer.step()\n",
        "\n",
        "    print(f'The Total Accuracy for Epoch {epoch}: {(n_correct*100)/nb_tr_examples}')\n",
        "    epoch_loss = tr_loss/nb_tr_steps\n",
        "    epoch_accu = (n_correct*100)/nb_tr_examples\n",
        "    print(f\"Training Loss Epoch: {epoch_loss}\")\n",
        "    print(f\"Training Accuracy Epoch: {epoch_accu}\")\n",
        "\n",
        "    return\n",
        "\n",
        "def valid(model, testing_loader):\n",
        "    model.eval()\n",
        "    n_correct = 0; n_wrong = 0; total = 0; tr_loss=0; nb_tr_steps=0; nb_tr_examples=0\n",
        "    with torch.no_grad():\n",
        "        for _, data in tqdm(enumerate(testing_loader, 0)):\n",
        "            ids = data['ids'].to(device, dtype = torch.long)\n",
        "            mask = data['mask'].to(device, dtype = torch.long)\n",
        "            token_type_ids = data['token_type_ids'].to(device, dtype=torch.long)\n",
        "            targets = data['targets'].to(device, dtype = torch.long)\n",
        "            outputs = model(ids, mask, token_type_ids).squeeze()\n",
        "            loss = loss_function(outputs, targets)\n",
        "            tr_loss += loss.item()\n",
        "            big_val, big_idx = torch.max(outputs.data, dim=1)\n",
        "            n_correct += calcuate_accuracy(big_idx, targets)\n",
        "\n",
        "            nb_tr_steps += 1\n",
        "            nb_tr_examples+=targets.size(0)\n",
        "\n",
        "            if _%5000==0:\n",
        "                loss_step = tr_loss/nb_tr_steps\n",
        "                accu_step = (n_correct*100)/nb_tr_examples\n",
        "                print(f\"Validation Loss per 100 steps: {loss_step}\")\n",
        "                print(f\"Validation Accuracy per 100 steps: {accu_step}\")\n",
        "    epoch_loss = tr_loss/nb_tr_steps\n",
        "    epoch_accu = (n_correct*100)/nb_tr_examples\n",
        "    print(f\"Validation Loss Epoch: {epoch_loss}\")\n",
        "    print(f\"Validation Accuracy Epoch: {epoch_accu}\")\n",
        "\n",
        "    return epoch_loss, epoch_accu\n"
      ],
      "execution_count": null,
      "outputs": []
    },
    {
      "cell_type": "code",
      "metadata": {
        "id": "Afn7xaunJHnI",
        "outputId": "9dd921c6-89a7-4858-8fbb-b7015fb2cf22",
        "colab": {
          "base_uri": "https://localhost:8080/"
        }
      },
      "source": [
        "EPOCHS = 5\n",
        "best_val_loss = float(\"inf\")\n",
        "\n",
        "for epoch in range(EPOCHS):\n",
        "    print(f\"\\nEpoch {epoch + 1}/{EPOCHS}\")\n",
        "    print(\"-\" * 30)\n",
        "\n",
        "    train_loss = train(epoch)\n",
        "    val_loss, val_accuracy = valid(model, valid_loader)\n",
        "\n",
        "    # Save the best model\n",
        "    if val_loss < best_val_loss:\n",
        "        best_val_loss = val_loss\n",
        "        torch.save(model.state_dict(), \"best_model.pt\")\n",
        "        print(\"Saved Best Model!\")"
      ],
      "execution_count": null,
      "outputs": [
        {
          "output_type": "stream",
          "name": "stdout",
          "text": [
            "\n",
            "Epoch 1/5\n",
            "------------------------------\n"
          ]
        },
        {
          "output_type": "stream",
          "name": "stderr",
          "text": [
            "\r0it [00:00, ?it/s]Truncation was not explicitly activated but `max_length` is provided a specific value, please use `truncation=True` to explicitly truncate examples to max length. Defaulting to 'longest_first' truncation strategy. If you encode pairs of sequences (GLUE-style) with the tokenizer you can select this strategy more precisely by providing a specific strategy to `truncation`.\n",
            "/usr/local/lib/python3.10/dist-packages/transformers/tokenization_utils_base.py:2834: FutureWarning: The `pad_to_max_length` argument is deprecated and will be removed in a future version, use `padding=True` or `padding='longest'` to pad to the longest sequence in the batch, or use `padding='max_length'` to pad to a max length. In this case, you can give a specific length with `max_length` (e.g. `max_length=45`) or leave max_length to None to pad to the maximal input size of the model (e.g. 512 for Bert).\n",
            "  warnings.warn(\n",
            "1it [00:00,  1.56it/s]"
          ]
        },
        {
          "output_type": "stream",
          "name": "stdout",
          "text": [
            "Training Loss per 5000 steps: 1.6314553022384644\n",
            "Training Accuracy per 5000 steps: 16.666666666666668\n"
          ]
        },
        {
          "output_type": "stream",
          "name": "stderr",
          "text": [
            "5001it [18:57,  4.07it/s]"
          ]
        },
        {
          "output_type": "stream",
          "name": "stdout",
          "text": [
            "Training Loss per 5000 steps: 1.3282429759108145\n",
            "Training Accuracy per 5000 steps: 42.048257015263616\n"
          ]
        },
        {
          "output_type": "stream",
          "name": "stderr",
          "text": [
            "9782it [36:53,  4.42it/s]\n"
          ]
        },
        {
          "output_type": "stream",
          "name": "stdout",
          "text": [
            "The Total Accuracy for Epoch 0: 47.14417162233544\n",
            "Training Loss Epoch: 1.256951642265546\n",
            "Training Accuracy Epoch: 47.14417162233544\n"
          ]
        },
        {
          "output_type": "stream",
          "name": "stderr",
          "text": [
            "1it [00:00,  4.53it/s]"
          ]
        },
        {
          "output_type": "stream",
          "name": "stdout",
          "text": [
            "Validation Loss per 100 steps: 1.0087552070617676\n",
            "Validation Accuracy per 100 steps: 58.333333333333336\n"
          ]
        },
        {
          "output_type": "stream",
          "name": "stderr",
          "text": [
            "1223it [04:26,  4.59it/s]\n"
          ]
        },
        {
          "output_type": "stream",
          "name": "stdout",
          "text": [
            "Validation Loss Epoch: 1.120614881605178\n",
            "Validation Accuracy Epoch: 57.68811341330425\n",
            "Saved Best Model!\n",
            "\n",
            "Epoch 2/5\n",
            "------------------------------\n"
          ]
        },
        {
          "output_type": "stream",
          "name": "stderr",
          "text": [
            "1it [00:00,  2.62it/s]"
          ]
        },
        {
          "output_type": "stream",
          "name": "stdout",
          "text": [
            "Training Loss per 5000 steps: 1.206271767616272\n",
            "Training Accuracy per 5000 steps: 66.66666666666667\n"
          ]
        },
        {
          "output_type": "stream",
          "name": "stderr",
          "text": [
            "5001it [18:33,  4.65it/s]"
          ]
        },
        {
          "output_type": "stream",
          "name": "stdout",
          "text": [
            "Training Loss per 5000 steps: 1.0946963018022806\n",
            "Training Accuracy per 5000 steps: 55.71885622875425\n"
          ]
        },
        {
          "output_type": "stream",
          "name": "stderr",
          "text": [
            "9782it [36:16,  4.49it/s]\n"
          ]
        },
        {
          "output_type": "stream",
          "name": "stdout",
          "text": [
            "The Total Accuracy for Epoch 1: 56.509107638829725\n",
            "Training Loss Epoch: 1.0670715943298756\n",
            "Training Accuracy Epoch: 56.509107638829725\n"
          ]
        },
        {
          "output_type": "stream",
          "name": "stderr",
          "text": [
            "1it [00:00,  5.03it/s]"
          ]
        },
        {
          "output_type": "stream",
          "name": "stdout",
          "text": [
            "Validation Loss per 100 steps: 0.8601274490356445\n",
            "Validation Accuracy per 100 steps: 66.66666666666667\n"
          ]
        },
        {
          "output_type": "stream",
          "name": "stderr",
          "text": [
            "1223it [04:26,  4.60it/s]\n"
          ]
        },
        {
          "output_type": "stream",
          "name": "stdout",
          "text": [
            "Validation Loss Epoch: 0.9810802497438788\n",
            "Validation Accuracy Epoch: 60.284896401308615\n",
            "Saved Best Model!\n",
            "\n",
            "Epoch 3/5\n",
            "------------------------------\n"
          ]
        },
        {
          "output_type": "stream",
          "name": "stderr",
          "text": [
            "1it [00:00,  3.73it/s]"
          ]
        },
        {
          "output_type": "stream",
          "name": "stdout",
          "text": [
            "Training Loss per 5000 steps: 0.9718253016471863\n",
            "Training Accuracy per 5000 steps: 66.66666666666667\n"
          ]
        },
        {
          "output_type": "stream",
          "name": "stderr",
          "text": [
            "5001it [18:31,  3.85it/s]"
          ]
        },
        {
          "output_type": "stream",
          "name": "stdout",
          "text": [
            "Training Loss per 5000 steps: 0.995922302340441\n",
            "Training Accuracy per 5000 steps: 58.541625008331664\n"
          ]
        },
        {
          "output_type": "stream",
          "name": "stderr",
          "text": [
            "9782it [36:16,  4.50it/s]\n"
          ]
        },
        {
          "output_type": "stream",
          "name": "stdout",
          "text": [
            "The Total Accuracy for Epoch 2: 59.48506483548316\n",
            "Training Loss Epoch: 0.979189488600366\n",
            "Training Accuracy Epoch: 59.48506483548316\n"
          ]
        },
        {
          "output_type": "stream",
          "name": "stderr",
          "text": [
            "2it [00:00,  4.93it/s]"
          ]
        },
        {
          "output_type": "stream",
          "name": "stdout",
          "text": [
            "Validation Loss per 100 steps: 0.9742762446403503\n",
            "Validation Accuracy per 100 steps: 50.0\n"
          ]
        },
        {
          "output_type": "stream",
          "name": "stderr",
          "text": [
            "1223it [04:24,  4.62it/s]\n"
          ]
        },
        {
          "output_type": "stream",
          "name": "stdout",
          "text": [
            "Validation Loss Epoch: 0.9050507780868112\n",
            "Validation Accuracy Epoch: 62.54089422028353\n",
            "Saved Best Model!\n",
            "\n",
            "Epoch 4/5\n",
            "------------------------------\n"
          ]
        },
        {
          "output_type": "stream",
          "name": "stderr",
          "text": [
            "1it [00:00,  3.61it/s]"
          ]
        },
        {
          "output_type": "stream",
          "name": "stdout",
          "text": [
            "Training Loss per 5000 steps: 0.9044046401977539\n",
            "Training Accuracy per 5000 steps: 75.0\n"
          ]
        },
        {
          "output_type": "stream",
          "name": "stderr",
          "text": [
            "5001it [18:34,  4.41it/s]"
          ]
        },
        {
          "output_type": "stream",
          "name": "stdout",
          "text": [
            "Training Loss per 5000 steps: 0.9424446745470414\n",
            "Training Accuracy per 5000 steps: 60.90115310271279\n"
          ]
        },
        {
          "output_type": "stream",
          "name": "stderr",
          "text": [
            "9782it [36:17,  4.49it/s]\n"
          ]
        },
        {
          "output_type": "stream",
          "name": "stdout",
          "text": [
            "The Total Accuracy for Epoch 3: 61.68146267486837\n",
            "Training Loss Epoch: 0.9317738069935436\n",
            "Training Accuracy Epoch: 61.68146267486837\n"
          ]
        },
        {
          "output_type": "stream",
          "name": "stderr",
          "text": [
            "2it [00:00,  4.95it/s]"
          ]
        },
        {
          "output_type": "stream",
          "name": "stdout",
          "text": [
            "Validation Loss per 100 steps: 0.8711225986480713\n",
            "Validation Accuracy per 100 steps: 75.0\n"
          ]
        },
        {
          "output_type": "stream",
          "name": "stderr",
          "text": [
            "1223it [04:25,  4.60it/s]\n"
          ]
        },
        {
          "output_type": "stream",
          "name": "stdout",
          "text": [
            "Validation Loss Epoch: 0.8547482831938191\n",
            "Validation Accuracy Epoch: 65.71701199563795\n",
            "Saved Best Model!\n",
            "\n",
            "Epoch 5/5\n",
            "------------------------------\n"
          ]
        },
        {
          "output_type": "stream",
          "name": "stderr",
          "text": [
            "1it [00:00,  3.76it/s]"
          ]
        },
        {
          "output_type": "stream",
          "name": "stdout",
          "text": [
            "Training Loss per 5000 steps: 0.9181854128837585\n",
            "Training Accuracy per 5000 steps: 66.66666666666667\n"
          ]
        },
        {
          "output_type": "stream",
          "name": "stderr",
          "text": [
            "5001it [18:38,  4.68it/s]"
          ]
        },
        {
          "output_type": "stream",
          "name": "stdout",
          "text": [
            "Training Loss per 5000 steps: 0.9015842925260316\n",
            "Training Accuracy per 5000 steps: 63.57561820969139\n"
          ]
        },
        {
          "output_type": "stream",
          "name": "stderr",
          "text": [
            "9782it [36:24,  4.48it/s]\n"
          ]
        },
        {
          "output_type": "stream",
          "name": "stdout",
          "text": [
            "The Total Accuracy for Epoch 4: 64.00906503995775\n",
            "Training Loss Epoch: 0.8945053693914774\n",
            "Training Accuracy Epoch: 64.00906503995775\n"
          ]
        },
        {
          "output_type": "stream",
          "name": "stderr",
          "text": [
            "2it [00:00,  5.18it/s]"
          ]
        },
        {
          "output_type": "stream",
          "name": "stdout",
          "text": [
            "Validation Loss per 100 steps: 0.7193301320075989\n",
            "Validation Accuracy per 100 steps: 66.66666666666667\n"
          ]
        },
        {
          "output_type": "stream",
          "name": "stderr",
          "text": [
            "1223it [04:26,  4.59it/s]\n"
          ]
        },
        {
          "output_type": "stream",
          "name": "stdout",
          "text": [
            "Validation Loss Epoch: 0.8159474954435499\n",
            "Validation Accuracy Epoch: 67.95937840785169\n",
            "Saved Best Model!\n"
          ]
        }
      ]
    },
    {
      "cell_type": "markdown",
      "metadata": {
        "id": "vOcgTsovqE1A"
      },
      "source": [
        "<a id='section06'></a>\n",
        "### Validating the Model\n",
        "\n",
        "During the validation stage we pass the unseen data(Testing Dataset) to the model. This step determines how good the model performs on the unseen data.\n",
        "\n",
        "This unseen data is the 20% of `train.tsv` which was seperated during the Dataset creation stage.\n",
        "During the validation stage the weights of the model are not updated. Only the final output is compared to the actual value. This comparison is then used to calcuate the accuracy of the model.\n",
        "\n",
        "As you can see the model is predicting the correct category of a given sample to a 69.47% accuracy which can further be improved by training more."
      ]
    },
    {
      "cell_type": "code",
      "metadata": {
        "id": "UcUylInzKdV-",
        "colab": {
          "base_uri": "https://localhost:8080/",
          "height": 300
        },
        "outputId": "7f471063-b8a1-4034-bef6-0609e4d19fb9"
      },
      "source": [
        "acc = valid(model, testing_loader)\n",
        "print(\"Accuracy on test data = %0.2f%%\" % acc)"
      ],
      "execution_count": null,
      "outputs": [
        {
          "output_type": "stream",
          "name": "stderr",
          "text": [
            "\r0it [00:00, ?it/s]/usr/local/lib/python3.10/dist-packages/transformers/tokenization_utils_base.py:2834: FutureWarning: The `pad_to_max_length` argument is deprecated and will be removed in a future version, use `padding=True` or `padding='longest'` to pad to the longest sequence in the batch, or use `padding='max_length'` to pad to a max length. In this case, you can give a specific length with `max_length` (e.g. `max_length=45`) or leave max_length to None to pad to the maximal input size of the model (e.g. 512 for Bert).\n",
            "  warnings.warn(\n",
            "2it [00:00,  4.53it/s]"
          ]
        },
        {
          "output_type": "stream",
          "name": "stdout",
          "text": [
            "Validation Loss per 100 steps: 0.5649397969245911\n",
            "Validation Accuracy per 100 steps: 91.66666666666667\n"
          ]
        },
        {
          "output_type": "stream",
          "name": "stderr",
          "text": [
            "1223it [04:27,  4.58it/s]"
          ]
        },
        {
          "output_type": "stream",
          "name": "stdout",
          "text": [
            "Validation Loss Epoch: 0.8167944342166015\n",
            "Validation Accuracy Epoch: 68.15703380588877\n"
          ]
        },
        {
          "output_type": "stream",
          "name": "stderr",
          "text": [
            "\n"
          ]
        },
        {
          "output_type": "error",
          "ename": "TypeError",
          "evalue": "not all arguments converted during string formatting",
          "traceback": [
            "\u001b[0;31m---------------------------------------------------------------------------\u001b[0m",
            "\u001b[0;31mTypeError\u001b[0m                                 Traceback (most recent call last)",
            "\u001b[0;32m<ipython-input-72-aeae107146f7>\u001b[0m in \u001b[0;36m<cell line: 2>\u001b[0;34m()\u001b[0m\n\u001b[1;32m      1\u001b[0m \u001b[0macc\u001b[0m \u001b[0;34m=\u001b[0m \u001b[0mvalid\u001b[0m\u001b[0;34m(\u001b[0m\u001b[0mmodel\u001b[0m\u001b[0;34m,\u001b[0m \u001b[0mtesting_loader\u001b[0m\u001b[0;34m)\u001b[0m\u001b[0;34m\u001b[0m\u001b[0;34m\u001b[0m\u001b[0m\n\u001b[0;32m----> 2\u001b[0;31m \u001b[0mprint\u001b[0m\u001b[0;34m(\u001b[0m\u001b[0;34m\"Accuracy on test data = %0.2f%%\"\u001b[0m \u001b[0;34m%\u001b[0m \u001b[0macc\u001b[0m\u001b[0;34m)\u001b[0m\u001b[0;34m\u001b[0m\u001b[0;34m\u001b[0m\u001b[0m\n\u001b[0m",
            "\u001b[0;31mTypeError\u001b[0m: not all arguments converted during string formatting"
          ]
        }
      ]
    },
    {
      "cell_type": "markdown",
      "metadata": {
        "id": "tZgO6C1BqE1a"
      },
      "source": [
        "<a id='section07'></a>\n",
        "### Saving the Trained Model Artifacts for inference\n",
        "\n",
        "This is the final step in the process of fine tuning the model.\n",
        "\n",
        "The model and its vocabulary are saved locally. These files are then used in the future to make inference on new inputs of news headlines."
      ]
    },
    {
      "cell_type": "code",
      "metadata": {
        "id": "8eKt004BKjyT"
      },
      "source": [
        "output_model_file = 'roberta_classification.bin'\n",
        "output_vocab_file = './'\n",
        "\n",
        "model_to_save = model\n",
        "torch.save(model_to_save, output_model_file)\n",
        "tokenizer.save_vocabulary(output_vocab_file)\n",
        "\n",
        "print('All files saved')\n",
        "print('This tutorial is completed')"
      ],
      "execution_count": null,
      "outputs": []
    },
    {
      "cell_type": "code",
      "metadata": {
        "id": "IetKrn_SY-OT"
      },
      "source": [],
      "execution_count": null,
      "outputs": []
    },
    {
      "cell_type": "code",
      "source": [
        "!cp best_model.pt '/content/gdrive/MyDrive/ColabNotebooks/NLP Project/Roberta_model_pretrained/'"
      ],
      "metadata": {
        "id": "155rjKJdCIj5"
      },
      "execution_count": null,
      "outputs": []
    }
  ]
}