{
 "cells": [
  {
   "cell_type": "markdown",
   "metadata": {
    "id": "8OhO4xlwqExT"
   },
   "source": [
    "# Document Classification on political leaning in news with RoBERTA"
   ]
  },
  {
   "cell_type": "markdown",
   "metadata": {
    "id": "WTdfPjhFqExX"
   },
   "source": [
    "- Language Model Used:\n",
    "\t- The RoBERTa model was proposed in RoBERTa: A Robustly Optimized BERT Pretraining Approach by Yinhan Liu, Myle Ott, Naman Goyal, Jingfei Du, Mandar Joshi, Danqi Chen, Omer Levy, Mike Lewis, Luke Zettlemoyer, Veselin Stoyanov. It is based on Google’s BERT model released in 2018.\n",
    "\t- [Blog-Post](https://ai.facebook.com/blog/roberta-an-optimized-method-for-pretraining-self-supervised-nlp-systems/)\n",
    "\t- [Research Paper](https://arxiv.org/pdf/1907.11692)\n",
    "\t- [Documentation for python](https://huggingface.co/transformers/model_doc/roberta.html)\n",
    "\n",
    "\n",
    "- Hardware Requirements:\n",
    "\t- Python 3.6 and above\n",
    "\t- Pytorch, Transformers and All the stock Python ML Libraries\n",
    "\t- GPU enabled setup"
   ]
  },
  {
   "cell_type": "markdown",
   "metadata": {
    "id": "97CEi-bdqExb"
   },
   "source": [
    "<a id='section01'></a>\n",
    "### Importing Python Libraries and preparing the environment\n",
    "\n",
    "At this step we will be importing the libraries and modules needed to run our script. Libraries are:\n",
    "* Pandas\n",
    "* Pytorch\n",
    "* Pytorch Utils for Dataset and Dataloader\n",
    "* Transformers\n",
    "* tqdm\n",
    "* sklearn\n",
    "* Robert Model and Tokenizer"
   ]
  },
  {
   "cell_type": "code",
   "execution_count": 1,
   "metadata": {
    "colab": {
     "base_uri": "https://localhost:8080/"
    },
    "id": "GjwxNfHInEEs",
    "outputId": "6faf074b-cb48-41f1-effb-6bd307163ada"
   },
   "outputs": [],
   "source": [
    "#from google.colab import drive\n",
    "#drive.mount('/content/gdrive')"
   ]
  },
  {
   "cell_type": "code",
   "execution_count": 2,
   "metadata": {
    "colab": {
     "base_uri": "https://localhost:8080/"
    },
    "id": "a-GlywkSFegL",
    "outputId": "972f9daa-bc81-435c-b8aa-fe4dfd14eb7f"
   },
   "outputs": [],
   "source": [
    "#!pip install transformers==3.0.2"
   ]
  },
  {
   "cell_type": "code",
   "execution_count": 3,
   "metadata": {
    "_uuid": "e7b5f5ab6f8f300c8900321a91b9340376c986f2",
    "id": "979OUro5Eac3",
    "trusted": true
   },
   "outputs": [
    {
     "name": "stderr",
     "output_type": "stream",
     "text": [
      "c:\\Users\\ALEJANDRO\\Documents\\7. DUKE\\1. ECE 684 - NLP\\Assignments\\Final Project\\venv_lda_implementation\\Lib\\site-packages\\tqdm\\auto.py:21: TqdmWarning: IProgress not found. Please update jupyter and ipywidgets. See https://ipywidgets.readthedocs.io/en/stable/user_install.html\n",
      "  from .autonotebook import tqdm as notebook_tqdm\n"
     ]
    }
   ],
   "source": [
    "# Importing the libraries needed\n",
    "import pandas as pd\n",
    "import numpy as np\n",
    "from sklearn.model_selection import train_test_split\n",
    "import torch\n",
    "import seaborn as sns\n",
    "import transformers\n",
    "import json\n",
    "from tqdm import tqdm\n",
    "from torch.utils.data import Dataset, DataLoader\n",
    "from transformers import RobertaModel, RobertaTokenizer\n",
    "import logging\n",
    "logging.basicConfig(level=logging.ERROR)"
   ]
  },
  {
   "cell_type": "code",
   "execution_count": 4,
   "metadata": {
    "colab": {
     "base_uri": "https://localhost:8080/",
     "height": 35
    },
    "id": "sb1Q5N6LGK7z",
    "outputId": "ff5b7ebe-9e9b-43cc-c083-8fcb680aed3c"
   },
   "outputs": [
    {
     "data": {
      "text/plain": [
       "'cuda'"
      ]
     },
     "execution_count": 4,
     "metadata": {},
     "output_type": "execute_result"
    }
   ],
   "source": [
    "# Setting up the device for GPU usage\n",
    "\n",
    "from torch import cuda\n",
    "device = 'cuda' if cuda.is_available() else 'cpu'\n",
    "device"
   ]
  },
  {
   "cell_type": "code",
   "execution_count": 5,
   "metadata": {
    "_cell_guid": "79c7e3d0-c299-4dcb-8224-4455121ee9b0",
    "_uuid": "d629ff2d2480ee46fbb7e2d37f6b5fab8052498a",
    "id": "J3FzcAlgEac8",
    "trusted": true
   },
   "outputs": [
    {
     "data": {
      "text/plain": [
       "Dataset({\n",
       "    features: ['id', 'date_publish', 'outlet', 'headline', 'lead', 'body', 'authors', 'domain', 'url', 'political_leaning'],\n",
       "    num_rows: 365778\n",
       "})"
      ]
     },
     "execution_count": 5,
     "metadata": {},
     "output_type": "execute_result"
    }
   ],
   "source": [
    "from datasets import load_dataset\n",
    "\n",
    "from transformers import BertTokenizerFast\n",
    "\n",
    "from torch.utils.data import DataLoader\n",
    "\n",
    "data_files = \"./data/*.csv\"\n",
    "\n",
    "# Load and combine the datasets\n",
    "dataset = load_dataset(\"csv\", data_files=data_files)\n",
    "\n",
    "# Filter and split the dataset\n",
    "df  = dataset['train'].filter(\n",
    "    lambda example: example['headline'] is not None and example['headline'].strip() != ''\n",
    ")#.train_test_split(test_size=0.1)\n",
    "\n",
    "df"
   ]
  },
  {
   "cell_type": "code",
   "execution_count": 6,
   "metadata": {
    "colab": {
     "base_uri": "https://localhost:8080/"
    },
    "id": "TFIoIjucGjJw",
    "outputId": "1206e9a4-11c1-4db5-f3a8-aab5f7e43b64"
   },
   "outputs": [],
   "source": [
    "#Define label maps\n",
    "id2label = {0:\"UNDEFINED\" ,1:\"LEFT\",2:\"RIGHT\",3:\"CENTER\"}\n",
    "label2id = {\"UNDEFINED\": 0, \"LEFT\": 1, \"RIGHT\": 2, \"CENTER\": 3}"
   ]
  },
  {
   "cell_type": "code",
   "execution_count": 7,
   "metadata": {
    "colab": {
     "base_uri": "https://localhost:8080/"
    },
    "id": "lGcvxwWXIbfq",
    "outputId": "28b8ad8e-6e6a-4c0e-a86d-08b50f22b11a"
   },
   "outputs": [],
   "source": [
    "df_train = pd.DataFrame(df)#df['train'])"
   ]
  },
  {
   "cell_type": "code",
   "execution_count": 8,
   "metadata": {
    "_uuid": "01da38cc4626a85b73fbb526d9a8d128d1fd9338",
    "colab": {
     "base_uri": "https://localhost:8080/",
     "height": 206
    },
    "id": "baSmeDdIEadM",
    "outputId": "94045e25-8e02-4430-8acd-72439197abcc",
    "trusted": true
   },
   "outputs": [
    {
     "data": {
      "text/html": [
       "<div>\n",
       "<style scoped>\n",
       "    .dataframe tbody tr th:only-of-type {\n",
       "        vertical-align: middle;\n",
       "    }\n",
       "\n",
       "    .dataframe tbody tr th {\n",
       "        vertical-align: top;\n",
       "    }\n",
       "\n",
       "    .dataframe thead th {\n",
       "        text-align: right;\n",
       "    }\n",
       "</style>\n",
       "<table border=\"1\" class=\"dataframe\">\n",
       "  <thead>\n",
       "    <tr style=\"text-align: right;\">\n",
       "      <th></th>\n",
       "      <th>body</th>\n",
       "      <th>political_leaning</th>\n",
       "    </tr>\n",
       "  </thead>\n",
       "  <tbody>\n",
       "    <tr>\n",
       "      <th>0</th>\n",
       "      <td>California's capital has emerged as a leading ...</td>\n",
       "      <td>0</td>\n",
       "    </tr>\n",
       "    <tr>\n",
       "      <th>1</th>\n",
       "      <td>Play Facebook\\nTwitter\\nGoogle Plus\\nEmbed Tru...</td>\n",
       "      <td>1</td>\n",
       "    </tr>\n",
       "    <tr>\n",
       "      <th>2</th>\n",
       "      <td>A man was found dead as a fire engulfed an apa...</td>\n",
       "      <td>0</td>\n",
       "    </tr>\n",
       "    <tr>\n",
       "      <th>3</th>\n",
       "      <td>As Barack Obama began preparing to leave offic...</td>\n",
       "      <td>1</td>\n",
       "    </tr>\n",
       "    <tr>\n",
       "      <th>4</th>\n",
       "      <td>The new public works commissioner in a suburba...</td>\n",
       "      <td>2</td>\n",
       "    </tr>\n",
       "  </tbody>\n",
       "</table>\n",
       "</div>"
      ],
      "text/plain": [
       "                                                body political_leaning\n",
       "0  California's capital has emerged as a leading ...                 0\n",
       "1  Play Facebook\\nTwitter\\nGoogle Plus\\nEmbed Tru...                 1\n",
       "2  A man was found dead as a fire engulfed an apa...                 0\n",
       "3  As Barack Obama began preparing to leave offic...                 1\n",
       "4  The new public works commissioner in a suburba...                 2"
      ]
     },
     "execution_count": 8,
     "metadata": {},
     "output_type": "execute_result"
    }
   ],
   "source": [
    "# Define the mapping for political leaning categories to numeric values\n",
    "category_mapping = {\n",
    "    'LEFT': 0,\n",
    "    'CENTER': 1,\n",
    "    'RIGHT': 2,\n",
    "    'UNDEFINED': 3\n",
    "}\n",
    "\n",
    "# Create a copy of the DataFrame if you're going to modify it\n",
    "new_df = df_train[['body', 'political_leaning']].copy()\n",
    "\n",
    "# Use .loc to safely modify the column\n",
    "new_df.loc[:, 'political_leaning'] = new_df['political_leaning'].map(category_mapping)\n",
    "\n",
    "new_df.head()"
   ]
  },
  {
   "cell_type": "markdown",
   "metadata": {
    "id": "c3Q9NDdmqEyo"
   },
   "source": [
    "<a id='section03'></a>\n",
    "### Preparing the Dataset and Dataloader\n",
    "\n",
    "I will start with defining few key variables that will be used later during the training/fine tuning stage.\n",
    "Followed by creation of Dataset class - This defines how the text is pre-processed before sending it to the neural network. I will also define the Dataloader that will feed  the data in batches to the neural network for suitable training and processing.\n",
    "Dataset and Dataloader are constructs of the PyTorch library for defining and controlling the data pre-processing and its passage to neural network. For further reading into Dataset and Dataloader read the [docs at PyTorch](https://pytorch.org/docs/stable/data.html)\n",
    "\n",
    "#### *SentimentData* Dataset Class\n",
    "- This class is defined to accept the Dataframe as input and generate tokenized output that is used by the Roberta model for training.\n",
    "- I am using the Roberta tokenizer to tokenize the data in the `TITLE` column of the dataframe.\n",
    "- The tokenizer uses the `encode_plus` method to perform tokenization and generate the necessary outputs, namely: `ids`, `attention_mask`\n",
    "- To read further into the tokenizer, [refer to this document](https://huggingface.co/transformers/model_doc/roberta.html#robertatokenizer)\n",
    "- `target` is the encoded category on the news headline.\n",
    "- The *SentimentData* class is used to create 2 datasets, for training and for validation.\n",
    "- *Training Dataset* is used to fine tune the model: **80% of the original data**\n",
    "- *Validation Dataset* is used to evaluate the performance of the model. The model has not seen this data during training.\n",
    "\n",
    "#### Dataloader\n",
    "- Dataloader is used to for creating training and validation dataloader that load data to the neural network in a defined manner. This is needed because all the data from the dataset cannot be loaded to the memory at once, hence the amount of dataloaded to the memory and then passed to the neural network needs to be controlled.\n",
    "- This control is achieved using the parameters such as `batch_size` and `max_len`.\n",
    "- Training and Validation dataloaders are used in the training and validation part of the flow respectively"
   ]
  },
  {
   "cell_type": "code",
   "execution_count": null,
   "metadata": {
    "id": "nvXxpfNCGER2"
   },
   "outputs": [],
   "source": [
    "# Defining some key variables that will be used later on in the training\n",
    "MAX_LEN = 32\n",
    "TRAIN_BATCH_SIZE = 32\n",
    "VALID_BATCH_SIZE = 32\n",
    "# EPOCHS = 1\n",
    "LEARNING_RATE = 1e-05\n",
    "tokenizer = RobertaTokenizer.from_pretrained('roberta-base', truncation=True, do_lower_case=True)"
   ]
  },
  {
   "cell_type": "code",
   "execution_count": 10,
   "metadata": {
    "id": "3vWRDemOGxJD"
   },
   "outputs": [],
   "source": [
    "class PoliticalLeaningData(Dataset):\n",
    "    def __init__(self, dataframe, tokenizer, max_len):\n",
    "        self.tokenizer = tokenizer\n",
    "        self.data = dataframe\n",
    "        self.text = dataframe.body\n",
    "        self.targets = self.data.political_leaning\n",
    "        self.max_len = max_len\n",
    "\n",
    "    def __len__(self):\n",
    "        return len(self.text)\n",
    "\n",
    "    def __getitem__(self, index):\n",
    "        text = str(self.text[index])\n",
    "        text = \" \".join(text.split())\n",
    "\n",
    "        inputs = self.tokenizer.encode_plus(\n",
    "            text,\n",
    "            None,\n",
    "            add_special_tokens=True,\n",
    "            max_length=self.max_len,\n",
    "            pad_to_max_length=True,\n",
    "            return_token_type_ids=True\n",
    "        )\n",
    "        ids = inputs['input_ids']\n",
    "        mask = inputs['attention_mask']\n",
    "        token_type_ids = inputs[\"token_type_ids\"]\n",
    "\n",
    "\n",
    "        return {\n",
    "            'ids': torch.tensor(ids, dtype=torch.long),\n",
    "            'mask': torch.tensor(mask, dtype=torch.long),\n",
    "            'token_type_ids': torch.tensor(token_type_ids, dtype=torch.long),\n",
    "            'targets': torch.tensor(self.targets[index], dtype=torch.float)\n",
    "        }"
   ]
  },
  {
   "cell_type": "code",
   "execution_count": 11,
   "metadata": {
    "colab": {
     "base_uri": "https://localhost:8080/"
    },
    "id": "7Gpe9D1QHoCd",
    "outputId": "95f01567-f6c7-42f6-d6e0-4423d5d66cbb"
   },
   "outputs": [
    {
     "name": "stdout",
     "output_type": "stream",
     "text": [
      "FULL Dataset: (365778, 2)\n",
      "TRAIN Dataset: (296280, 2)\n",
      "VALIDATION Dataset: (32920, 2)\n",
      "TEST Dataset: (36578, 2)\n"
     ]
    }
   ],
   "source": [
    "from sklearn.model_selection import train_test_split\n",
    "\n",
    "train_size = 0.9\n",
    "val_size = 0.1\n",
    "test_size = 0.1\n",
    "\n",
    "train_val_data, test_data = train_test_split(new_df, test_size=test_size, random_state=200)\n",
    "\n",
    "# Further split the train+val data into train and validation\n",
    "train_data, val_data = train_test_split(train_val_data, test_size=val_size / (train_size + val_size), random_state=200)\n",
    "\n",
    "# Reset the indexes for the new splits\n",
    "train_data = train_data.reset_index(drop=True)\n",
    "val_data = val_data.reset_index(drop=True)\n",
    "test_data = test_data.reset_index(drop=True)\n",
    "\n",
    "print(\"FULL Dataset: {}\".format(new_df.shape))\n",
    "print(\"TRAIN Dataset: {}\".format(train_data.shape))\n",
    "print(\"VALIDATION Dataset: {}\".format(val_data.shape))\n",
    "print(\"TEST Dataset: {}\".format(test_data.shape))\n",
    "\n",
    "# Create datasets for training, validation, and testing\n",
    "training_set = PoliticalLeaningData(train_data, tokenizer, MAX_LEN)\n",
    "validation_set = PoliticalLeaningData(val_data, tokenizer, MAX_LEN)\n",
    "testing_set = PoliticalLeaningData(test_data, tokenizer, MAX_LEN)\n"
   ]
  },
  {
   "cell_type": "code",
   "execution_count": 12,
   "metadata": {
    "_uuid": "9fc198d13d7f33dc70588c3f22bc7b7c4f4ebb45",
    "id": "c1tInLk2Eadt",
    "trusted": true
   },
   "outputs": [],
   "source": [
    "train_params = {'batch_size': TRAIN_BATCH_SIZE,\n",
    "                'shuffle': True,\n",
    "                'num_workers': 5\n",
    "                }\n",
    "\n",
    "test_params = {'batch_size': VALID_BATCH_SIZE,\n",
    "                'shuffle': True,\n",
    "                'num_workers': 5\n",
    "                }\n",
    "\n",
    "training_loader = DataLoader(training_set, **train_params)\n",
    "valid_loader = DataLoader(validation_set, **test_params)\n",
    "testing_loader = DataLoader(testing_set, **test_params)"
   ]
  },
  {
   "cell_type": "markdown",
   "metadata": {
    "id": "yZk0A9K8qE0C"
   },
   "source": [
    "<a id='section04'></a>\n",
    "### Creating the Neural Network for Fine Tuning\n",
    "\n",
    "#### Neural Network\n",
    " - We will be creating a neural network with the `RobertaClass`.\n",
    " - This network will have the Roberta Language model followed by a `dropout` and finally a `Linear` layer to obtain the final outputs.\n",
    " - The data will be fed to the Roberta Language model as defined in the dataset.\n",
    " - Final layer outputs is what will be compared to the `Sentiment category` to determine the accuracy of models prediction.\n",
    " - We will initiate an instance of the network called `model`. This instance will be used for training and then to save the final trained model for future inference.\n",
    "\n",
    "#### Loss Function and Optimizer\n",
    " - `Loss Function` and `Optimizer` and defined in the next cell.\n",
    " - The `Loss Function` is used the calculate the difference in the output created by the model and the actual output.\n",
    " - `Optimizer` is used to update the weights of the neural network to improve its performance."
   ]
  },
  {
   "cell_type": "code",
   "execution_count": 13,
   "metadata": {
    "_uuid": "cb8f194ee79d76356be0002b0e18f947e1412d66",
    "id": "HMqQTafXEaei",
    "trusted": true
   },
   "outputs": [],
   "source": [
    "class RobertaClass(torch.nn.Module):\n",
    "    def __init__(self):\n",
    "        super(RobertaClass, self).__init__()\n",
    "        self.l1 = RobertaModel.from_pretrained(\"roberta-base\")\n",
    "        # Freeze DistilBERT parameters\n",
    "        for param in self.l1.parameters():\n",
    "            param.requires_grad = False\n",
    "        self.pre_classifier = torch.nn.Linear(768, 768)\n",
    "        self.dropout = torch.nn.Dropout(0.3)\n",
    "        self.classifier = torch.nn.Linear(768, 5)\n",
    "\n",
    "    def forward(self, input_ids, attention_mask, token_type_ids):\n",
    "        output_1 = self.l1(input_ids=input_ids, attention_mask=attention_mask, token_type_ids=token_type_ids)\n",
    "        hidden_state = output_1[0]\n",
    "        pooler = hidden_state[:, 0]\n",
    "        pooler = self.pre_classifier(pooler)\n",
    "        pooler = torch.nn.ReLU()(pooler)\n",
    "        pooler = self.dropout(pooler)\n",
    "        output = self.classifier(pooler)\n",
    "        return output"
   ]
  },
  {
   "cell_type": "code",
   "execution_count": 14,
   "metadata": {
    "colab": {
     "base_uri": "https://localhost:8080/"
    },
    "id": "sZ55mIPZIkp_",
    "outputId": "c1cd7897-d2c5-4fa7-e964-07b7f84daed5"
   },
   "outputs": [
    {
     "name": "stderr",
     "output_type": "stream",
     "text": [
      "Some weights of RobertaModel were not initialized from the model checkpoint at roberta-base and are newly initialized: ['roberta.pooler.dense.bias', 'roberta.pooler.dense.weight']\n",
      "You should probably TRAIN this model on a down-stream task to be able to use it for predictions and inference.\n"
     ]
    },
    {
     "data": {
      "text/plain": [
       "RobertaClass(\n",
       "  (l1): RobertaModel(\n",
       "    (embeddings): RobertaEmbeddings(\n",
       "      (word_embeddings): Embedding(50265, 768, padding_idx=1)\n",
       "      (position_embeddings): Embedding(514, 768, padding_idx=1)\n",
       "      (token_type_embeddings): Embedding(1, 768)\n",
       "      (LayerNorm): LayerNorm((768,), eps=1e-05, elementwise_affine=True)\n",
       "      (dropout): Dropout(p=0.1, inplace=False)\n",
       "    )\n",
       "    (encoder): RobertaEncoder(\n",
       "      (layer): ModuleList(\n",
       "        (0-11): 12 x RobertaLayer(\n",
       "          (attention): RobertaAttention(\n",
       "            (self): RobertaSdpaSelfAttention(\n",
       "              (query): Linear(in_features=768, out_features=768, bias=True)\n",
       "              (key): Linear(in_features=768, out_features=768, bias=True)\n",
       "              (value): Linear(in_features=768, out_features=768, bias=True)\n",
       "              (dropout): Dropout(p=0.1, inplace=False)\n",
       "            )\n",
       "            (output): RobertaSelfOutput(\n",
       "              (dense): Linear(in_features=768, out_features=768, bias=True)\n",
       "              (LayerNorm): LayerNorm((768,), eps=1e-05, elementwise_affine=True)\n",
       "              (dropout): Dropout(p=0.1, inplace=False)\n",
       "            )\n",
       "          )\n",
       "          (intermediate): RobertaIntermediate(\n",
       "            (dense): Linear(in_features=768, out_features=3072, bias=True)\n",
       "            (intermediate_act_fn): GELUActivation()\n",
       "          )\n",
       "          (output): RobertaOutput(\n",
       "            (dense): Linear(in_features=3072, out_features=768, bias=True)\n",
       "            (LayerNorm): LayerNorm((768,), eps=1e-05, elementwise_affine=True)\n",
       "            (dropout): Dropout(p=0.1, inplace=False)\n",
       "          )\n",
       "        )\n",
       "      )\n",
       "    )\n",
       "    (pooler): RobertaPooler(\n",
       "      (dense): Linear(in_features=768, out_features=768, bias=True)\n",
       "      (activation): Tanh()\n",
       "    )\n",
       "  )\n",
       "  (pre_classifier): Linear(in_features=768, out_features=768, bias=True)\n",
       "  (dropout): Dropout(p=0.3, inplace=False)\n",
       "  (classifier): Linear(in_features=768, out_features=5, bias=True)\n",
       ")"
      ]
     },
     "execution_count": 14,
     "metadata": {},
     "output_type": "execute_result"
    }
   ],
   "source": [
    "model = RobertaClass()\n",
    "model.to(device)"
   ]
  },
  {
   "cell_type": "code",
   "execution_count": 15,
   "metadata": {
    "colab": {
     "base_uri": "https://localhost:8080/"
    },
    "id": "hx5iX-al-CXJ",
    "outputId": "a2407ce8-1775-4d0b-b353-f6aa5863fc17"
   },
   "outputs": [
    {
     "name": "stdout",
     "output_type": "stream",
     "text": [
      "l1.embeddings.word_embeddings.weight: requires_grad=False\n",
      "l1.embeddings.position_embeddings.weight: requires_grad=False\n",
      "l1.embeddings.token_type_embeddings.weight: requires_grad=False\n",
      "l1.embeddings.LayerNorm.weight: requires_grad=False\n",
      "l1.embeddings.LayerNorm.bias: requires_grad=False\n",
      "l1.encoder.layer.0.attention.self.query.weight: requires_grad=False\n",
      "l1.encoder.layer.0.attention.self.query.bias: requires_grad=False\n",
      "l1.encoder.layer.0.attention.self.key.weight: requires_grad=False\n",
      "l1.encoder.layer.0.attention.self.key.bias: requires_grad=False\n",
      "l1.encoder.layer.0.attention.self.value.weight: requires_grad=False\n",
      "l1.encoder.layer.0.attention.self.value.bias: requires_grad=False\n",
      "l1.encoder.layer.0.attention.output.dense.weight: requires_grad=False\n",
      "l1.encoder.layer.0.attention.output.dense.bias: requires_grad=False\n",
      "l1.encoder.layer.0.attention.output.LayerNorm.weight: requires_grad=False\n",
      "l1.encoder.layer.0.attention.output.LayerNorm.bias: requires_grad=False\n",
      "l1.encoder.layer.0.intermediate.dense.weight: requires_grad=False\n",
      "l1.encoder.layer.0.intermediate.dense.bias: requires_grad=False\n",
      "l1.encoder.layer.0.output.dense.weight: requires_grad=False\n",
      "l1.encoder.layer.0.output.dense.bias: requires_grad=False\n",
      "l1.encoder.layer.0.output.LayerNorm.weight: requires_grad=False\n",
      "l1.encoder.layer.0.output.LayerNorm.bias: requires_grad=False\n",
      "l1.encoder.layer.1.attention.self.query.weight: requires_grad=False\n",
      "l1.encoder.layer.1.attention.self.query.bias: requires_grad=False\n",
      "l1.encoder.layer.1.attention.self.key.weight: requires_grad=False\n",
      "l1.encoder.layer.1.attention.self.key.bias: requires_grad=False\n",
      "l1.encoder.layer.1.attention.self.value.weight: requires_grad=False\n",
      "l1.encoder.layer.1.attention.self.value.bias: requires_grad=False\n",
      "l1.encoder.layer.1.attention.output.dense.weight: requires_grad=False\n",
      "l1.encoder.layer.1.attention.output.dense.bias: requires_grad=False\n",
      "l1.encoder.layer.1.attention.output.LayerNorm.weight: requires_grad=False\n",
      "l1.encoder.layer.1.attention.output.LayerNorm.bias: requires_grad=False\n",
      "l1.encoder.layer.1.intermediate.dense.weight: requires_grad=False\n",
      "l1.encoder.layer.1.intermediate.dense.bias: requires_grad=False\n",
      "l1.encoder.layer.1.output.dense.weight: requires_grad=False\n",
      "l1.encoder.layer.1.output.dense.bias: requires_grad=False\n",
      "l1.encoder.layer.1.output.LayerNorm.weight: requires_grad=False\n",
      "l1.encoder.layer.1.output.LayerNorm.bias: requires_grad=False\n",
      "l1.encoder.layer.2.attention.self.query.weight: requires_grad=False\n",
      "l1.encoder.layer.2.attention.self.query.bias: requires_grad=False\n",
      "l1.encoder.layer.2.attention.self.key.weight: requires_grad=False\n",
      "l1.encoder.layer.2.attention.self.key.bias: requires_grad=False\n",
      "l1.encoder.layer.2.attention.self.value.weight: requires_grad=False\n",
      "l1.encoder.layer.2.attention.self.value.bias: requires_grad=False\n",
      "l1.encoder.layer.2.attention.output.dense.weight: requires_grad=False\n",
      "l1.encoder.layer.2.attention.output.dense.bias: requires_grad=False\n",
      "l1.encoder.layer.2.attention.output.LayerNorm.weight: requires_grad=False\n",
      "l1.encoder.layer.2.attention.output.LayerNorm.bias: requires_grad=False\n",
      "l1.encoder.layer.2.intermediate.dense.weight: requires_grad=False\n",
      "l1.encoder.layer.2.intermediate.dense.bias: requires_grad=False\n",
      "l1.encoder.layer.2.output.dense.weight: requires_grad=False\n",
      "l1.encoder.layer.2.output.dense.bias: requires_grad=False\n",
      "l1.encoder.layer.2.output.LayerNorm.weight: requires_grad=False\n",
      "l1.encoder.layer.2.output.LayerNorm.bias: requires_grad=False\n",
      "l1.encoder.layer.3.attention.self.query.weight: requires_grad=False\n",
      "l1.encoder.layer.3.attention.self.query.bias: requires_grad=False\n",
      "l1.encoder.layer.3.attention.self.key.weight: requires_grad=False\n",
      "l1.encoder.layer.3.attention.self.key.bias: requires_grad=False\n",
      "l1.encoder.layer.3.attention.self.value.weight: requires_grad=False\n",
      "l1.encoder.layer.3.attention.self.value.bias: requires_grad=False\n",
      "l1.encoder.layer.3.attention.output.dense.weight: requires_grad=False\n",
      "l1.encoder.layer.3.attention.output.dense.bias: requires_grad=False\n",
      "l1.encoder.layer.3.attention.output.LayerNorm.weight: requires_grad=False\n",
      "l1.encoder.layer.3.attention.output.LayerNorm.bias: requires_grad=False\n",
      "l1.encoder.layer.3.intermediate.dense.weight: requires_grad=False\n",
      "l1.encoder.layer.3.intermediate.dense.bias: requires_grad=False\n",
      "l1.encoder.layer.3.output.dense.weight: requires_grad=False\n",
      "l1.encoder.layer.3.output.dense.bias: requires_grad=False\n",
      "l1.encoder.layer.3.output.LayerNorm.weight: requires_grad=False\n",
      "l1.encoder.layer.3.output.LayerNorm.bias: requires_grad=False\n",
      "l1.encoder.layer.4.attention.self.query.weight: requires_grad=False\n",
      "l1.encoder.layer.4.attention.self.query.bias: requires_grad=False\n",
      "l1.encoder.layer.4.attention.self.key.weight: requires_grad=False\n",
      "l1.encoder.layer.4.attention.self.key.bias: requires_grad=False\n",
      "l1.encoder.layer.4.attention.self.value.weight: requires_grad=False\n",
      "l1.encoder.layer.4.attention.self.value.bias: requires_grad=False\n",
      "l1.encoder.layer.4.attention.output.dense.weight: requires_grad=False\n",
      "l1.encoder.layer.4.attention.output.dense.bias: requires_grad=False\n",
      "l1.encoder.layer.4.attention.output.LayerNorm.weight: requires_grad=False\n",
      "l1.encoder.layer.4.attention.output.LayerNorm.bias: requires_grad=False\n",
      "l1.encoder.layer.4.intermediate.dense.weight: requires_grad=False\n",
      "l1.encoder.layer.4.intermediate.dense.bias: requires_grad=False\n",
      "l1.encoder.layer.4.output.dense.weight: requires_grad=False\n",
      "l1.encoder.layer.4.output.dense.bias: requires_grad=False\n",
      "l1.encoder.layer.4.output.LayerNorm.weight: requires_grad=False\n",
      "l1.encoder.layer.4.output.LayerNorm.bias: requires_grad=False\n",
      "l1.encoder.layer.5.attention.self.query.weight: requires_grad=False\n",
      "l1.encoder.layer.5.attention.self.query.bias: requires_grad=False\n",
      "l1.encoder.layer.5.attention.self.key.weight: requires_grad=False\n",
      "l1.encoder.layer.5.attention.self.key.bias: requires_grad=False\n",
      "l1.encoder.layer.5.attention.self.value.weight: requires_grad=False\n",
      "l1.encoder.layer.5.attention.self.value.bias: requires_grad=False\n",
      "l1.encoder.layer.5.attention.output.dense.weight: requires_grad=False\n",
      "l1.encoder.layer.5.attention.output.dense.bias: requires_grad=False\n",
      "l1.encoder.layer.5.attention.output.LayerNorm.weight: requires_grad=False\n",
      "l1.encoder.layer.5.attention.output.LayerNorm.bias: requires_grad=False\n",
      "l1.encoder.layer.5.intermediate.dense.weight: requires_grad=False\n",
      "l1.encoder.layer.5.intermediate.dense.bias: requires_grad=False\n",
      "l1.encoder.layer.5.output.dense.weight: requires_grad=False\n",
      "l1.encoder.layer.5.output.dense.bias: requires_grad=False\n",
      "l1.encoder.layer.5.output.LayerNorm.weight: requires_grad=False\n",
      "l1.encoder.layer.5.output.LayerNorm.bias: requires_grad=False\n",
      "l1.encoder.layer.6.attention.self.query.weight: requires_grad=False\n",
      "l1.encoder.layer.6.attention.self.query.bias: requires_grad=False\n",
      "l1.encoder.layer.6.attention.self.key.weight: requires_grad=False\n",
      "l1.encoder.layer.6.attention.self.key.bias: requires_grad=False\n",
      "l1.encoder.layer.6.attention.self.value.weight: requires_grad=False\n",
      "l1.encoder.layer.6.attention.self.value.bias: requires_grad=False\n",
      "l1.encoder.layer.6.attention.output.dense.weight: requires_grad=False\n",
      "l1.encoder.layer.6.attention.output.dense.bias: requires_grad=False\n",
      "l1.encoder.layer.6.attention.output.LayerNorm.weight: requires_grad=False\n",
      "l1.encoder.layer.6.attention.output.LayerNorm.bias: requires_grad=False\n",
      "l1.encoder.layer.6.intermediate.dense.weight: requires_grad=False\n",
      "l1.encoder.layer.6.intermediate.dense.bias: requires_grad=False\n",
      "l1.encoder.layer.6.output.dense.weight: requires_grad=False\n",
      "l1.encoder.layer.6.output.dense.bias: requires_grad=False\n",
      "l1.encoder.layer.6.output.LayerNorm.weight: requires_grad=False\n",
      "l1.encoder.layer.6.output.LayerNorm.bias: requires_grad=False\n",
      "l1.encoder.layer.7.attention.self.query.weight: requires_grad=False\n",
      "l1.encoder.layer.7.attention.self.query.bias: requires_grad=False\n",
      "l1.encoder.layer.7.attention.self.key.weight: requires_grad=False\n",
      "l1.encoder.layer.7.attention.self.key.bias: requires_grad=False\n",
      "l1.encoder.layer.7.attention.self.value.weight: requires_grad=False\n",
      "l1.encoder.layer.7.attention.self.value.bias: requires_grad=False\n",
      "l1.encoder.layer.7.attention.output.dense.weight: requires_grad=False\n",
      "l1.encoder.layer.7.attention.output.dense.bias: requires_grad=False\n",
      "l1.encoder.layer.7.attention.output.LayerNorm.weight: requires_grad=False\n",
      "l1.encoder.layer.7.attention.output.LayerNorm.bias: requires_grad=False\n",
      "l1.encoder.layer.7.intermediate.dense.weight: requires_grad=False\n",
      "l1.encoder.layer.7.intermediate.dense.bias: requires_grad=False\n",
      "l1.encoder.layer.7.output.dense.weight: requires_grad=False\n",
      "l1.encoder.layer.7.output.dense.bias: requires_grad=False\n",
      "l1.encoder.layer.7.output.LayerNorm.weight: requires_grad=False\n",
      "l1.encoder.layer.7.output.LayerNorm.bias: requires_grad=False\n",
      "l1.encoder.layer.8.attention.self.query.weight: requires_grad=False\n",
      "l1.encoder.layer.8.attention.self.query.bias: requires_grad=False\n",
      "l1.encoder.layer.8.attention.self.key.weight: requires_grad=False\n",
      "l1.encoder.layer.8.attention.self.key.bias: requires_grad=False\n",
      "l1.encoder.layer.8.attention.self.value.weight: requires_grad=False\n",
      "l1.encoder.layer.8.attention.self.value.bias: requires_grad=False\n",
      "l1.encoder.layer.8.attention.output.dense.weight: requires_grad=False\n",
      "l1.encoder.layer.8.attention.output.dense.bias: requires_grad=False\n",
      "l1.encoder.layer.8.attention.output.LayerNorm.weight: requires_grad=False\n",
      "l1.encoder.layer.8.attention.output.LayerNorm.bias: requires_grad=False\n",
      "l1.encoder.layer.8.intermediate.dense.weight: requires_grad=False\n",
      "l1.encoder.layer.8.intermediate.dense.bias: requires_grad=False\n",
      "l1.encoder.layer.8.output.dense.weight: requires_grad=False\n",
      "l1.encoder.layer.8.output.dense.bias: requires_grad=False\n",
      "l1.encoder.layer.8.output.LayerNorm.weight: requires_grad=False\n",
      "l1.encoder.layer.8.output.LayerNorm.bias: requires_grad=False\n",
      "l1.encoder.layer.9.attention.self.query.weight: requires_grad=False\n",
      "l1.encoder.layer.9.attention.self.query.bias: requires_grad=False\n",
      "l1.encoder.layer.9.attention.self.key.weight: requires_grad=False\n",
      "l1.encoder.layer.9.attention.self.key.bias: requires_grad=False\n",
      "l1.encoder.layer.9.attention.self.value.weight: requires_grad=False\n",
      "l1.encoder.layer.9.attention.self.value.bias: requires_grad=False\n",
      "l1.encoder.layer.9.attention.output.dense.weight: requires_grad=False\n",
      "l1.encoder.layer.9.attention.output.dense.bias: requires_grad=False\n",
      "l1.encoder.layer.9.attention.output.LayerNorm.weight: requires_grad=False\n",
      "l1.encoder.layer.9.attention.output.LayerNorm.bias: requires_grad=False\n",
      "l1.encoder.layer.9.intermediate.dense.weight: requires_grad=False\n",
      "l1.encoder.layer.9.intermediate.dense.bias: requires_grad=False\n",
      "l1.encoder.layer.9.output.dense.weight: requires_grad=False\n",
      "l1.encoder.layer.9.output.dense.bias: requires_grad=False\n",
      "l1.encoder.layer.9.output.LayerNorm.weight: requires_grad=False\n",
      "l1.encoder.layer.9.output.LayerNorm.bias: requires_grad=False\n",
      "l1.encoder.layer.10.attention.self.query.weight: requires_grad=False\n",
      "l1.encoder.layer.10.attention.self.query.bias: requires_grad=False\n",
      "l1.encoder.layer.10.attention.self.key.weight: requires_grad=False\n",
      "l1.encoder.layer.10.attention.self.key.bias: requires_grad=False\n",
      "l1.encoder.layer.10.attention.self.value.weight: requires_grad=False\n",
      "l1.encoder.layer.10.attention.self.value.bias: requires_grad=False\n",
      "l1.encoder.layer.10.attention.output.dense.weight: requires_grad=False\n",
      "l1.encoder.layer.10.attention.output.dense.bias: requires_grad=False\n",
      "l1.encoder.layer.10.attention.output.LayerNorm.weight: requires_grad=False\n",
      "l1.encoder.layer.10.attention.output.LayerNorm.bias: requires_grad=False\n",
      "l1.encoder.layer.10.intermediate.dense.weight: requires_grad=False\n",
      "l1.encoder.layer.10.intermediate.dense.bias: requires_grad=False\n",
      "l1.encoder.layer.10.output.dense.weight: requires_grad=False\n",
      "l1.encoder.layer.10.output.dense.bias: requires_grad=False\n",
      "l1.encoder.layer.10.output.LayerNorm.weight: requires_grad=False\n",
      "l1.encoder.layer.10.output.LayerNorm.bias: requires_grad=False\n",
      "l1.encoder.layer.11.attention.self.query.weight: requires_grad=False\n",
      "l1.encoder.layer.11.attention.self.query.bias: requires_grad=False\n",
      "l1.encoder.layer.11.attention.self.key.weight: requires_grad=False\n",
      "l1.encoder.layer.11.attention.self.key.bias: requires_grad=False\n",
      "l1.encoder.layer.11.attention.self.value.weight: requires_grad=False\n",
      "l1.encoder.layer.11.attention.self.value.bias: requires_grad=False\n",
      "l1.encoder.layer.11.attention.output.dense.weight: requires_grad=False\n",
      "l1.encoder.layer.11.attention.output.dense.bias: requires_grad=False\n",
      "l1.encoder.layer.11.attention.output.LayerNorm.weight: requires_grad=False\n",
      "l1.encoder.layer.11.attention.output.LayerNorm.bias: requires_grad=False\n",
      "l1.encoder.layer.11.intermediate.dense.weight: requires_grad=False\n",
      "l1.encoder.layer.11.intermediate.dense.bias: requires_grad=False\n",
      "l1.encoder.layer.11.output.dense.weight: requires_grad=False\n",
      "l1.encoder.layer.11.output.dense.bias: requires_grad=False\n",
      "l1.encoder.layer.11.output.LayerNorm.weight: requires_grad=False\n",
      "l1.encoder.layer.11.output.LayerNorm.bias: requires_grad=False\n",
      "l1.pooler.dense.weight: requires_grad=False\n",
      "l1.pooler.dense.bias: requires_grad=False\n",
      "pre_classifier.weight: requires_grad=True\n",
      "pre_classifier.bias: requires_grad=True\n",
      "classifier.weight: requires_grad=True\n",
      "classifier.bias: requires_grad=True\n"
     ]
    }
   ],
   "source": [
    "for name, param in model.named_parameters():\n",
    "    print(f\"{name}: requires_grad={param.requires_grad}\")"
   ]
  },
  {
   "cell_type": "markdown",
   "metadata": {
    "id": "gsRa7gY3qE0n"
   },
   "source": [
    "<a id='section05'></a>\n",
    "### Fine Tuning the Model\n",
    "\n",
    "After all the effort of loading and preparing the data and datasets, creating the model and defining its loss and optimizer. This is probably the easier steps in the process.\n",
    "\n",
    "Here we define a training function that trains the model on the training dataset created above, specified number of times (EPOCH), An epoch defines how many times the complete data will be passed through the network.\n",
    "\n",
    "Following events happen in this function to fine tune the neural network:\n",
    "- The dataloader passes data to the model based on the batch size.\n",
    "- Subsequent output from the model and the actual category are compared to calculate the loss.\n",
    "- Loss value is used to optimize the weights of the neurons in the network.\n",
    "- After every 5000 steps the loss value is printed in the console.\n",
    "\n",
    "As you can see just in 1 epoch by the final step the model was working with a loss of 0.8141926634122427."
   ]
  },
  {
   "cell_type": "code",
   "execution_count": 16,
   "metadata": {
    "id": "XYZ7YuJ5InOS"
   },
   "outputs": [],
   "source": [
    "# Creating the loss function and optimizer\n",
    "loss_function = torch.nn.CrossEntropyLoss()\n",
    "optimizer = torch.optim.Adam(params =  model.parameters(), lr=LEARNING_RATE)"
   ]
  },
  {
   "cell_type": "code",
   "execution_count": 17,
   "metadata": {
    "id": "yPhA2V3iIpzN"
   },
   "outputs": [],
   "source": [
    "def calcuate_accuracy(preds, targets):\n",
    "    n_correct = (preds==targets).sum().item()\n",
    "    return n_correct"
   ]
  },
  {
   "cell_type": "code",
   "execution_count": 18,
   "metadata": {
    "id": "mhqvtY2SIup7"
   },
   "outputs": [],
   "source": [
    "# Defining the training function on the 80% of the dataset for tuning the distilbert model\n",
    "\n",
    "def train(epoch):\n",
    "    tr_loss = 0\n",
    "    n_correct = 0\n",
    "    nb_tr_steps = 0\n",
    "    nb_tr_examples = 0\n",
    "    model.train()\n",
    "    for _,data in tqdm(enumerate(training_loader, 0)):\n",
    "        ids = data['ids'].to(device, dtype = torch.long)\n",
    "        mask = data['mask'].to(device, dtype = torch.long)\n",
    "        token_type_ids = data['token_type_ids'].to(device, dtype = torch.long)\n",
    "        targets = data['targets'].to(device, dtype = torch.long)\n",
    "\n",
    "        outputs = model(ids, mask, token_type_ids)\n",
    "        loss = loss_function(outputs, targets)\n",
    "        tr_loss += loss.item()\n",
    "        big_val, big_idx = torch.max(outputs.data, dim=1)\n",
    "        n_correct += calcuate_accuracy(big_idx, targets)\n",
    "\n",
    "        nb_tr_steps += 1\n",
    "        nb_tr_examples+=targets.size(0)\n",
    "        #print(f\"Loss: {tr_loss}\")\n",
    "        if _%100==0:\n",
    "            loss_step = tr_loss/nb_tr_steps\n",
    "            accu_step = (n_correct*100)/nb_tr_examples\n",
    "            print(f\"Training Loss per 5000 steps: {loss_step}\")\n",
    "            print(f\"Training Accuracy per 5000 steps: {accu_step}\")\n",
    "\n",
    "        optimizer.zero_grad()\n",
    "        loss.backward()\n",
    "        # # When using GPU\n",
    "        optimizer.step()\n",
    "\n",
    "    print(f'The Total Accuracy for Epoch {epoch}: {(n_correct*100)/nb_tr_examples}')\n",
    "    epoch_loss = tr_loss/nb_tr_steps\n",
    "    epoch_accu = (n_correct*100)/nb_tr_examples\n",
    "    print(f\"Training Loss Epoch: {epoch_loss}\")\n",
    "    print(f\"Training Accuracy Epoch: {epoch_accu}\")\n",
    "\n",
    "    return\n",
    "\n",
    "def valid(model, testing_loader):\n",
    "    model.eval()\n",
    "    n_correct = 0; n_wrong = 0; total = 0; tr_loss=0; nb_tr_steps=0; nb_tr_examples=0\n",
    "    with torch.no_grad():\n",
    "        for _, data in tqdm(enumerate(testing_loader, 0)):\n",
    "            ids = data['ids'].to(device, dtype = torch.long)\n",
    "            mask = data['mask'].to(device, dtype = torch.long)\n",
    "            token_type_ids = data['token_type_ids'].to(device, dtype=torch.long)\n",
    "            targets = data['targets'].to(device, dtype = torch.long)\n",
    "            outputs = model(ids, mask, token_type_ids).squeeze()\n",
    "            loss = loss_function(outputs, targets)\n",
    "            tr_loss += loss.item()\n",
    "            big_val, big_idx = torch.max(outputs.data, dim=1)\n",
    "            n_correct += calcuate_accuracy(big_idx, targets)\n",
    "\n",
    "            nb_tr_steps += 1\n",
    "            nb_tr_examples+=targets.size(0)\n",
    "\n",
    "            if _%100==0:\n",
    "                loss_step = tr_loss/nb_tr_steps\n",
    "                accu_step = (n_correct*100)/nb_tr_examples\n",
    "                print(f\"Validation Loss per 100 steps: {loss_step}\")\n",
    "                print(f\"Validation Accuracy per 100 steps: {accu_step}\")\n",
    "    epoch_loss = tr_loss/nb_tr_steps\n",
    "    epoch_accu = (n_correct*100)/nb_tr_examples\n",
    "    print(f\"Validation Loss Epoch: {epoch_loss}\")\n",
    "    print(f\"Validation Accuracy Epoch: {epoch_accu}\")\n",
    "\n",
    "    return epoch_loss, epoch_accu\n"
   ]
  },
  {
   "cell_type": "code",
   "execution_count": 19,
   "metadata": {},
   "outputs": [
    {
     "name": "stdout",
     "output_type": "stream",
     "text": [
      "2315\n"
     ]
    }
   ],
   "source": [
    "print(len(training_loader))"
   ]
  },
  {
   "cell_type": "code",
   "execution_count": null,
   "metadata": {
    "colab": {
     "base_uri": "https://localhost:8080/"
    },
    "id": "Afn7xaunJHnI",
    "outputId": "9dd921c6-89a7-4858-8fbb-b7015fb2cf22"
   },
   "outputs": [
    {
     "name": "stdout",
     "output_type": "stream",
     "text": [
      "\n",
      "Epoch 1/5\n",
      "------------------------------\n"
     ]
    }
   ],
   "source": [
    "EPOCHS = 5\n",
    "best_val_loss = float(\"inf\")\n",
    "\n",
    "for epoch in range(EPOCHS):\n",
    "    print(f\"\\nEpoch {epoch + 1}/{EPOCHS}\")\n",
    "    print(\"-\" * 30)\n",
    "\n",
    "    train_loss = train(epoch)\n",
    "    val_loss, val_accuracy = valid(model, valid_loader)\n",
    "\n",
    "    # Save the best model\n",
    "    if val_loss < best_val_loss:\n",
    "        best_val_loss = val_loss\n",
    "        torch.save(model.state_dict(), \"best_model.pt\")\n",
    "        print(\"Saved Best Model!\")"
   ]
  },
  {
   "cell_type": "markdown",
   "metadata": {
    "id": "vOcgTsovqE1A"
   },
   "source": [
    "<a id='section06'></a>\n",
    "### Validating the Model\n",
    "\n",
    "During the validation stage we pass the unseen data(Testing Dataset) to the model. This step determines how good the model performs on the unseen data.\n",
    "\n",
    "This unseen data is the 20% of `train.tsv` which was seperated during the Dataset creation stage.\n",
    "During the validation stage the weights of the model are not updated. Only the final output is compared to the actual value. This comparison is then used to calcuate the accuracy of the model.\n",
    "\n",
    "As you can see the model is predicting the correct category of a given sample to a 69.47% accuracy which can further be improved by training more."
   ]
  },
  {
   "cell_type": "code",
   "execution_count": null,
   "metadata": {
    "colab": {
     "base_uri": "https://localhost:8080/",
     "height": 300
    },
    "id": "UcUylInzKdV-",
    "outputId": "7f471063-b8a1-4034-bef6-0609e4d19fb9"
   },
   "outputs": [
    {
     "name": "stderr",
     "output_type": "stream",
     "text": [
      "\r0it [00:00, ?it/s]/usr/local/lib/python3.10/dist-packages/transformers/tokenization_utils_base.py:2834: FutureWarning: The `pad_to_max_length` argument is deprecated and will be removed in a future version, use `padding=True` or `padding='longest'` to pad to the longest sequence in the batch, or use `padding='max_length'` to pad to a max length. In this case, you can give a specific length with `max_length` (e.g. `max_length=45`) or leave max_length to None to pad to the maximal input size of the model (e.g. 512 for Bert).\n",
      "  warnings.warn(\n",
      "2it [00:00,  4.53it/s]"
     ]
    },
    {
     "name": "stdout",
     "output_type": "stream",
     "text": [
      "Validation Loss per 100 steps: 0.5649397969245911\n",
      "Validation Accuracy per 100 steps: 91.66666666666667\n"
     ]
    },
    {
     "name": "stderr",
     "output_type": "stream",
     "text": [
      "1223it [04:27,  4.58it/s]"
     ]
    },
    {
     "name": "stdout",
     "output_type": "stream",
     "text": [
      "Validation Loss Epoch: 0.8167944342166015\n",
      "Validation Accuracy Epoch: 68.15703380588877\n"
     ]
    },
    {
     "name": "stderr",
     "output_type": "stream",
     "text": [
      "\n"
     ]
    },
    {
     "ename": "TypeError",
     "evalue": "not all arguments converted during string formatting",
     "output_type": "error",
     "traceback": [
      "\u001b[0;31m---------------------------------------------------------------------------\u001b[0m",
      "\u001b[0;31mTypeError\u001b[0m                                 Traceback (most recent call last)",
      "\u001b[0;32m<ipython-input-72-aeae107146f7>\u001b[0m in \u001b[0;36m<cell line: 2>\u001b[0;34m()\u001b[0m\n\u001b[1;32m      1\u001b[0m \u001b[0macc\u001b[0m \u001b[0;34m=\u001b[0m \u001b[0mvalid\u001b[0m\u001b[0;34m(\u001b[0m\u001b[0mmodel\u001b[0m\u001b[0;34m,\u001b[0m \u001b[0mtesting_loader\u001b[0m\u001b[0;34m)\u001b[0m\u001b[0;34m\u001b[0m\u001b[0;34m\u001b[0m\u001b[0m\n\u001b[0;32m----> 2\u001b[0;31m \u001b[0mprint\u001b[0m\u001b[0;34m(\u001b[0m\u001b[0;34m\"Accuracy on test data = %0.2f%%\"\u001b[0m \u001b[0;34m%\u001b[0m \u001b[0macc\u001b[0m\u001b[0;34m)\u001b[0m\u001b[0;34m\u001b[0m\u001b[0;34m\u001b[0m\u001b[0m\n\u001b[0m",
      "\u001b[0;31mTypeError\u001b[0m: not all arguments converted during string formatting"
     ]
    }
   ],
   "source": [
    "acc = valid(model, testing_loader)\n",
    "print(\"Accuracy on test data = %0.2f%%\" % acc)"
   ]
  },
  {
   "cell_type": "markdown",
   "metadata": {
    "id": "tZgO6C1BqE1a"
   },
   "source": [
    "<a id='section07'></a>\n",
    "### Saving the Trained Model Artifacts for inference\n",
    "\n",
    "This is the final step in the process of fine tuning the model.\n",
    "\n",
    "The model and its vocabulary are saved locally. These files are then used in the future to make inference on new inputs of news headlines."
   ]
  },
  {
   "cell_type": "code",
   "execution_count": 1,
   "metadata": {
    "id": "8eKt004BKjyT"
   },
   "outputs": [],
   "source": [
    "output_model_file = 'roberta_classification.bin'\n",
    "output_vocab_file = './'\n",
    "#model_to_save = model\n",
    "#torch.save(model_to_save, output_model_file)\n",
    "#tokenizer.save_vocabulary(output_vocab_file)"
   ]
  },
  {
   "cell_type": "code",
   "execution_count": null,
   "metadata": {
    "id": "155rjKJdCIj5"
   },
   "outputs": [],
   "source": [
    "#!cp best_model.pt '/content/gdrive/MyDrive/ColabNotebooks/NLP Project/Roberta_model_pretrained/'"
   ]
  }
 ],
 "metadata": {
  "accelerator": "GPU",
  "colab": {
   "provenance": []
  },
  "kernelspec": {
   "display_name": "venv_lda_implementation",
   "language": "python",
   "name": "python3"
  },
  "language_info": {
   "codemirror_mode": {
    "name": "ipython",
    "version": 3
   },
   "file_extension": ".py",
   "mimetype": "text/x-python",
   "name": "python",
   "nbconvert_exporter": "python",
   "pygments_lexer": "ipython3",
   "version": "3.12.3"
  }
 },
 "nbformat": 4,
 "nbformat_minor": 0
}
